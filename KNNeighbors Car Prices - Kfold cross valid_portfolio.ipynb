{
 "cells": [
  {
   "cell_type": "markdown",
   "metadata": {},
   "source": [
    "## 1. Introduction to the dataset"
   ]
  },
  {
   "cell_type": "code",
   "execution_count": 1,
   "metadata": {},
   "outputs": [],
   "source": [
    "import pandas as pd\n",
    "import numpy as np\n",
    "import matplotlib.pyplot as plt\n",
    "from sklearn.neighbors import KNeighborsRegressor\n",
    "from sklearn.model_selection import KFold\n",
    "from sklearn.model_selection import cross_val_score\n",
    "\n",
    "columns_names = ['symboling','normalized-losses','make','fuel-type','aspiration','num-of-doors','body-style','drive-wheels','engine-location','wheel-base','length','width','height','curb-weight','engine-type','num-of-cylinders','engine-size','fuel-system','bore','stroke','compression-ratio','horsepower','peak-rpm','city-mpg','highway-mpg','price']\n",
    "cars = pd.read_csv('imports-85.data',names = columns_names)\n",
    "rs = 1"
   ]
  },
  {
   "cell_type": "code",
   "execution_count": 2,
   "metadata": {},
   "outputs": [
    {
     "data": {
      "text/plain": [
       "symboling              int64\n",
       "normalized-losses     object\n",
       "make                  object\n",
       "fuel-type             object\n",
       "aspiration            object\n",
       "num-of-doors          object\n",
       "body-style            object\n",
       "drive-wheels          object\n",
       "engine-location       object\n",
       "wheel-base           float64\n",
       "length               float64\n",
       "width                float64\n",
       "height               float64\n",
       "curb-weight            int64\n",
       "engine-type           object\n",
       "num-of-cylinders      object\n",
       "engine-size            int64\n",
       "fuel-system           object\n",
       "bore                  object\n",
       "stroke                object\n",
       "compression-ratio    float64\n",
       "horsepower            object\n",
       "peak-rpm              object\n",
       "city-mpg               int64\n",
       "highway-mpg            int64\n",
       "price                 object\n",
       "dtype: object"
      ]
     },
     "execution_count": 2,
     "metadata": {},
     "output_type": "execute_result"
    }
   ],
   "source": [
    "cars.dtypes"
   ]
  },
  {
   "cell_type": "code",
   "execution_count": 3,
   "metadata": {},
   "outputs": [],
   "source": [
    "#Identificação das colunas numéricas\n",
    "numeric_cols = cars.select_dtypes(include = ['int64','float64']).columns.values\n",
    "\n",
    "#Removendo a coluna symboling, que é uma espécie de index, e não uma feature\n",
    "numeric_cols = numeric_cols[numeric_cols != 'symboling']"
   ]
  },
  {
   "cell_type": "code",
   "execution_count": 4,
   "metadata": {},
   "outputs": [
    {
     "data": {
      "text/html": [
       "<div>\n",
       "<style scoped>\n",
       "    .dataframe tbody tr th:only-of-type {\n",
       "        vertical-align: middle;\n",
       "    }\n",
       "\n",
       "    .dataframe tbody tr th {\n",
       "        vertical-align: top;\n",
       "    }\n",
       "\n",
       "    .dataframe thead th {\n",
       "        text-align: right;\n",
       "    }\n",
       "</style>\n",
       "<table border=\"1\" class=\"dataframe\">\n",
       "  <thead>\n",
       "    <tr style=\"text-align: right;\">\n",
       "      <th></th>\n",
       "      <th>normalized-losses</th>\n",
       "      <th>make</th>\n",
       "      <th>fuel-type</th>\n",
       "      <th>aspiration</th>\n",
       "      <th>num-of-doors</th>\n",
       "      <th>body-style</th>\n",
       "      <th>drive-wheels</th>\n",
       "      <th>engine-location</th>\n",
       "      <th>engine-type</th>\n",
       "      <th>num-of-cylinders</th>\n",
       "      <th>fuel-system</th>\n",
       "      <th>bore</th>\n",
       "      <th>stroke</th>\n",
       "      <th>horsepower</th>\n",
       "      <th>peak-rpm</th>\n",
       "      <th>price</th>\n",
       "    </tr>\n",
       "  </thead>\n",
       "  <tbody>\n",
       "    <tr>\n",
       "      <th>29</th>\n",
       "      <td>145</td>\n",
       "      <td>dodge</td>\n",
       "      <td>gas</td>\n",
       "      <td>turbo</td>\n",
       "      <td>two</td>\n",
       "      <td>hatchback</td>\n",
       "      <td>fwd</td>\n",
       "      <td>front</td>\n",
       "      <td>ohc</td>\n",
       "      <td>four</td>\n",
       "      <td>mfi</td>\n",
       "      <td>3.60</td>\n",
       "      <td>3.90</td>\n",
       "      <td>145</td>\n",
       "      <td>5000</td>\n",
       "      <td>12964</td>\n",
       "    </tr>\n",
       "    <tr>\n",
       "      <th>96</th>\n",
       "      <td>122</td>\n",
       "      <td>nissan</td>\n",
       "      <td>gas</td>\n",
       "      <td>std</td>\n",
       "      <td>four</td>\n",
       "      <td>sedan</td>\n",
       "      <td>fwd</td>\n",
       "      <td>front</td>\n",
       "      <td>ohc</td>\n",
       "      <td>four</td>\n",
       "      <td>2bbl</td>\n",
       "      <td>3.15</td>\n",
       "      <td>3.29</td>\n",
       "      <td>69</td>\n",
       "      <td>5200</td>\n",
       "      <td>7499</td>\n",
       "    </tr>\n",
       "    <tr>\n",
       "      <th>34</th>\n",
       "      <td>101</td>\n",
       "      <td>honda</td>\n",
       "      <td>gas</td>\n",
       "      <td>std</td>\n",
       "      <td>two</td>\n",
       "      <td>hatchback</td>\n",
       "      <td>fwd</td>\n",
       "      <td>front</td>\n",
       "      <td>ohc</td>\n",
       "      <td>four</td>\n",
       "      <td>1bbl</td>\n",
       "      <td>2.91</td>\n",
       "      <td>3.41</td>\n",
       "      <td>76</td>\n",
       "      <td>6000</td>\n",
       "      <td>7129</td>\n",
       "    </tr>\n",
       "    <tr>\n",
       "      <th>99</th>\n",
       "      <td>106</td>\n",
       "      <td>nissan</td>\n",
       "      <td>gas</td>\n",
       "      <td>std</td>\n",
       "      <td>four</td>\n",
       "      <td>hatchback</td>\n",
       "      <td>fwd</td>\n",
       "      <td>front</td>\n",
       "      <td>ohc</td>\n",
       "      <td>four</td>\n",
       "      <td>2bbl</td>\n",
       "      <td>3.33</td>\n",
       "      <td>3.47</td>\n",
       "      <td>97</td>\n",
       "      <td>5200</td>\n",
       "      <td>8949</td>\n",
       "    </tr>\n",
       "    <tr>\n",
       "      <th>168</th>\n",
       "      <td>134</td>\n",
       "      <td>toyota</td>\n",
       "      <td>gas</td>\n",
       "      <td>std</td>\n",
       "      <td>two</td>\n",
       "      <td>hardtop</td>\n",
       "      <td>rwd</td>\n",
       "      <td>front</td>\n",
       "      <td>ohc</td>\n",
       "      <td>four</td>\n",
       "      <td>mpfi</td>\n",
       "      <td>3.62</td>\n",
       "      <td>3.50</td>\n",
       "      <td>116</td>\n",
       "      <td>4800</td>\n",
       "      <td>9639</td>\n",
       "    </tr>\n",
       "  </tbody>\n",
       "</table>\n",
       "</div>"
      ],
      "text/plain": [
       "    normalized-losses    make fuel-type aspiration num-of-doors body-style  \\\n",
       "29                145   dodge       gas      turbo          two  hatchback   \n",
       "96                122  nissan       gas        std         four      sedan   \n",
       "34                101   honda       gas        std          two  hatchback   \n",
       "99                106  nissan       gas        std         four  hatchback   \n",
       "168               134  toyota       gas        std          two    hardtop   \n",
       "\n",
       "    drive-wheels engine-location engine-type num-of-cylinders fuel-system  \\\n",
       "29           fwd           front         ohc             four         mfi   \n",
       "96           fwd           front         ohc             four        2bbl   \n",
       "34           fwd           front         ohc             four        1bbl   \n",
       "99           fwd           front         ohc             four        2bbl   \n",
       "168          rwd           front         ohc             four        mpfi   \n",
       "\n",
       "     bore stroke horsepower peak-rpm  price  \n",
       "29   3.60   3.90        145     5000  12964  \n",
       "96   3.15   3.29         69     5200   7499  \n",
       "34   2.91   3.41         76     6000   7129  \n",
       "99   3.33   3.47         97     5200   8949  \n",
       "168  3.62   3.50        116     4800   9639  "
      ]
     },
     "execution_count": 4,
     "metadata": {},
     "output_type": "execute_result"
    }
   ],
   "source": [
    "#Analisando colunas não numéricas para ver se alguma contém informação numérica salva como string\n",
    "cars.select_dtypes(include = 'object').sample(5)"
   ]
  },
  {
   "cell_type": "code",
   "execution_count": 5,
   "metadata": {},
   "outputs": [],
   "source": [
    "#Incluindo colunas 'object' que na verdade representam valores numéricos\n",
    "numeric_cols = np.append(numeric_cols,['num-of-doors','num-of-cylinders','bore','stroke','horsepower','peak-rpm','price'])"
   ]
  },
  {
   "cell_type": "markdown",
   "metadata": {},
   "source": [
    "## 2. Data Cleaning"
   ]
  },
  {
   "cell_type": "code",
   "execution_count": 6,
   "metadata": {},
   "outputs": [
    {
     "name": "stderr",
     "output_type": "stream",
     "text": [
      "C:\\Users\\pedro\\Anaconda3\\lib\\site-packages\\pandas\\core\\ops\\array_ops.py:253: FutureWarning: elementwise comparison failed; returning scalar instead, but in the future will perform elementwise comparison\n",
      "  res_values = method(rvalues)\n"
     ]
    },
    {
     "data": {
      "text/plain": [
       "wheel-base           0\n",
       "length               0\n",
       "width                0\n",
       "height               0\n",
       "curb-weight          0\n",
       "engine-size          0\n",
       "compression-ratio    0\n",
       "city-mpg             0\n",
       "highway-mpg          0\n",
       "num-of-doors         2\n",
       "num-of-cylinders     0\n",
       "bore                 4\n",
       "stroke               4\n",
       "horsepower           2\n",
       "peak-rpm             2\n",
       "price                4\n",
       "dtype: int64"
      ]
     },
     "execution_count": 6,
     "metadata": {},
     "output_type": "execute_result"
    }
   ],
   "source": [
    "cars = cars[numeric_cols]\n",
    "test_missing = cars == \"?\"\n",
    "test_missing.sum()"
   ]
  },
  {
   "cell_type": "code",
   "execution_count": 7,
   "metadata": {},
   "outputs": [],
   "source": [
    "cars.replace(\"?\",np.nan, inplace = True)"
   ]
  },
  {
   "cell_type": "code",
   "execution_count": 8,
   "metadata": {},
   "outputs": [
    {
     "name": "stdout",
     "output_type": "stream",
     "text": [
      "<class 'pandas.core.frame.DataFrame'>\n",
      "RangeIndex: 205 entries, 0 to 204\n",
      "Data columns (total 16 columns):\n",
      " #   Column             Non-Null Count  Dtype  \n",
      "---  ------             --------------  -----  \n",
      " 0   wheel-base         205 non-null    float64\n",
      " 1   length             205 non-null    float64\n",
      " 2   width              205 non-null    float64\n",
      " 3   height             205 non-null    float64\n",
      " 4   curb-weight        205 non-null    int64  \n",
      " 5   engine-size        205 non-null    int64  \n",
      " 6   compression-ratio  205 non-null    float64\n",
      " 7   city-mpg           205 non-null    int64  \n",
      " 8   highway-mpg        205 non-null    int64  \n",
      " 9   num-of-doors       203 non-null    object \n",
      " 10  num-of-cylinders   205 non-null    object \n",
      " 11  bore               201 non-null    object \n",
      " 12  stroke             201 non-null    object \n",
      " 13  horsepower         203 non-null    object \n",
      " 14  peak-rpm           203 non-null    object \n",
      " 15  price              201 non-null    object \n",
      "dtypes: float64(5), int64(4), object(7)\n",
      "memory usage: 25.8+ KB\n"
     ]
    }
   ],
   "source": [
    "cars.info()"
   ]
  },
  {
   "cell_type": "code",
   "execution_count": 9,
   "metadata": {},
   "outputs": [
    {
     "name": "stdout",
     "output_type": "stream",
     "text": [
      "<class 'pandas.core.frame.DataFrame'>\n",
      "RangeIndex: 205 entries, 0 to 204\n",
      "Data columns (total 16 columns):\n",
      " #   Column             Non-Null Count  Dtype  \n",
      "---  ------             --------------  -----  \n",
      " 0   wheel-base         205 non-null    float64\n",
      " 1   length             205 non-null    float64\n",
      " 2   width              205 non-null    float64\n",
      " 3   height             205 non-null    float64\n",
      " 4   curb-weight        205 non-null    int64  \n",
      " 5   engine-size        205 non-null    int64  \n",
      " 6   compression-ratio  205 non-null    float64\n",
      " 7   city-mpg           205 non-null    int64  \n",
      " 8   highway-mpg        205 non-null    int64  \n",
      " 9   num-of-doors       203 non-null    object \n",
      " 10  num-of-cylinders   205 non-null    object \n",
      " 11  bore               201 non-null    float64\n",
      " 12  stroke             201 non-null    float64\n",
      " 13  horsepower         203 non-null    float64\n",
      " 14  peak-rpm           203 non-null    float64\n",
      " 15  price              201 non-null    float64\n",
      "dtypes: float64(10), int64(4), object(2)\n",
      "memory usage: 25.8+ KB\n"
     ]
    }
   ],
   "source": [
    "cars[['bore','stroke','horsepower','peak-rpm','price']] = cars[['bore','stroke','horsepower','peak-rpm','price']].astype(float)\n",
    "cars.info()"
   ]
  },
  {
   "cell_type": "code",
   "execution_count": 10,
   "metadata": {},
   "outputs": [
    {
     "data": {
      "text/plain": [
       "four      159\n",
       "six        24\n",
       "five       11\n",
       "eight       5\n",
       "two         4\n",
       "three       1\n",
       "twelve      1\n",
       "Name: num-of-cylinders, dtype: int64"
      ]
     },
     "execution_count": 10,
     "metadata": {},
     "output_type": "execute_result"
    }
   ],
   "source": [
    "cars['num-of-cylinders'].value_counts(dropna = False)"
   ]
  },
  {
   "cell_type": "code",
   "execution_count": 11,
   "metadata": {},
   "outputs": [
    {
     "data": {
      "text/plain": [
       "4     159\n",
       "6      24\n",
       "5      11\n",
       "8       5\n",
       "2       4\n",
       "12      1\n",
       "3       1\n",
       "Name: num-of-cylinders, dtype: int64"
      ]
     },
     "execution_count": 11,
     "metadata": {},
     "output_type": "execute_result"
    }
   ],
   "source": [
    "num_cyl = {'four':4,'six':6,'five':5,'eight':8,'two':2,'three':3,'twelve':12}\n",
    "cars['num-of-cylinders'].replace(to_replace = num_cyl, inplace = True)\n",
    "cars['num-of-cylinders'].value_counts(dropna = False) "
   ]
  },
  {
   "cell_type": "code",
   "execution_count": 12,
   "metadata": {},
   "outputs": [
    {
     "data": {
      "text/plain": [
       "four    114\n",
       "two      89\n",
       "NaN       2\n",
       "Name: num-of-doors, dtype: int64"
      ]
     },
     "execution_count": 12,
     "metadata": {},
     "output_type": "execute_result"
    }
   ],
   "source": [
    "cars['num-of-doors'].value_counts(dropna = False)"
   ]
  },
  {
   "cell_type": "code",
   "execution_count": 13,
   "metadata": {},
   "outputs": [
    {
     "data": {
      "text/plain": [
       "4.0    114\n",
       "2.0     89\n",
       "NaN      2\n",
       "Name: num-of-doors, dtype: int64"
      ]
     },
     "execution_count": 13,
     "metadata": {},
     "output_type": "execute_result"
    }
   ],
   "source": [
    "cars['num-of-doors'].replace(to_replace = {'four':4,'two':2}, inplace = True)\n",
    "cars['num-of-doors'].value_counts(dropna = False)"
   ]
  },
  {
   "cell_type": "code",
   "execution_count": 14,
   "metadata": {},
   "outputs": [
    {
     "name": "stdout",
     "output_type": "stream",
     "text": [
      "<class 'pandas.core.frame.DataFrame'>\n",
      "RangeIndex: 205 entries, 0 to 204\n",
      "Data columns (total 16 columns):\n",
      " #   Column             Non-Null Count  Dtype  \n",
      "---  ------             --------------  -----  \n",
      " 0   wheel-base         205 non-null    float64\n",
      " 1   length             205 non-null    float64\n",
      " 2   width              205 non-null    float64\n",
      " 3   height             205 non-null    float64\n",
      " 4   curb-weight        205 non-null    int64  \n",
      " 5   engine-size        205 non-null    int64  \n",
      " 6   compression-ratio  205 non-null    float64\n",
      " 7   city-mpg           205 non-null    int64  \n",
      " 8   highway-mpg        205 non-null    int64  \n",
      " 9   num-of-doors       203 non-null    float64\n",
      " 10  num-of-cylinders   205 non-null    int64  \n",
      " 11  bore               201 non-null    float64\n",
      " 12  stroke             201 non-null    float64\n",
      " 13  horsepower         203 non-null    float64\n",
      " 14  peak-rpm           203 non-null    float64\n",
      " 15  price              201 non-null    float64\n",
      "dtypes: float64(11), int64(5)\n",
      "memory usage: 25.8 KB\n"
     ]
    }
   ],
   "source": [
    "cars.info()"
   ]
  },
  {
   "cell_type": "code",
   "execution_count": 15,
   "metadata": {},
   "outputs": [
    {
     "data": {
      "text/html": [
       "<div>\n",
       "<style scoped>\n",
       "    .dataframe tbody tr th:only-of-type {\n",
       "        vertical-align: middle;\n",
       "    }\n",
       "\n",
       "    .dataframe tbody tr th {\n",
       "        vertical-align: top;\n",
       "    }\n",
       "\n",
       "    .dataframe thead th {\n",
       "        text-align: right;\n",
       "    }\n",
       "</style>\n",
       "<table border=\"1\" class=\"dataframe\">\n",
       "  <thead>\n",
       "    <tr style=\"text-align: right;\">\n",
       "      <th></th>\n",
       "      <th>wheel-base</th>\n",
       "      <th>length</th>\n",
       "      <th>width</th>\n",
       "      <th>height</th>\n",
       "      <th>curb-weight</th>\n",
       "      <th>engine-size</th>\n",
       "      <th>compression-ratio</th>\n",
       "      <th>city-mpg</th>\n",
       "      <th>highway-mpg</th>\n",
       "      <th>num-of-doors</th>\n",
       "      <th>num-of-cylinders</th>\n",
       "      <th>bore</th>\n",
       "      <th>stroke</th>\n",
       "      <th>horsepower</th>\n",
       "      <th>peak-rpm</th>\n",
       "      <th>price</th>\n",
       "    </tr>\n",
       "  </thead>\n",
       "  <tbody>\n",
       "    <tr>\n",
       "      <th>27</th>\n",
       "      <td>93.7</td>\n",
       "      <td>157.3</td>\n",
       "      <td>63.8</td>\n",
       "      <td>50.6</td>\n",
       "      <td>2191</td>\n",
       "      <td>98</td>\n",
       "      <td>7.6</td>\n",
       "      <td>24</td>\n",
       "      <td>30</td>\n",
       "      <td>NaN</td>\n",
       "      <td>4</td>\n",
       "      <td>3.03</td>\n",
       "      <td>3.39</td>\n",
       "      <td>102.0</td>\n",
       "      <td>5500.0</td>\n",
       "      <td>8558.0</td>\n",
       "    </tr>\n",
       "    <tr>\n",
       "      <th>63</th>\n",
       "      <td>98.8</td>\n",
       "      <td>177.8</td>\n",
       "      <td>66.5</td>\n",
       "      <td>55.5</td>\n",
       "      <td>2443</td>\n",
       "      <td>122</td>\n",
       "      <td>22.7</td>\n",
       "      <td>36</td>\n",
       "      <td>42</td>\n",
       "      <td>NaN</td>\n",
       "      <td>4</td>\n",
       "      <td>3.39</td>\n",
       "      <td>3.39</td>\n",
       "      <td>64.0</td>\n",
       "      <td>4650.0</td>\n",
       "      <td>10795.0</td>\n",
       "    </tr>\n",
       "  </tbody>\n",
       "</table>\n",
       "</div>"
      ],
      "text/plain": [
       "    wheel-base  length  width  height  curb-weight  engine-size  \\\n",
       "27        93.7   157.3   63.8    50.6         2191           98   \n",
       "63        98.8   177.8   66.5    55.5         2443          122   \n",
       "\n",
       "    compression-ratio  city-mpg  highway-mpg  num-of-doors  num-of-cylinders  \\\n",
       "27                7.6        24           30           NaN                 4   \n",
       "63               22.7        36           42           NaN                 4   \n",
       "\n",
       "    bore  stroke  horsepower  peak-rpm    price  \n",
       "27  3.03    3.39       102.0    5500.0   8558.0  \n",
       "63  3.39    3.39        64.0    4650.0  10795.0  "
      ]
     },
     "execution_count": 15,
     "metadata": {},
     "output_type": "execute_result"
    }
   ],
   "source": [
    "cars[cars['num-of-doors'].isnull()]"
   ]
  },
  {
   "cell_type": "code",
   "execution_count": 16,
   "metadata": {},
   "outputs": [
    {
     "data": {
      "text/html": [
       "<div>\n",
       "<style scoped>\n",
       "    .dataframe tbody tr th:only-of-type {\n",
       "        vertical-align: middle;\n",
       "    }\n",
       "\n",
       "    .dataframe tbody tr th {\n",
       "        vertical-align: top;\n",
       "    }\n",
       "\n",
       "    .dataframe thead th {\n",
       "        text-align: right;\n",
       "    }\n",
       "</style>\n",
       "<table border=\"1\" class=\"dataframe\">\n",
       "  <thead>\n",
       "    <tr style=\"text-align: right;\">\n",
       "      <th></th>\n",
       "      <th>wheel-base</th>\n",
       "      <th>length</th>\n",
       "      <th>width</th>\n",
       "      <th>height</th>\n",
       "      <th>curb-weight</th>\n",
       "      <th>engine-size</th>\n",
       "      <th>compression-ratio</th>\n",
       "      <th>city-mpg</th>\n",
       "      <th>highway-mpg</th>\n",
       "      <th>num-of-doors</th>\n",
       "      <th>num-of-cylinders</th>\n",
       "      <th>bore</th>\n",
       "      <th>stroke</th>\n",
       "      <th>horsepower</th>\n",
       "      <th>peak-rpm</th>\n",
       "      <th>price</th>\n",
       "    </tr>\n",
       "  </thead>\n",
       "  <tbody>\n",
       "    <tr>\n",
       "      <th>55</th>\n",
       "      <td>95.3</td>\n",
       "      <td>169.0</td>\n",
       "      <td>65.7</td>\n",
       "      <td>49.6</td>\n",
       "      <td>2380</td>\n",
       "      <td>70</td>\n",
       "      <td>9.4</td>\n",
       "      <td>17</td>\n",
       "      <td>23</td>\n",
       "      <td>2.0</td>\n",
       "      <td>2</td>\n",
       "      <td>NaN</td>\n",
       "      <td>NaN</td>\n",
       "      <td>101.0</td>\n",
       "      <td>6000.0</td>\n",
       "      <td>10945.0</td>\n",
       "    </tr>\n",
       "    <tr>\n",
       "      <th>56</th>\n",
       "      <td>95.3</td>\n",
       "      <td>169.0</td>\n",
       "      <td>65.7</td>\n",
       "      <td>49.6</td>\n",
       "      <td>2380</td>\n",
       "      <td>70</td>\n",
       "      <td>9.4</td>\n",
       "      <td>17</td>\n",
       "      <td>23</td>\n",
       "      <td>2.0</td>\n",
       "      <td>2</td>\n",
       "      <td>NaN</td>\n",
       "      <td>NaN</td>\n",
       "      <td>101.0</td>\n",
       "      <td>6000.0</td>\n",
       "      <td>11845.0</td>\n",
       "    </tr>\n",
       "    <tr>\n",
       "      <th>57</th>\n",
       "      <td>95.3</td>\n",
       "      <td>169.0</td>\n",
       "      <td>65.7</td>\n",
       "      <td>49.6</td>\n",
       "      <td>2385</td>\n",
       "      <td>70</td>\n",
       "      <td>9.4</td>\n",
       "      <td>17</td>\n",
       "      <td>23</td>\n",
       "      <td>2.0</td>\n",
       "      <td>2</td>\n",
       "      <td>NaN</td>\n",
       "      <td>NaN</td>\n",
       "      <td>101.0</td>\n",
       "      <td>6000.0</td>\n",
       "      <td>13645.0</td>\n",
       "    </tr>\n",
       "    <tr>\n",
       "      <th>58</th>\n",
       "      <td>95.3</td>\n",
       "      <td>169.0</td>\n",
       "      <td>65.7</td>\n",
       "      <td>49.6</td>\n",
       "      <td>2500</td>\n",
       "      <td>80</td>\n",
       "      <td>9.4</td>\n",
       "      <td>16</td>\n",
       "      <td>23</td>\n",
       "      <td>2.0</td>\n",
       "      <td>2</td>\n",
       "      <td>NaN</td>\n",
       "      <td>NaN</td>\n",
       "      <td>135.0</td>\n",
       "      <td>6000.0</td>\n",
       "      <td>15645.0</td>\n",
       "    </tr>\n",
       "  </tbody>\n",
       "</table>\n",
       "</div>"
      ],
      "text/plain": [
       "    wheel-base  length  width  height  curb-weight  engine-size  \\\n",
       "55        95.3   169.0   65.7    49.6         2380           70   \n",
       "56        95.3   169.0   65.7    49.6         2380           70   \n",
       "57        95.3   169.0   65.7    49.6         2385           70   \n",
       "58        95.3   169.0   65.7    49.6         2500           80   \n",
       "\n",
       "    compression-ratio  city-mpg  highway-mpg  num-of-doors  num-of-cylinders  \\\n",
       "55                9.4        17           23           2.0                 2   \n",
       "56                9.4        17           23           2.0                 2   \n",
       "57                9.4        17           23           2.0                 2   \n",
       "58                9.4        16           23           2.0                 2   \n",
       "\n",
       "    bore  stroke  horsepower  peak-rpm    price  \n",
       "55   NaN     NaN       101.0    6000.0  10945.0  \n",
       "56   NaN     NaN       101.0    6000.0  11845.0  \n",
       "57   NaN     NaN       101.0    6000.0  13645.0  \n",
       "58   NaN     NaN       135.0    6000.0  15645.0  "
      ]
     },
     "execution_count": 16,
     "metadata": {},
     "output_type": "execute_result"
    }
   ],
   "source": [
    "cars[cars['bore'].isnull()]"
   ]
  },
  {
   "cell_type": "code",
   "execution_count": 17,
   "metadata": {},
   "outputs": [
    {
     "data": {
      "text/html": [
       "<div>\n",
       "<style scoped>\n",
       "    .dataframe tbody tr th:only-of-type {\n",
       "        vertical-align: middle;\n",
       "    }\n",
       "\n",
       "    .dataframe tbody tr th {\n",
       "        vertical-align: top;\n",
       "    }\n",
       "\n",
       "    .dataframe thead th {\n",
       "        text-align: right;\n",
       "    }\n",
       "</style>\n",
       "<table border=\"1\" class=\"dataframe\">\n",
       "  <thead>\n",
       "    <tr style=\"text-align: right;\">\n",
       "      <th></th>\n",
       "      <th>wheel-base</th>\n",
       "      <th>length</th>\n",
       "      <th>width</th>\n",
       "      <th>height</th>\n",
       "      <th>curb-weight</th>\n",
       "      <th>engine-size</th>\n",
       "      <th>compression-ratio</th>\n",
       "      <th>city-mpg</th>\n",
       "      <th>highway-mpg</th>\n",
       "      <th>num-of-doors</th>\n",
       "      <th>num-of-cylinders</th>\n",
       "      <th>bore</th>\n",
       "      <th>stroke</th>\n",
       "      <th>horsepower</th>\n",
       "      <th>peak-rpm</th>\n",
       "      <th>price</th>\n",
       "    </tr>\n",
       "  </thead>\n",
       "  <tbody>\n",
       "    <tr>\n",
       "      <th>130</th>\n",
       "      <td>96.1</td>\n",
       "      <td>181.5</td>\n",
       "      <td>66.5</td>\n",
       "      <td>55.2</td>\n",
       "      <td>2579</td>\n",
       "      <td>132</td>\n",
       "      <td>8.7</td>\n",
       "      <td>23</td>\n",
       "      <td>31</td>\n",
       "      <td>4.0</td>\n",
       "      <td>4</td>\n",
       "      <td>3.46</td>\n",
       "      <td>3.9</td>\n",
       "      <td>NaN</td>\n",
       "      <td>NaN</td>\n",
       "      <td>9295.0</td>\n",
       "    </tr>\n",
       "    <tr>\n",
       "      <th>131</th>\n",
       "      <td>96.1</td>\n",
       "      <td>176.8</td>\n",
       "      <td>66.6</td>\n",
       "      <td>50.5</td>\n",
       "      <td>2460</td>\n",
       "      <td>132</td>\n",
       "      <td>8.7</td>\n",
       "      <td>23</td>\n",
       "      <td>31</td>\n",
       "      <td>2.0</td>\n",
       "      <td>4</td>\n",
       "      <td>3.46</td>\n",
       "      <td>3.9</td>\n",
       "      <td>NaN</td>\n",
       "      <td>NaN</td>\n",
       "      <td>9895.0</td>\n",
       "    </tr>\n",
       "  </tbody>\n",
       "</table>\n",
       "</div>"
      ],
      "text/plain": [
       "     wheel-base  length  width  height  curb-weight  engine-size  \\\n",
       "130        96.1   181.5   66.5    55.2         2579          132   \n",
       "131        96.1   176.8   66.6    50.5         2460          132   \n",
       "\n",
       "     compression-ratio  city-mpg  highway-mpg  num-of-doors  num-of-cylinders  \\\n",
       "130                8.7        23           31           4.0                 4   \n",
       "131                8.7        23           31           2.0                 4   \n",
       "\n",
       "     bore  stroke  horsepower  peak-rpm   price  \n",
       "130  3.46     3.9         NaN       NaN  9295.0  \n",
       "131  3.46     3.9         NaN       NaN  9895.0  "
      ]
     },
     "execution_count": 17,
     "metadata": {},
     "output_type": "execute_result"
    }
   ],
   "source": [
    "cars[cars['horsepower'].isnull()]"
   ]
  },
  {
   "cell_type": "code",
   "execution_count": 18,
   "metadata": {},
   "outputs": [
    {
     "data": {
      "text/html": [
       "<div>\n",
       "<style scoped>\n",
       "    .dataframe tbody tr th:only-of-type {\n",
       "        vertical-align: middle;\n",
       "    }\n",
       "\n",
       "    .dataframe tbody tr th {\n",
       "        vertical-align: top;\n",
       "    }\n",
       "\n",
       "    .dataframe thead th {\n",
       "        text-align: right;\n",
       "    }\n",
       "</style>\n",
       "<table border=\"1\" class=\"dataframe\">\n",
       "  <thead>\n",
       "    <tr style=\"text-align: right;\">\n",
       "      <th></th>\n",
       "      <th>wheel-base</th>\n",
       "      <th>length</th>\n",
       "      <th>width</th>\n",
       "      <th>height</th>\n",
       "      <th>curb-weight</th>\n",
       "      <th>engine-size</th>\n",
       "      <th>compression-ratio</th>\n",
       "      <th>city-mpg</th>\n",
       "      <th>highway-mpg</th>\n",
       "      <th>num-of-doors</th>\n",
       "      <th>num-of-cylinders</th>\n",
       "      <th>bore</th>\n",
       "      <th>stroke</th>\n",
       "      <th>horsepower</th>\n",
       "      <th>peak-rpm</th>\n",
       "      <th>price</th>\n",
       "    </tr>\n",
       "  </thead>\n",
       "  <tbody>\n",
       "    <tr>\n",
       "      <th>9</th>\n",
       "      <td>99.5</td>\n",
       "      <td>178.2</td>\n",
       "      <td>67.9</td>\n",
       "      <td>52.0</td>\n",
       "      <td>3053</td>\n",
       "      <td>131</td>\n",
       "      <td>7.0</td>\n",
       "      <td>16</td>\n",
       "      <td>22</td>\n",
       "      <td>2.0</td>\n",
       "      <td>5</td>\n",
       "      <td>3.13</td>\n",
       "      <td>3.40</td>\n",
       "      <td>160.0</td>\n",
       "      <td>5500.0</td>\n",
       "      <td>NaN</td>\n",
       "    </tr>\n",
       "    <tr>\n",
       "      <th>44</th>\n",
       "      <td>94.5</td>\n",
       "      <td>155.9</td>\n",
       "      <td>63.6</td>\n",
       "      <td>52.0</td>\n",
       "      <td>1874</td>\n",
       "      <td>90</td>\n",
       "      <td>9.6</td>\n",
       "      <td>38</td>\n",
       "      <td>43</td>\n",
       "      <td>2.0</td>\n",
       "      <td>4</td>\n",
       "      <td>3.03</td>\n",
       "      <td>3.11</td>\n",
       "      <td>70.0</td>\n",
       "      <td>5400.0</td>\n",
       "      <td>NaN</td>\n",
       "    </tr>\n",
       "    <tr>\n",
       "      <th>45</th>\n",
       "      <td>94.5</td>\n",
       "      <td>155.9</td>\n",
       "      <td>63.6</td>\n",
       "      <td>52.0</td>\n",
       "      <td>1909</td>\n",
       "      <td>90</td>\n",
       "      <td>9.6</td>\n",
       "      <td>38</td>\n",
       "      <td>43</td>\n",
       "      <td>4.0</td>\n",
       "      <td>4</td>\n",
       "      <td>3.03</td>\n",
       "      <td>3.11</td>\n",
       "      <td>70.0</td>\n",
       "      <td>5400.0</td>\n",
       "      <td>NaN</td>\n",
       "    </tr>\n",
       "    <tr>\n",
       "      <th>129</th>\n",
       "      <td>98.4</td>\n",
       "      <td>175.7</td>\n",
       "      <td>72.3</td>\n",
       "      <td>50.5</td>\n",
       "      <td>3366</td>\n",
       "      <td>203</td>\n",
       "      <td>10.0</td>\n",
       "      <td>17</td>\n",
       "      <td>28</td>\n",
       "      <td>2.0</td>\n",
       "      <td>8</td>\n",
       "      <td>3.94</td>\n",
       "      <td>3.11</td>\n",
       "      <td>288.0</td>\n",
       "      <td>5750.0</td>\n",
       "      <td>NaN</td>\n",
       "    </tr>\n",
       "  </tbody>\n",
       "</table>\n",
       "</div>"
      ],
      "text/plain": [
       "     wheel-base  length  width  height  curb-weight  engine-size  \\\n",
       "9          99.5   178.2   67.9    52.0         3053          131   \n",
       "44         94.5   155.9   63.6    52.0         1874           90   \n",
       "45         94.5   155.9   63.6    52.0         1909           90   \n",
       "129        98.4   175.7   72.3    50.5         3366          203   \n",
       "\n",
       "     compression-ratio  city-mpg  highway-mpg  num-of-doors  num-of-cylinders  \\\n",
       "9                  7.0        16           22           2.0                 5   \n",
       "44                 9.6        38           43           2.0                 4   \n",
       "45                 9.6        38           43           4.0                 4   \n",
       "129               10.0        17           28           2.0                 8   \n",
       "\n",
       "     bore  stroke  horsepower  peak-rpm  price  \n",
       "9    3.13    3.40       160.0    5500.0    NaN  \n",
       "44   3.03    3.11        70.0    5400.0    NaN  \n",
       "45   3.03    3.11        70.0    5400.0    NaN  \n",
       "129  3.94    3.11       288.0    5750.0    NaN  "
      ]
     },
     "execution_count": 18,
     "metadata": {},
     "output_type": "execute_result"
    }
   ],
   "source": [
    "cars[cars['price'].isnull()]"
   ]
  },
  {
   "cell_type": "code",
   "execution_count": 19,
   "metadata": {},
   "outputs": [
    {
     "data": {
      "text/plain": [
       "5.853658536585367"
      ]
     },
     "execution_count": 19,
     "metadata": {},
     "output_type": "execute_result"
    }
   ],
   "source": [
    "a=12/205*100\n",
    "a #rows with one or more null values represent 5.85% of the dataset. Lets drop them entirely."
   ]
  },
  {
   "cell_type": "code",
   "execution_count": 20,
   "metadata": {},
   "outputs": [],
   "source": [
    "cars = cars.dropna()"
   ]
  },
  {
   "cell_type": "code",
   "execution_count": 21,
   "metadata": {},
   "outputs": [
    {
     "name": "stdout",
     "output_type": "stream",
     "text": [
      "<class 'pandas.core.frame.DataFrame'>\n",
      "Int64Index: 193 entries, 0 to 204\n",
      "Data columns (total 16 columns):\n",
      " #   Column             Non-Null Count  Dtype  \n",
      "---  ------             --------------  -----  \n",
      " 0   wheel-base         193 non-null    float64\n",
      " 1   length             193 non-null    float64\n",
      " 2   width              193 non-null    float64\n",
      " 3   height             193 non-null    float64\n",
      " 4   curb-weight        193 non-null    int64  \n",
      " 5   engine-size        193 non-null    int64  \n",
      " 6   compression-ratio  193 non-null    float64\n",
      " 7   city-mpg           193 non-null    int64  \n",
      " 8   highway-mpg        193 non-null    int64  \n",
      " 9   num-of-doors       193 non-null    float64\n",
      " 10  num-of-cylinders   193 non-null    int64  \n",
      " 11  bore               193 non-null    float64\n",
      " 12  stroke             193 non-null    float64\n",
      " 13  horsepower         193 non-null    float64\n",
      " 14  peak-rpm           193 non-null    float64\n",
      " 15  price              193 non-null    float64\n",
      "dtypes: float64(11), int64(5)\n",
      "memory usage: 25.6 KB\n"
     ]
    }
   ],
   "source": [
    "cars.info()"
   ]
  },
  {
   "cell_type": "code",
   "execution_count": 22,
   "metadata": {},
   "outputs": [],
   "source": [
    "normalized_cars = (cars - cars.mean())/cars.std()\n",
    "normalized_cars['price'] = cars['price']"
   ]
  },
  {
   "cell_type": "code",
   "execution_count": 23,
   "metadata": {},
   "outputs": [
    {
     "data": {
      "text/html": [
       "<div>\n",
       "<style scoped>\n",
       "    .dataframe tbody tr th:only-of-type {\n",
       "        vertical-align: middle;\n",
       "    }\n",
       "\n",
       "    .dataframe tbody tr th {\n",
       "        vertical-align: top;\n",
       "    }\n",
       "\n",
       "    .dataframe thead th {\n",
       "        text-align: right;\n",
       "    }\n",
       "</style>\n",
       "<table border=\"1\" class=\"dataframe\">\n",
       "  <thead>\n",
       "    <tr style=\"text-align: right;\">\n",
       "      <th></th>\n",
       "      <th>wheel-base</th>\n",
       "      <th>length</th>\n",
       "      <th>width</th>\n",
       "      <th>height</th>\n",
       "      <th>curb-weight</th>\n",
       "      <th>engine-size</th>\n",
       "      <th>compression-ratio</th>\n",
       "      <th>city-mpg</th>\n",
       "      <th>highway-mpg</th>\n",
       "      <th>num-of-doors</th>\n",
       "      <th>num-of-cylinders</th>\n",
       "      <th>bore</th>\n",
       "      <th>stroke</th>\n",
       "      <th>horsepower</th>\n",
       "      <th>peak-rpm</th>\n",
       "      <th>price</th>\n",
       "    </tr>\n",
       "  </thead>\n",
       "  <tbody>\n",
       "    <tr>\n",
       "      <th>5</th>\n",
       "      <td>0.142410</td>\n",
       "      <td>0.238294</td>\n",
       "      <td>0.190017</td>\n",
       "      <td>-0.321512</td>\n",
       "      <td>-0.103489</td>\n",
       "      <td>0.189362</td>\n",
       "      <td>-0.413232</td>\n",
       "      <td>-0.990387</td>\n",
       "      <td>-0.849001</td>\n",
       "      <td>-1.172839</td>\n",
       "      <td>0.567163</td>\n",
       "      <td>-0.516262</td>\n",
       "      <td>0.479169</td>\n",
       "      <td>0.171710</td>\n",
       "      <td>0.853987</td>\n",
       "      <td>15250.0</td>\n",
       "    </tr>\n",
       "    <tr>\n",
       "      <th>124</th>\n",
       "      <td>-0.491488</td>\n",
       "      <td>-0.090269</td>\n",
       "      <td>0.190017</td>\n",
       "      <td>-1.532484</td>\n",
       "      <td>0.486980</td>\n",
       "      <td>0.670242</td>\n",
       "      <td>-0.790354</td>\n",
       "      <td>-0.990387</td>\n",
       "      <td>-0.995695</td>\n",
       "      <td>-1.172839</td>\n",
       "      <td>-0.410180</td>\n",
       "      <td>0.952250</td>\n",
       "      <td>1.937538</td>\n",
       "      <td>1.093731</td>\n",
       "      <td>-0.212806</td>\n",
       "      <td>12764.0</td>\n",
       "    </tr>\n",
       "    <tr>\n",
       "      <th>123</th>\n",
       "      <td>0.711293</td>\n",
       "      <td>0.021924</td>\n",
       "      <td>-0.605195</td>\n",
       "      <td>2.476251</td>\n",
       "      <td>-0.050328</td>\n",
       "      <td>-0.147254</td>\n",
       "      <td>-0.413232</td>\n",
       "      <td>-0.207649</td>\n",
       "      <td>-0.115531</td>\n",
       "      <td>0.848214</td>\n",
       "      <td>-0.410180</td>\n",
       "      <td>0.071143</td>\n",
       "      <td>0.669391</td>\n",
       "      <td>-0.407846</td>\n",
       "      <td>-0.212806</td>\n",
       "      <td>8921.0</td>\n",
       "    </tr>\n",
       "    <tr>\n",
       "      <th>161</th>\n",
       "      <td>-0.523995</td>\n",
       "      <td>-0.643216</td>\n",
       "      <td>-0.698749</td>\n",
       "      <td>-0.446785</td>\n",
       "      <td>-0.834456</td>\n",
       "      <td>-0.724309</td>\n",
       "      <td>-0.287525</td>\n",
       "      <td>0.418542</td>\n",
       "      <td>0.471245</td>\n",
       "      <td>0.848214</td>\n",
       "      <td>-0.410180</td>\n",
       "      <td>-0.516262</td>\n",
       "      <td>-0.693867</td>\n",
       "      <td>-0.882028</td>\n",
       "      <td>-0.639523</td>\n",
       "      <td>8358.0</td>\n",
       "    </tr>\n",
       "    <tr>\n",
       "      <th>49</th>\n",
       "      <td>0.499994</td>\n",
       "      <td>1.392270</td>\n",
       "      <td>2.201435</td>\n",
       "      <td>-2.534668</td>\n",
       "      <td>2.636211</td>\n",
       "      <td>4.757718</td>\n",
       "      <td>0.341012</td>\n",
       "      <td>-1.929674</td>\n",
       "      <td>-2.022553</td>\n",
       "      <td>-1.172839</td>\n",
       "      <td>7.408563</td>\n",
       "      <td>0.768686</td>\n",
       "      <td>-1.549866</td>\n",
       "      <td>4.175914</td>\n",
       "      <td>-0.212806</td>\n",
       "      <td>36000.0</td>\n",
       "    </tr>\n",
       "  </tbody>\n",
       "</table>\n",
       "</div>"
      ],
      "text/plain": [
       "     wheel-base    length     width    height  curb-weight  engine-size  \\\n",
       "5      0.142410  0.238294  0.190017 -0.321512    -0.103489     0.189362   \n",
       "124   -0.491488 -0.090269  0.190017 -1.532484     0.486980     0.670242   \n",
       "123    0.711293  0.021924 -0.605195  2.476251    -0.050328    -0.147254   \n",
       "161   -0.523995 -0.643216 -0.698749 -0.446785    -0.834456    -0.724309   \n",
       "49     0.499994  1.392270  2.201435 -2.534668     2.636211     4.757718   \n",
       "\n",
       "     compression-ratio  city-mpg  highway-mpg  num-of-doors  num-of-cylinders  \\\n",
       "5            -0.413232 -0.990387    -0.849001     -1.172839          0.567163   \n",
       "124          -0.790354 -0.990387    -0.995695     -1.172839         -0.410180   \n",
       "123          -0.413232 -0.207649    -0.115531      0.848214         -0.410180   \n",
       "161          -0.287525  0.418542     0.471245      0.848214         -0.410180   \n",
       "49            0.341012 -1.929674    -2.022553     -1.172839          7.408563   \n",
       "\n",
       "         bore    stroke  horsepower  peak-rpm    price  \n",
       "5   -0.516262  0.479169    0.171710  0.853987  15250.0  \n",
       "124  0.952250  1.937538    1.093731 -0.212806  12764.0  \n",
       "123  0.071143  0.669391   -0.407846 -0.212806   8921.0  \n",
       "161 -0.516262 -0.693867   -0.882028 -0.639523   8358.0  \n",
       "49   0.768686 -1.549866    4.175914 -0.212806  36000.0  "
      ]
     },
     "execution_count": 23,
     "metadata": {},
     "output_type": "execute_result"
    }
   ],
   "source": [
    "normalized_cars.sample(5)"
   ]
  },
  {
   "cell_type": "markdown",
   "metadata": {},
   "source": [
    "## 3. Univariate KNN Model using Cross Fold Validation"
   ]
  },
  {
   "cell_type": "code",
   "execution_count": 24,
   "metadata": {},
   "outputs": [],
   "source": [
    "def univariate_knn_cross_fold(feature,df = normalized_cars,target = 'price',k = 5):   \n",
    "    model = KNeighborsRegressor(n_neighbors = k)\n",
    "    k_fold = KFold(n_splits=5, shuffle=True, random_state= rs)\n",
    "    mses = cross_val_score(model,df[[feature]],df[[target]],scoring = 'neg_mean_squared_error', cv = k_fold)\n",
    "    rmses = (np.absolute(mses))**0.5\n",
    "    avg_rmse = np.mean(rmses)\n",
    "    return avg_rmse"
   ]
  },
  {
   "cell_type": "code",
   "execution_count": 25,
   "metadata": {},
   "outputs": [
    {
     "data": {
      "text/plain": [
       "3244.618559197672"
      ]
     },
     "execution_count": 25,
     "metadata": {},
     "output_type": "execute_result"
    }
   ],
   "source": [
    "univariate_knn_cross_fold(feature = 'engine-size', k = 3)"
   ]
  },
  {
   "cell_type": "code",
   "execution_count": 26,
   "metadata": {},
   "outputs": [
    {
     "data": {
      "text/plain": [
       "[<matplotlib.lines.Line2D at 0x17e5f537880>]"
      ]
     },
     "execution_count": 26,
     "metadata": {},
     "output_type": "execute_result"
    },
    {
     "data": {
      "image/png": "[encoded data removed]",
      "text/plain": [
       "<Figure size 432x288 with 1 Axes>"
      ]
     },
     "metadata": {
      "needs_background": "light"
     },
     "output_type": "display_data"
    }
   ],
   "source": [
    "k_values = {}\n",
    "\n",
    "for i in range(1,11,2):\n",
    "    k_values[i] = univariate_knn_cross_fold(feature = 'engine-size',df = normalized_cars,target = 'price',k = i)\n",
    "        \n",
    "x = list(k_values.keys())\n",
    "y = list(k_values.values())\n",
    "\n",
    "plt.title(\"RMSE per number of neighbors, with 'engine-size' as the only feature\")\n",
    "plt.plot(x,y)"
   ]
  },
  {
   "cell_type": "code",
   "execution_count": 27,
   "metadata": {},
   "outputs": [
    {
     "data": {
      "text/plain": [
       "engine-size          3179.500756\n",
       "horsepower           3965.815026\n",
       "curb-weight          4139.620194\n",
       "city-mpg             4172.737507\n",
       "highway-mpg          4416.539895\n",
       "width                4707.336966\n",
       "length               5207.326031\n",
       "wheel-base           5719.290972\n",
       "compression-ratio    6683.751566\n",
       "stroke               7302.688658\n",
       "bore                 7585.908002\n",
       "height               7608.255204\n",
       "peak-rpm             7640.543271\n",
       "num-of-cylinders     8334.652419\n",
       "num-of-doors         8639.692651\n",
       "dtype: float64"
      ]
     },
     "execution_count": 27,
     "metadata": {},
     "output_type": "execute_result"
    }
   ],
   "source": [
    "feature_rmse = {}\n",
    "\n",
    "for col in ['num-of-doors', 'wheel-base', 'length', 'width', 'height',\n",
    "       'curb-weight', 'num-of-cylinders', 'engine-size', 'bore', 'stroke',\n",
    "       'compression-ratio', 'horsepower', 'peak-rpm', 'city-mpg',\n",
    "       'highway-mpg']:\n",
    "    root_mean_squared_error = univariate_knn_cross_fold(df = normalized_cars,feature = col,target = 'price', k = 5)\n",
    "    feature_rmse[col] = root_mean_squared_error\n",
    "\n",
    "feature_rmse = pd.Series(feature_rmse)\n",
    "feature_rmse = feature_rmse.sort_values()\n",
    "feature_rmse"
   ]
  },
  {
   "cell_type": "code",
   "execution_count": 28,
   "metadata": {},
   "outputs": [
    {
     "data": {
      "text/plain": [
       "array(['engine-size', 'horsepower', 'curb-weight', 'city-mpg',\n",
       "       'highway-mpg', 'width'], dtype=object)"
      ]
     },
     "execution_count": 28,
     "metadata": {},
     "output_type": "execute_result"
    }
   ],
   "source": [
    "six_best_features_cross_fold = feature_rmse.index.values[0:6]\n",
    "six_best_features_cross_fold"
   ]
  },
  {
   "cell_type": "markdown",
   "metadata": {},
   "source": [
    "* Testando valores de k com 6 melhores features"
   ]
  },
  {
   "cell_type": "code",
   "execution_count": 29,
   "metadata": {},
   "outputs": [
    {
     "data": {
      "text/plain": [
       "array(['engine-size', 'horsepower', 'curb-weight', 'city-mpg',\n",
       "       'highway-mpg', 'width'], dtype=object)"
      ]
     },
     "execution_count": 29,
     "metadata": {},
     "output_type": "execute_result"
    }
   ],
   "source": [
    "six_best_features_cross_fold"
   ]
  },
  {
   "cell_type": "code",
   "execution_count": 30,
   "metadata": {},
   "outputs": [],
   "source": [
    "dict_feature_k_rmse_cross_fold = {}\n",
    "\n",
    "for f in six_best_features_cross_fold:\n",
    "    temp_feature_k_dict = {}\n",
    "    for n_neighbors in range(1,11,2):\n",
    "        temp_feature_k_dict[n_neighbors] = univariate_knn_cross_fold(df = normalized_cars,feature = f,target = 'price', k = n_neighbors)\n",
    "    dict_feature_k_rmse_cross_fold[f] =  temp_feature_k_dict \n"
   ]
  },
  {
   "cell_type": "code",
   "execution_count": 31,
   "metadata": {},
   "outputs": [
    {
     "data": {
      "image/png": "[encoded data removed]",
      "text/plain": [
       "<Figure size 576x432 with 1 Axes>"
      ]
     },
     "metadata": {
      "needs_background": "light"
     },
     "output_type": "display_data"
    }
   ],
   "source": [
    "figure = plt.figure(figsize = [8,6])\n",
    "ax1 = figure.add_subplot(1,1,1)\n",
    "\n",
    "for key in dict_feature_k_rmse_cross_fold:\n",
    "    x = range(1,11,2)\n",
    "    y = list(dict_feature_k_rmse_cross_fold[key].values())\n",
    "    ax1.plot(x,y, label = key)\n",
    "\n",
    "ax1.legend()\n",
    "ax1.set_xlabel('k = number or neighbors')\n",
    "ax1.set_ylabel('RMSE')\n",
    "ax1.set_ylim(2000,8000)\n",
    "ax1.set_title(\"Univariate Model RMSE x k - Cross Fold Validation\")\n",
    "\n",
    "plt.show()"
   ]
  },
  {
   "cell_type": "markdown",
   "metadata": {},
   "source": [
    "* Calculating the 6 best features, using the mean for n_neighbors between 1 and 9"
   ]
  },
  {
   "cell_type": "code",
   "execution_count": 32,
   "metadata": {},
   "outputs": [
    {
     "data": {
      "text/plain": [
       "engine-size    3404.838945\n",
       "horsepower     4108.193968\n",
       "city-mpg       4447.322503\n",
       "curb-weight    4452.357326\n",
       "width          4685.117193\n",
       "highway-mpg    4766.727000\n",
       "dtype: float64"
      ]
     },
     "execution_count": 32,
     "metadata": {},
     "output_type": "execute_result"
    }
   ],
   "source": [
    "avg_rmse_feature = {}\n",
    "\n",
    "for key in dict_feature_k_rmse_cross_fold:\n",
    "    avg_rmse = np.average(list(dict_feature_k_rmse_cross_fold[key].values()))\n",
    "    avg_rmse_feature[key] = avg_rmse\n",
    "\n",
    "six_best_features_cross_fold = pd.Series(avg_rmse_feature).sort_values()\n",
    "six_best_features_cross_fold"
   ]
  },
  {
   "cell_type": "markdown",
   "metadata": {},
   "source": [
    "## 4.2. Multivariate Model - Cross Fold Validation"
   ]
  },
  {
   "cell_type": "code",
   "execution_count": 33,
   "metadata": {},
   "outputs": [],
   "source": [
    "def multivariate_knn_cross_fold(feature,df = normalized_cars,target = 'price',k = 5):   \n",
    "    model = KNeighborsRegressor(n_neighbors = k)\n",
    "    k_fold = KFold(n_splits=5, shuffle=True, random_state= rs)\n",
    "    mses = cross_val_score(model,df[feature],df[[target]],scoring = 'neg_mean_squared_error', cv = k_fold)\n",
    "    rmses = (np.absolute(mses))**0.5\n",
    "    avg_rmse = np.mean(rmses)\n",
    "    return avg_rmse"
   ]
  },
  {
   "cell_type": "code",
   "execution_count": 34,
   "metadata": {},
   "outputs": [
    {
     "data": {
      "text/plain": [
       "1    3244.618559\n",
       "2    2930.005982\n",
       "3    2885.613267\n",
       "4    2777.594989\n",
       "5    2786.084591\n",
       "6    2956.321134\n",
       "dtype: float64"
      ]
     },
     "execution_count": 34,
     "metadata": {},
     "output_type": "execute_result"
    }
   ],
   "source": [
    "six_best_features_cross_fold = pd.Series(six_best_features_cross_fold)\n",
    "number_features_rmse_cross_fold = {}\n",
    "\n",
    "for i in range(1,7):\n",
    "    features = six_best_features_cross_fold[0:i].keys().values\n",
    "    number_features_rmse_cross_fold[i] = multivariate_knn_cross_fold(feature = features, k = 3)\n",
    "\n",
    "pd.Series(number_features_rmse_cross_fold)"
   ]
  },
  {
   "cell_type": "markdown",
   "metadata": {},
   "source": [
    "## 5.1. Hyperparameter Tuning - Cross fold validation"
   ]
  },
  {
   "cell_type": "code",
   "execution_count": 35,
   "metadata": {},
   "outputs": [
    {
     "data": {
      "text/plain": [
       "{\"['engine-size']\": {1: 3858.5869848939556,\n",
       "  2: 3253.0982338214644,\n",
       "  3: 3244.618559197672,\n",
       "  4: 3107.8055701172243,\n",
       "  5: 3179.5007556120813,\n",
       "  6: 3252.677890298296,\n",
       "  7: 3351.913411215262,\n",
       "  8: 3453.4707466024834,\n",
       "  9: 3389.5750130382403,\n",
       "  10: 3411.281924990897,\n",
       "  11: 3465.2722333600846,\n",
       "  12: 3565.5937260244928,\n",
       "  13: 3668.4114452219474,\n",
       "  14: 3788.965399236936,\n",
       "  15: 3869.3989253881527,\n",
       "  16: 3929.8693173609818,\n",
       "  17: 3987.7609971401957,\n",
       "  18: 4031.51787690573,\n",
       "  19: 4129.67503348199,\n",
       "  20: 4224.000311317905,\n",
       "  21: 4304.8930388027,\n",
       "  22: 4333.263432032515,\n",
       "  23: 4385.955334475281,\n",
       "  24: 4417.826252887882,\n",
       "  25: 4456.280336089015},\n",
       " \"['engine-size' 'horsepower']\": {1: 3297.1802217275485,\n",
       "  2: 2844.8506969034343,\n",
       "  3: 2930.005981681948,\n",
       "  4: 2964.0620957221763,\n",
       "  5: 3068.072893566577,\n",
       "  6: 3148.062653634363,\n",
       "  7: 3172.090674241893,\n",
       "  8: 3258.674023340924,\n",
       "  9: 3349.5290928795102,\n",
       "  10: 3473.4391585078033,\n",
       "  11: 3655.933021919476,\n",
       "  12: 3836.3153486327283,\n",
       "  13: 3957.347535837478,\n",
       "  14: 4020.063735626635,\n",
       "  15: 4122.25519183581,\n",
       "  16: 4173.489841284689,\n",
       "  17: 4199.753122849313,\n",
       "  18: 4290.037010311831,\n",
       "  19: 4375.7978831011815,\n",
       "  20: 4475.074794023135,\n",
       "  21: 4524.395554960187,\n",
       "  22: 4582.395167654491,\n",
       "  23: 4619.6247940613375,\n",
       "  24: 4659.576956834857,\n",
       "  25: 4697.10011373047},\n",
       " \"['engine-size' 'horsepower' 'city-mpg']\": {1: 3149.4142654586312,\n",
       "  2: 2756.1914218970924,\n",
       "  3: 2885.6132666637554,\n",
       "  4: 2961.350244166325,\n",
       "  5: 2992.529963400594,\n",
       "  6: 3061.5996462327753,\n",
       "  7: 3081.6066898865784,\n",
       "  8: 3204.622107418904,\n",
       "  9: 3339.4015850654155,\n",
       "  10: 3495.2937935196874,\n",
       "  11: 3670.6546341321578,\n",
       "  12: 3806.402699509734,\n",
       "  13: 3953.266000732616,\n",
       "  14: 4045.413417726377,\n",
       "  15: 4136.977011568893,\n",
       "  16: 4210.141900178406,\n",
       "  17: 4264.2790793774575,\n",
       "  18: 4353.079447556151,\n",
       "  19: 4452.892710700289,\n",
       "  20: 4514.0534042860845,\n",
       "  21: 4561.014427999388,\n",
       "  22: 4621.392962851806,\n",
       "  23: 4671.72750121333,\n",
       "  24: 4708.578931164039,\n",
       "  25: 4749.552277257514},\n",
       " \"['engine-size' 'horsepower' 'city-mpg' 'curb-weight']\": {1: 2679.1105281932637,\n",
       "  2: 2448.297214749308,\n",
       "  3: 2777.594988782325,\n",
       "  4: 2890.4949605219554,\n",
       "  5: 3051.1607452745693,\n",
       "  6: 3156.603629677561,\n",
       "  7: 3218.7276629215844,\n",
       "  8: 3462.4996128698576,\n",
       "  9: 3573.050965543994,\n",
       "  10: 3650.1529656224097,\n",
       "  11: 3714.6146979440905,\n",
       "  12: 3863.638807093387,\n",
       "  13: 3942.222820860653,\n",
       "  14: 3949.6444784788278,\n",
       "  15: 3981.3266524939777,\n",
       "  16: 4040.9612951456793,\n",
       "  17: 4073.1229561098758,\n",
       "  18: 4139.956473845056,\n",
       "  19: 4176.795878996941,\n",
       "  20: 4199.408804246923,\n",
       "  21: 4267.072773289767,\n",
       "  22: 4317.57273234087,\n",
       "  23: 4355.872023320683,\n",
       "  24: 4385.487738579037,\n",
       "  25: 4411.525909203567}}"
      ]
     },
     "execution_count": 35,
     "metadata": {},
     "output_type": "execute_result"
    }
   ],
   "source": [
    "feature_rmse_cross_fold = {}\n",
    "\n",
    "for i in range(1,5):\n",
    "    features = six_best_features_cross_fold[0:i].keys().values\n",
    "    k_per_feature_temp = {}\n",
    "    for n_neighbors in range(1,26):\n",
    "        k_per_feature_temp[n_neighbors] = multivariate_knn_cross_fold(feature = features, k = n_neighbors)\n",
    "    feature_rmse_cross_fold[str(features)] = k_per_feature_temp\n",
    "    \n",
    "feature_rmse_cross_fold"
   ]
  },
  {
   "cell_type": "code",
   "execution_count": 36,
   "metadata": {},
   "outputs": [
    {
     "data": {
      "image/png": "[encoded data removed]",
      "text/plain": [
       "<Figure size 576x432 with 1 Axes>"
      ]
     },
     "metadata": {
      "needs_background": "light"
     },
     "output_type": "display_data"
    }
   ],
   "source": [
    "%matplotlib inline\n",
    "figure3 = plt.figure(figsize = [8,6])\n",
    "ax3 = figure3.add_subplot(1,1,1)\n",
    "\n",
    "for key in feature_rmse_cross_fold:\n",
    "    x = list(feature_rmse_cross_fold[key].keys())\n",
    "    y = list(feature_rmse_cross_fold[key].values())\n",
    "    ax3.plot(x,y, label = key)\n",
    "\n",
    "ax3.legend()\n",
    "ax3.set_xlabel('k = number or neighbors')\n",
    "ax3.set_ylabel('RMSE')\n",
    "ax3.set_ylim(2000,6000)\n",
    "ax3.set_title(\"Multivariate Model RMSE x k - Cross fold validation\")\n",
    "plt.xticks(np.arange(min(x), max(x)+1, 1.0))\n",
    "plt.show()"
   ]
  },
  {
   "cell_type": "code",
   "execution_count": 47,
   "metadata": {},
   "outputs": [
    {
     "data": {
      "text/plain": [
       "3051.1607452745693"
      ]
     },
     "execution_count": 47,
     "metadata": {},
     "output_type": "execute_result"
    }
   ],
   "source": [
    "features = six_best_features_cross_fold.keys().values[:4]\n",
    "\n",
    "multivariate_knn_cross_fold(feature = features, k = 5)"
   ]
  },
  {
   "cell_type": "code",
   "execution_count": null,
   "metadata": {},
   "outputs": [],
   "source": []
  }
 ],
 "metadata": {
  "kernelspec": {
   "display_name": "Python 3",
   "language": "python",
   "name": "python3"
  },
  "language_info": {
   "codemirror_mode": {
    "name": "ipython",
    "version": 3
   },
   "file_extension": ".py",
   "mimetype": "text/x-python",
   "name": "python",
   "nbconvert_exporter": "python",
   "pygments_lexer": "ipython3",
   "version": "3.8.3"
  }
 },
 "nbformat": 4,
 "nbformat_minor": 4
}
