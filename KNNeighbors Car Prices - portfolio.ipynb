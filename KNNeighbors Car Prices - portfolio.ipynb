{
 "cells": [
  {
   "cell_type": "markdown",
   "metadata": {},
   "source": [
    "## 1. Introdução e objetivo do projeto\n",
    "\n",
    "* O objetivo desse projeto é criar um modelo de machine learning para estimar o preço de um veículo com base em suas características, utilizando o método K-nearest neighbors. A eficácia do modelo será medida com base na raiz do erro quadrado médio (root mean squared error). O Dataset utilizado pode ser baixado aqui https://archive.ics.uci.edu/ml/datasets/automobile\n",
    "\n",
    "\n",
    "* Esse projeto foi desenvolvido por mim como parte do curso de \"Machine Learning Introduction\" do Dataquest, um site americano que oferece cursos pagos de ciência de dados. O Dataquest oferece projetos guiados ao término de cada módulo, onde os alunos aplicam os conceitos aprendidos no módulo. Nos projetos guiados são utilizados datasets reais e os alunos recebem instruções gerais de como resolver o problema proposto. O site oferece a \"solução\" para cada projeto guiado, que pode ser encontrada no seguinte link https://github.com/dataquestio/solutions/blob/master/Mission155Solutions.ipynb Como estou iniciando em data-science, obviamente tive que recorrer à solução disponibilizada pelo site, no entanto, escrevi meu próprio código e em várias etapas melhorei o código em relação à solução apresentada.\n",
    "\n",
    "\n"
   ]
  },
  {
   "cell_type": "markdown",
   "metadata": {},
   "source": [
    "## 2. Importação das bibliotecas e leitura do dataset"
   ]
  },
  {
   "cell_type": "code",
   "execution_count": 1,
   "metadata": {},
   "outputs": [],
   "source": [
    "import pandas as pd\n",
    "import numpy as np\n",
    "import matplotlib.pyplot as plt\n",
    "from sklearn.neighbors import KNeighborsRegressor\n",
    "from sklearn.model_selection import KFold\n",
    "from sklearn.model_selection import cross_val_score\n",
    "\n",
    "columns_names = ['symboling','normalized-losses','make','fuel-type','aspiration','num-of-doors','body-style','drive-wheels','engine-location','wheel-base','length','width','height','curb-weight','engine-type','num-of-cylinders','engine-size','fuel-system','bore','stroke','compression-ratio','horsepower','peak-rpm','city-mpg','highway-mpg','price']\n",
    "cars = pd.read_csv('imports-85.data',names = columns_names)\n",
    "rs = 1 #Random state que vamos usar ao longo da análise para manter a restrabilidade do código"
   ]
  },
  {
   "cell_type": "code",
   "execution_count": 2,
   "metadata": {},
   "outputs": [
    {
     "data": {
      "text/plain": [
       "symboling              int64\n",
       "normalized-losses     object\n",
       "make                  object\n",
       "fuel-type             object\n",
       "aspiration            object\n",
       "num-of-doors          object\n",
       "body-style            object\n",
       "drive-wheels          object\n",
       "engine-location       object\n",
       "wheel-base           float64\n",
       "length               float64\n",
       "width                float64\n",
       "height               float64\n",
       "curb-weight            int64\n",
       "engine-type           object\n",
       "num-of-cylinders      object\n",
       "engine-size            int64\n",
       "fuel-system           object\n",
       "bore                  object\n",
       "stroke                object\n",
       "compression-ratio    float64\n",
       "horsepower            object\n",
       "peak-rpm              object\n",
       "city-mpg               int64\n",
       "highway-mpg            int64\n",
       "price                 object\n",
       "dtype: object"
      ]
     },
     "execution_count": 2,
     "metadata": {},
     "output_type": "execute_result"
    }
   ],
   "source": [
    "cars.dtypes"
   ]
  },
  {
   "cell_type": "code",
   "execution_count": 3,
   "metadata": {},
   "outputs": [],
   "source": [
    "#Identificação das colunas numéricas\n",
    "numeric_cols = cars.select_dtypes(include = ['int64','float64']).columns.values\n",
    "\n",
    "#Removendo a coluna symboling, que não tem informações relevantes para nossa análise\n",
    "#de acordo com o site onde foi disponibilizado o dataset, essa coluna traz informações sobre o risco\n",
    "#associado ao tipo de veículo (o dataset original foi elaborado por uma seguradora)\n",
    "numeric_cols = numeric_cols[numeric_cols != 'symboling']"
   ]
  },
  {
   "cell_type": "code",
   "execution_count": 4,
   "metadata": {},
   "outputs": [
    {
     "data": {
      "text/html": [
       "<div>\n",
       "<style scoped>\n",
       "    .dataframe tbody tr th:only-of-type {\n",
       "        vertical-align: middle;\n",
       "    }\n",
       "\n",
       "    .dataframe tbody tr th {\n",
       "        vertical-align: top;\n",
       "    }\n",
       "\n",
       "    .dataframe thead th {\n",
       "        text-align: right;\n",
       "    }\n",
       "</style>\n",
       "<table border=\"1\" class=\"dataframe\">\n",
       "  <thead>\n",
       "    <tr style=\"text-align: right;\">\n",
       "      <th></th>\n",
       "      <th>normalized-losses</th>\n",
       "      <th>make</th>\n",
       "      <th>fuel-type</th>\n",
       "      <th>aspiration</th>\n",
       "      <th>num-of-doors</th>\n",
       "      <th>body-style</th>\n",
       "      <th>drive-wheels</th>\n",
       "      <th>engine-location</th>\n",
       "      <th>engine-type</th>\n",
       "      <th>num-of-cylinders</th>\n",
       "      <th>fuel-system</th>\n",
       "      <th>bore</th>\n",
       "      <th>stroke</th>\n",
       "      <th>horsepower</th>\n",
       "      <th>peak-rpm</th>\n",
       "      <th>price</th>\n",
       "    </tr>\n",
       "  </thead>\n",
       "  <tbody>\n",
       "    <tr>\n",
       "      <th>54</th>\n",
       "      <td>113</td>\n",
       "      <td>mazda</td>\n",
       "      <td>gas</td>\n",
       "      <td>std</td>\n",
       "      <td>four</td>\n",
       "      <td>sedan</td>\n",
       "      <td>fwd</td>\n",
       "      <td>front</td>\n",
       "      <td>ohc</td>\n",
       "      <td>four</td>\n",
       "      <td>2bbl</td>\n",
       "      <td>3.08</td>\n",
       "      <td>3.15</td>\n",
       "      <td>68</td>\n",
       "      <td>5000</td>\n",
       "      <td>7395</td>\n",
       "    </tr>\n",
       "    <tr>\n",
       "      <th>30</th>\n",
       "      <td>137</td>\n",
       "      <td>honda</td>\n",
       "      <td>gas</td>\n",
       "      <td>std</td>\n",
       "      <td>two</td>\n",
       "      <td>hatchback</td>\n",
       "      <td>fwd</td>\n",
       "      <td>front</td>\n",
       "      <td>ohc</td>\n",
       "      <td>four</td>\n",
       "      <td>1bbl</td>\n",
       "      <td>2.91</td>\n",
       "      <td>3.41</td>\n",
       "      <td>58</td>\n",
       "      <td>4800</td>\n",
       "      <td>6479</td>\n",
       "    </tr>\n",
       "    <tr>\n",
       "      <th>10</th>\n",
       "      <td>192</td>\n",
       "      <td>bmw</td>\n",
       "      <td>gas</td>\n",
       "      <td>std</td>\n",
       "      <td>two</td>\n",
       "      <td>sedan</td>\n",
       "      <td>rwd</td>\n",
       "      <td>front</td>\n",
       "      <td>ohc</td>\n",
       "      <td>four</td>\n",
       "      <td>mpfi</td>\n",
       "      <td>3.50</td>\n",
       "      <td>2.80</td>\n",
       "      <td>101</td>\n",
       "      <td>5800</td>\n",
       "      <td>16430</td>\n",
       "    </tr>\n",
       "    <tr>\n",
       "      <th>108</th>\n",
       "      <td>161</td>\n",
       "      <td>peugot</td>\n",
       "      <td>diesel</td>\n",
       "      <td>turbo</td>\n",
       "      <td>four</td>\n",
       "      <td>sedan</td>\n",
       "      <td>rwd</td>\n",
       "      <td>front</td>\n",
       "      <td>l</td>\n",
       "      <td>four</td>\n",
       "      <td>idi</td>\n",
       "      <td>3.70</td>\n",
       "      <td>3.52</td>\n",
       "      <td>95</td>\n",
       "      <td>4150</td>\n",
       "      <td>13200</td>\n",
       "    </tr>\n",
       "    <tr>\n",
       "      <th>87</th>\n",
       "      <td>125</td>\n",
       "      <td>mitsubishi</td>\n",
       "      <td>gas</td>\n",
       "      <td>turbo</td>\n",
       "      <td>four</td>\n",
       "      <td>sedan</td>\n",
       "      <td>fwd</td>\n",
       "      <td>front</td>\n",
       "      <td>ohc</td>\n",
       "      <td>four</td>\n",
       "      <td>spdi</td>\n",
       "      <td>3.17</td>\n",
       "      <td>3.46</td>\n",
       "      <td>116</td>\n",
       "      <td>5500</td>\n",
       "      <td>9279</td>\n",
       "    </tr>\n",
       "  </tbody>\n",
       "</table>\n",
       "</div>"
      ],
      "text/plain": [
       "    normalized-losses        make fuel-type aspiration num-of-doors  \\\n",
       "54                113       mazda       gas        std         four   \n",
       "30                137       honda       gas        std          two   \n",
       "10                192         bmw       gas        std          two   \n",
       "108               161      peugot    diesel      turbo         four   \n",
       "87                125  mitsubishi       gas      turbo         four   \n",
       "\n",
       "    body-style drive-wheels engine-location engine-type num-of-cylinders  \\\n",
       "54       sedan          fwd           front         ohc             four   \n",
       "30   hatchback          fwd           front         ohc             four   \n",
       "10       sedan          rwd           front         ohc             four   \n",
       "108      sedan          rwd           front           l             four   \n",
       "87       sedan          fwd           front         ohc             four   \n",
       "\n",
       "    fuel-system  bore stroke horsepower peak-rpm  price  \n",
       "54         2bbl  3.08   3.15         68     5000   7395  \n",
       "30         1bbl  2.91   3.41         58     4800   6479  \n",
       "10         mpfi  3.50   2.80        101     5800  16430  \n",
       "108         idi  3.70   3.52         95     4150  13200  \n",
       "87         spdi  3.17   3.46        116     5500   9279  "
      ]
     },
     "execution_count": 4,
     "metadata": {},
     "output_type": "execute_result"
    }
   ],
   "source": [
    "#Analisando colunas não numéricas para ver se alguma contém informação numérica salva como string\n",
    "cars.select_dtypes(include = 'object').sample(5)"
   ]
  },
  {
   "cell_type": "code",
   "execution_count": 5,
   "metadata": {},
   "outputs": [],
   "source": [
    "#Vemos que as colunas 'num-of-doors','num-of-cylinders','bore','stroke','horsepower','peak-rpm','price'\n",
    "#apesar de estarem salvas como object na verdade representam valores numéricos, vamos incluí-las nas\n",
    "\n",
    "numeric_cols = np.append(numeric_cols,['num-of-doors','num-of-cylinders','bore','stroke','horsepower','peak-rpm','price'])"
   ]
  },
  {
   "cell_type": "markdown",
   "metadata": {},
   "source": [
    "## 3. Limpeza dos dados"
   ]
  },
  {
   "cell_type": "code",
   "execution_count": 6,
   "metadata": {},
   "outputs": [
    {
     "data": {
      "text/plain": [
       "wheel-base           0\n",
       "length               0\n",
       "width                0\n",
       "height               0\n",
       "curb-weight          0\n",
       "engine-size          0\n",
       "compression-ratio    0\n",
       "city-mpg             0\n",
       "highway-mpg          0\n",
       "num-of-doors         2\n",
       "num-of-cylinders     0\n",
       "bore                 4\n",
       "stroke               4\n",
       "horsepower           2\n",
       "peak-rpm             2\n",
       "price                4\n",
       "dtype: int64"
      ]
     },
     "execution_count": 6,
     "metadata": {},
     "output_type": "execute_result"
    }
   ],
   "source": [
    "#Alguns valores vazios estão como \"?\" no dataset, vamos substituílos por np.nan\n",
    "cars = cars[numeric_cols]\n",
    "test_missing = cars == \"?\"\n",
    "test_missing.sum()"
   ]
  },
  {
   "cell_type": "code",
   "execution_count": 7,
   "metadata": {},
   "outputs": [],
   "source": [
    "cars.replace(\"?\",np.nan, inplace = True)"
   ]
  },
  {
   "cell_type": "code",
   "execution_count": 8,
   "metadata": {},
   "outputs": [
    {
     "name": "stdout",
     "output_type": "stream",
     "text": [
      "<class 'pandas.core.frame.DataFrame'>\n",
      "RangeIndex: 205 entries, 0 to 204\n",
      "Data columns (total 16 columns):\n",
      " #   Column             Non-Null Count  Dtype  \n",
      "---  ------             --------------  -----  \n",
      " 0   wheel-base         205 non-null    float64\n",
      " 1   length             205 non-null    float64\n",
      " 2   width              205 non-null    float64\n",
      " 3   height             205 non-null    float64\n",
      " 4   curb-weight        205 non-null    int64  \n",
      " 5   engine-size        205 non-null    int64  \n",
      " 6   compression-ratio  205 non-null    float64\n",
      " 7   city-mpg           205 non-null    int64  \n",
      " 8   highway-mpg        205 non-null    int64  \n",
      " 9   num-of-doors       203 non-null    object \n",
      " 10  num-of-cylinders   205 non-null    object \n",
      " 11  bore               201 non-null    object \n",
      " 12  stroke             201 non-null    object \n",
      " 13  horsepower         203 non-null    object \n",
      " 14  peak-rpm           203 non-null    object \n",
      " 15  price              201 non-null    object \n",
      "dtypes: float64(5), int64(4), object(7)\n",
      "memory usage: 25.8+ KB\n"
     ]
    }
   ],
   "source": [
    "cars.info()"
   ]
  },
  {
   "cell_type": "code",
   "execution_count": 9,
   "metadata": {},
   "outputs": [
    {
     "name": "stdout",
     "output_type": "stream",
     "text": [
      "<class 'pandas.core.frame.DataFrame'>\n",
      "RangeIndex: 205 entries, 0 to 204\n",
      "Data columns (total 16 columns):\n",
      " #   Column             Non-Null Count  Dtype  \n",
      "---  ------             --------------  -----  \n",
      " 0   wheel-base         205 non-null    float64\n",
      " 1   length             205 non-null    float64\n",
      " 2   width              205 non-null    float64\n",
      " 3   height             205 non-null    float64\n",
      " 4   curb-weight        205 non-null    int64  \n",
      " 5   engine-size        205 non-null    int64  \n",
      " 6   compression-ratio  205 non-null    float64\n",
      " 7   city-mpg           205 non-null    int64  \n",
      " 8   highway-mpg        205 non-null    int64  \n",
      " 9   num-of-doors       203 non-null    object \n",
      " 10  num-of-cylinders   205 non-null    object \n",
      " 11  bore               201 non-null    float64\n",
      " 12  stroke             201 non-null    float64\n",
      " 13  horsepower         203 non-null    float64\n",
      " 14  peak-rpm           203 non-null    float64\n",
      " 15  price              201 non-null    float64\n",
      "dtypes: float64(10), int64(4), object(2)\n",
      "memory usage: 25.8+ KB\n"
     ]
    }
   ],
   "source": [
    "#As seguinte colunas já estão com números, e só precisam ser salvas como texto\n",
    "cars[['bore','stroke','horsepower','peak-rpm','price']] = cars[['bore','stroke','horsepower','peak-rpm','price']].astype(float)\n",
    "cars.info()"
   ]
  },
  {
   "cell_type": "code",
   "execution_count": 10,
   "metadata": {},
   "outputs": [
    {
     "data": {
      "text/plain": [
       "four      159\n",
       "six        24\n",
       "five       11\n",
       "eight       5\n",
       "two         4\n",
       "twelve      1\n",
       "three       1\n",
       "Name: num-of-cylinders, dtype: int64"
      ]
     },
     "execution_count": 10,
     "metadata": {},
     "output_type": "execute_result"
    }
   ],
   "source": [
    "#Vamos substituir os números que estão salvos por números\n",
    "cars['num-of-cylinders'].value_counts(dropna = False)"
   ]
  },
  {
   "cell_type": "code",
   "execution_count": 11,
   "metadata": {},
   "outputs": [
    {
     "data": {
      "text/plain": [
       "4     159\n",
       "6      24\n",
       "5      11\n",
       "8       5\n",
       "2       4\n",
       "12      1\n",
       "3       1\n",
       "Name: num-of-cylinders, dtype: int64"
      ]
     },
     "execution_count": 11,
     "metadata": {},
     "output_type": "execute_result"
    }
   ],
   "source": [
    "num_cyl = {'four':4,'six':6,'five':5,'eight':8,'two':2,'three':3,'twelve':12}\n",
    "cars['num-of-cylinders'].replace(to_replace = num_cyl, inplace = True)\n",
    "cars['num-of-cylinders'].value_counts(dropna = False) "
   ]
  },
  {
   "cell_type": "code",
   "execution_count": 12,
   "metadata": {},
   "outputs": [
    {
     "data": {
      "text/plain": [
       "four    114\n",
       "two      89\n",
       "NaN       2\n",
       "Name: num-of-doors, dtype: int64"
      ]
     },
     "execution_count": 12,
     "metadata": {},
     "output_type": "execute_result"
    }
   ],
   "source": [
    "cars['num-of-doors'].value_counts(dropna = False)"
   ]
  },
  {
   "cell_type": "code",
   "execution_count": 13,
   "metadata": {},
   "outputs": [
    {
     "data": {
      "text/plain": [
       "4.0    114\n",
       "2.0     89\n",
       "NaN      2\n",
       "Name: num-of-doors, dtype: int64"
      ]
     },
     "execution_count": 13,
     "metadata": {},
     "output_type": "execute_result"
    }
   ],
   "source": [
    "cars['num-of-doors'].replace(to_replace = {'four':4,'two':2}, inplace = True)\n",
    "cars['num-of-doors'].value_counts(dropna = False)"
   ]
  },
  {
   "cell_type": "code",
   "execution_count": 14,
   "metadata": {},
   "outputs": [
    {
     "name": "stdout",
     "output_type": "stream",
     "text": [
      "<class 'pandas.core.frame.DataFrame'>\n",
      "RangeIndex: 205 entries, 0 to 204\n",
      "Data columns (total 16 columns):\n",
      " #   Column             Non-Null Count  Dtype  \n",
      "---  ------             --------------  -----  \n",
      " 0   wheel-base         205 non-null    float64\n",
      " 1   length             205 non-null    float64\n",
      " 2   width              205 non-null    float64\n",
      " 3   height             205 non-null    float64\n",
      " 4   curb-weight        205 non-null    int64  \n",
      " 5   engine-size        205 non-null    int64  \n",
      " 6   compression-ratio  205 non-null    float64\n",
      " 7   city-mpg           205 non-null    int64  \n",
      " 8   highway-mpg        205 non-null    int64  \n",
      " 9   num-of-doors       203 non-null    float64\n",
      " 10  num-of-cylinders   205 non-null    int64  \n",
      " 11  bore               201 non-null    float64\n",
      " 12  stroke             201 non-null    float64\n",
      " 13  horsepower         203 non-null    float64\n",
      " 14  peak-rpm           203 non-null    float64\n",
      " 15  price              201 non-null    float64\n",
      "dtypes: float64(11), int64(5)\n",
      "memory usage: 25.8 KB\n"
     ]
    }
   ],
   "source": [
    "cars.info()"
   ]
  },
  {
   "cell_type": "code",
   "execution_count": 15,
   "metadata": {},
   "outputs": [
    {
     "data": {
      "text/html": [
       "<div>\n",
       "<style scoped>\n",
       "    .dataframe tbody tr th:only-of-type {\n",
       "        vertical-align: middle;\n",
       "    }\n",
       "\n",
       "    .dataframe tbody tr th {\n",
       "        vertical-align: top;\n",
       "    }\n",
       "\n",
       "    .dataframe thead th {\n",
       "        text-align: right;\n",
       "    }\n",
       "</style>\n",
       "<table border=\"1\" class=\"dataframe\">\n",
       "  <thead>\n",
       "    <tr style=\"text-align: right;\">\n",
       "      <th></th>\n",
       "      <th>wheel-base</th>\n",
       "      <th>length</th>\n",
       "      <th>width</th>\n",
       "      <th>height</th>\n",
       "      <th>curb-weight</th>\n",
       "      <th>engine-size</th>\n",
       "      <th>compression-ratio</th>\n",
       "      <th>city-mpg</th>\n",
       "      <th>highway-mpg</th>\n",
       "      <th>num-of-doors</th>\n",
       "      <th>num-of-cylinders</th>\n",
       "      <th>bore</th>\n",
       "      <th>stroke</th>\n",
       "      <th>horsepower</th>\n",
       "      <th>peak-rpm</th>\n",
       "      <th>price</th>\n",
       "    </tr>\n",
       "  </thead>\n",
       "  <tbody>\n",
       "    <tr>\n",
       "      <th>27</th>\n",
       "      <td>93.7</td>\n",
       "      <td>157.3</td>\n",
       "      <td>63.8</td>\n",
       "      <td>50.6</td>\n",
       "      <td>2191</td>\n",
       "      <td>98</td>\n",
       "      <td>7.6</td>\n",
       "      <td>24</td>\n",
       "      <td>30</td>\n",
       "      <td>NaN</td>\n",
       "      <td>4</td>\n",
       "      <td>3.03</td>\n",
       "      <td>3.39</td>\n",
       "      <td>102.0</td>\n",
       "      <td>5500.0</td>\n",
       "      <td>8558.0</td>\n",
       "    </tr>\n",
       "    <tr>\n",
       "      <th>63</th>\n",
       "      <td>98.8</td>\n",
       "      <td>177.8</td>\n",
       "      <td>66.5</td>\n",
       "      <td>55.5</td>\n",
       "      <td>2443</td>\n",
       "      <td>122</td>\n",
       "      <td>22.7</td>\n",
       "      <td>36</td>\n",
       "      <td>42</td>\n",
       "      <td>NaN</td>\n",
       "      <td>4</td>\n",
       "      <td>3.39</td>\n",
       "      <td>3.39</td>\n",
       "      <td>64.0</td>\n",
       "      <td>4650.0</td>\n",
       "      <td>10795.0</td>\n",
       "    </tr>\n",
       "  </tbody>\n",
       "</table>\n",
       "</div>"
      ],
      "text/plain": [
       "    wheel-base  length  width  height  curb-weight  engine-size  \\\n",
       "27        93.7   157.3   63.8    50.6         2191           98   \n",
       "63        98.8   177.8   66.5    55.5         2443          122   \n",
       "\n",
       "    compression-ratio  city-mpg  highway-mpg  num-of-doors  num-of-cylinders  \\\n",
       "27                7.6        24           30           NaN                 4   \n",
       "63               22.7        36           42           NaN                 4   \n",
       "\n",
       "    bore  stroke  horsepower  peak-rpm    price  \n",
       "27  3.03    3.39       102.0    5500.0   8558.0  \n",
       "63  3.39    3.39        64.0    4650.0  10795.0  "
      ]
     },
     "execution_count": 15,
     "metadata": {},
     "output_type": "execute_result"
    }
   ],
   "source": [
    "#Avaliando os valores vazios em cada uma das colunas que possuem valores vazios\n",
    "cars[cars['num-of-doors'].isnull()]"
   ]
  },
  {
   "cell_type": "code",
   "execution_count": 16,
   "metadata": {},
   "outputs": [
    {
     "data": {
      "text/html": [
       "<div>\n",
       "<style scoped>\n",
       "    .dataframe tbody tr th:only-of-type {\n",
       "        vertical-align: middle;\n",
       "    }\n",
       "\n",
       "    .dataframe tbody tr th {\n",
       "        vertical-align: top;\n",
       "    }\n",
       "\n",
       "    .dataframe thead th {\n",
       "        text-align: right;\n",
       "    }\n",
       "</style>\n",
       "<table border=\"1\" class=\"dataframe\">\n",
       "  <thead>\n",
       "    <tr style=\"text-align: right;\">\n",
       "      <th></th>\n",
       "      <th>wheel-base</th>\n",
       "      <th>length</th>\n",
       "      <th>width</th>\n",
       "      <th>height</th>\n",
       "      <th>curb-weight</th>\n",
       "      <th>engine-size</th>\n",
       "      <th>compression-ratio</th>\n",
       "      <th>city-mpg</th>\n",
       "      <th>highway-mpg</th>\n",
       "      <th>num-of-doors</th>\n",
       "      <th>num-of-cylinders</th>\n",
       "      <th>bore</th>\n",
       "      <th>stroke</th>\n",
       "      <th>horsepower</th>\n",
       "      <th>peak-rpm</th>\n",
       "      <th>price</th>\n",
       "    </tr>\n",
       "  </thead>\n",
       "  <tbody>\n",
       "    <tr>\n",
       "      <th>55</th>\n",
       "      <td>95.3</td>\n",
       "      <td>169.0</td>\n",
       "      <td>65.7</td>\n",
       "      <td>49.6</td>\n",
       "      <td>2380</td>\n",
       "      <td>70</td>\n",
       "      <td>9.4</td>\n",
       "      <td>17</td>\n",
       "      <td>23</td>\n",
       "      <td>2.0</td>\n",
       "      <td>2</td>\n",
       "      <td>NaN</td>\n",
       "      <td>NaN</td>\n",
       "      <td>101.0</td>\n",
       "      <td>6000.0</td>\n",
       "      <td>10945.0</td>\n",
       "    </tr>\n",
       "    <tr>\n",
       "      <th>56</th>\n",
       "      <td>95.3</td>\n",
       "      <td>169.0</td>\n",
       "      <td>65.7</td>\n",
       "      <td>49.6</td>\n",
       "      <td>2380</td>\n",
       "      <td>70</td>\n",
       "      <td>9.4</td>\n",
       "      <td>17</td>\n",
       "      <td>23</td>\n",
       "      <td>2.0</td>\n",
       "      <td>2</td>\n",
       "      <td>NaN</td>\n",
       "      <td>NaN</td>\n",
       "      <td>101.0</td>\n",
       "      <td>6000.0</td>\n",
       "      <td>11845.0</td>\n",
       "    </tr>\n",
       "    <tr>\n",
       "      <th>57</th>\n",
       "      <td>95.3</td>\n",
       "      <td>169.0</td>\n",
       "      <td>65.7</td>\n",
       "      <td>49.6</td>\n",
       "      <td>2385</td>\n",
       "      <td>70</td>\n",
       "      <td>9.4</td>\n",
       "      <td>17</td>\n",
       "      <td>23</td>\n",
       "      <td>2.0</td>\n",
       "      <td>2</td>\n",
       "      <td>NaN</td>\n",
       "      <td>NaN</td>\n",
       "      <td>101.0</td>\n",
       "      <td>6000.0</td>\n",
       "      <td>13645.0</td>\n",
       "    </tr>\n",
       "    <tr>\n",
       "      <th>58</th>\n",
       "      <td>95.3</td>\n",
       "      <td>169.0</td>\n",
       "      <td>65.7</td>\n",
       "      <td>49.6</td>\n",
       "      <td>2500</td>\n",
       "      <td>80</td>\n",
       "      <td>9.4</td>\n",
       "      <td>16</td>\n",
       "      <td>23</td>\n",
       "      <td>2.0</td>\n",
       "      <td>2</td>\n",
       "      <td>NaN</td>\n",
       "      <td>NaN</td>\n",
       "      <td>135.0</td>\n",
       "      <td>6000.0</td>\n",
       "      <td>15645.0</td>\n",
       "    </tr>\n",
       "  </tbody>\n",
       "</table>\n",
       "</div>"
      ],
      "text/plain": [
       "    wheel-base  length  width  height  curb-weight  engine-size  \\\n",
       "55        95.3   169.0   65.7    49.6         2380           70   \n",
       "56        95.3   169.0   65.7    49.6         2380           70   \n",
       "57        95.3   169.0   65.7    49.6         2385           70   \n",
       "58        95.3   169.0   65.7    49.6         2500           80   \n",
       "\n",
       "    compression-ratio  city-mpg  highway-mpg  num-of-doors  num-of-cylinders  \\\n",
       "55                9.4        17           23           2.0                 2   \n",
       "56                9.4        17           23           2.0                 2   \n",
       "57                9.4        17           23           2.0                 2   \n",
       "58                9.4        16           23           2.0                 2   \n",
       "\n",
       "    bore  stroke  horsepower  peak-rpm    price  \n",
       "55   NaN     NaN       101.0    6000.0  10945.0  \n",
       "56   NaN     NaN       101.0    6000.0  11845.0  \n",
       "57   NaN     NaN       101.0    6000.0  13645.0  \n",
       "58   NaN     NaN       135.0    6000.0  15645.0  "
      ]
     },
     "execution_count": 16,
     "metadata": {},
     "output_type": "execute_result"
    }
   ],
   "source": [
    "cars[cars['bore'].isnull()]"
   ]
  },
  {
   "cell_type": "code",
   "execution_count": 17,
   "metadata": {},
   "outputs": [
    {
     "data": {
      "text/html": [
       "<div>\n",
       "<style scoped>\n",
       "    .dataframe tbody tr th:only-of-type {\n",
       "        vertical-align: middle;\n",
       "    }\n",
       "\n",
       "    .dataframe tbody tr th {\n",
       "        vertical-align: top;\n",
       "    }\n",
       "\n",
       "    .dataframe thead th {\n",
       "        text-align: right;\n",
       "    }\n",
       "</style>\n",
       "<table border=\"1\" class=\"dataframe\">\n",
       "  <thead>\n",
       "    <tr style=\"text-align: right;\">\n",
       "      <th></th>\n",
       "      <th>wheel-base</th>\n",
       "      <th>length</th>\n",
       "      <th>width</th>\n",
       "      <th>height</th>\n",
       "      <th>curb-weight</th>\n",
       "      <th>engine-size</th>\n",
       "      <th>compression-ratio</th>\n",
       "      <th>city-mpg</th>\n",
       "      <th>highway-mpg</th>\n",
       "      <th>num-of-doors</th>\n",
       "      <th>num-of-cylinders</th>\n",
       "      <th>bore</th>\n",
       "      <th>stroke</th>\n",
       "      <th>horsepower</th>\n",
       "      <th>peak-rpm</th>\n",
       "      <th>price</th>\n",
       "    </tr>\n",
       "  </thead>\n",
       "  <tbody>\n",
       "    <tr>\n",
       "      <th>130</th>\n",
       "      <td>96.1</td>\n",
       "      <td>181.5</td>\n",
       "      <td>66.5</td>\n",
       "      <td>55.2</td>\n",
       "      <td>2579</td>\n",
       "      <td>132</td>\n",
       "      <td>8.7</td>\n",
       "      <td>23</td>\n",
       "      <td>31</td>\n",
       "      <td>4.0</td>\n",
       "      <td>4</td>\n",
       "      <td>3.46</td>\n",
       "      <td>3.9</td>\n",
       "      <td>NaN</td>\n",
       "      <td>NaN</td>\n",
       "      <td>9295.0</td>\n",
       "    </tr>\n",
       "    <tr>\n",
       "      <th>131</th>\n",
       "      <td>96.1</td>\n",
       "      <td>176.8</td>\n",
       "      <td>66.6</td>\n",
       "      <td>50.5</td>\n",
       "      <td>2460</td>\n",
       "      <td>132</td>\n",
       "      <td>8.7</td>\n",
       "      <td>23</td>\n",
       "      <td>31</td>\n",
       "      <td>2.0</td>\n",
       "      <td>4</td>\n",
       "      <td>3.46</td>\n",
       "      <td>3.9</td>\n",
       "      <td>NaN</td>\n",
       "      <td>NaN</td>\n",
       "      <td>9895.0</td>\n",
       "    </tr>\n",
       "  </tbody>\n",
       "</table>\n",
       "</div>"
      ],
      "text/plain": [
       "     wheel-base  length  width  height  curb-weight  engine-size  \\\n",
       "130        96.1   181.5   66.5    55.2         2579          132   \n",
       "131        96.1   176.8   66.6    50.5         2460          132   \n",
       "\n",
       "     compression-ratio  city-mpg  highway-mpg  num-of-doors  num-of-cylinders  \\\n",
       "130                8.7        23           31           4.0                 4   \n",
       "131                8.7        23           31           2.0                 4   \n",
       "\n",
       "     bore  stroke  horsepower  peak-rpm   price  \n",
       "130  3.46     3.9         NaN       NaN  9295.0  \n",
       "131  3.46     3.9         NaN       NaN  9895.0  "
      ]
     },
     "execution_count": 17,
     "metadata": {},
     "output_type": "execute_result"
    }
   ],
   "source": [
    "cars[cars['horsepower'].isnull()]"
   ]
  },
  {
   "cell_type": "code",
   "execution_count": 18,
   "metadata": {},
   "outputs": [
    {
     "data": {
      "text/html": [
       "<div>\n",
       "<style scoped>\n",
       "    .dataframe tbody tr th:only-of-type {\n",
       "        vertical-align: middle;\n",
       "    }\n",
       "\n",
       "    .dataframe tbody tr th {\n",
       "        vertical-align: top;\n",
       "    }\n",
       "\n",
       "    .dataframe thead th {\n",
       "        text-align: right;\n",
       "    }\n",
       "</style>\n",
       "<table border=\"1\" class=\"dataframe\">\n",
       "  <thead>\n",
       "    <tr style=\"text-align: right;\">\n",
       "      <th></th>\n",
       "      <th>wheel-base</th>\n",
       "      <th>length</th>\n",
       "      <th>width</th>\n",
       "      <th>height</th>\n",
       "      <th>curb-weight</th>\n",
       "      <th>engine-size</th>\n",
       "      <th>compression-ratio</th>\n",
       "      <th>city-mpg</th>\n",
       "      <th>highway-mpg</th>\n",
       "      <th>num-of-doors</th>\n",
       "      <th>num-of-cylinders</th>\n",
       "      <th>bore</th>\n",
       "      <th>stroke</th>\n",
       "      <th>horsepower</th>\n",
       "      <th>peak-rpm</th>\n",
       "      <th>price</th>\n",
       "    </tr>\n",
       "  </thead>\n",
       "  <tbody>\n",
       "    <tr>\n",
       "      <th>9</th>\n",
       "      <td>99.5</td>\n",
       "      <td>178.2</td>\n",
       "      <td>67.9</td>\n",
       "      <td>52.0</td>\n",
       "      <td>3053</td>\n",
       "      <td>131</td>\n",
       "      <td>7.0</td>\n",
       "      <td>16</td>\n",
       "      <td>22</td>\n",
       "      <td>2.0</td>\n",
       "      <td>5</td>\n",
       "      <td>3.13</td>\n",
       "      <td>3.40</td>\n",
       "      <td>160.0</td>\n",
       "      <td>5500.0</td>\n",
       "      <td>NaN</td>\n",
       "    </tr>\n",
       "    <tr>\n",
       "      <th>44</th>\n",
       "      <td>94.5</td>\n",
       "      <td>155.9</td>\n",
       "      <td>63.6</td>\n",
       "      <td>52.0</td>\n",
       "      <td>1874</td>\n",
       "      <td>90</td>\n",
       "      <td>9.6</td>\n",
       "      <td>38</td>\n",
       "      <td>43</td>\n",
       "      <td>2.0</td>\n",
       "      <td>4</td>\n",
       "      <td>3.03</td>\n",
       "      <td>3.11</td>\n",
       "      <td>70.0</td>\n",
       "      <td>5400.0</td>\n",
       "      <td>NaN</td>\n",
       "    </tr>\n",
       "    <tr>\n",
       "      <th>45</th>\n",
       "      <td>94.5</td>\n",
       "      <td>155.9</td>\n",
       "      <td>63.6</td>\n",
       "      <td>52.0</td>\n",
       "      <td>1909</td>\n",
       "      <td>90</td>\n",
       "      <td>9.6</td>\n",
       "      <td>38</td>\n",
       "      <td>43</td>\n",
       "      <td>4.0</td>\n",
       "      <td>4</td>\n",
       "      <td>3.03</td>\n",
       "      <td>3.11</td>\n",
       "      <td>70.0</td>\n",
       "      <td>5400.0</td>\n",
       "      <td>NaN</td>\n",
       "    </tr>\n",
       "    <tr>\n",
       "      <th>129</th>\n",
       "      <td>98.4</td>\n",
       "      <td>175.7</td>\n",
       "      <td>72.3</td>\n",
       "      <td>50.5</td>\n",
       "      <td>3366</td>\n",
       "      <td>203</td>\n",
       "      <td>10.0</td>\n",
       "      <td>17</td>\n",
       "      <td>28</td>\n",
       "      <td>2.0</td>\n",
       "      <td>8</td>\n",
       "      <td>3.94</td>\n",
       "      <td>3.11</td>\n",
       "      <td>288.0</td>\n",
       "      <td>5750.0</td>\n",
       "      <td>NaN</td>\n",
       "    </tr>\n",
       "  </tbody>\n",
       "</table>\n",
       "</div>"
      ],
      "text/plain": [
       "     wheel-base  length  width  height  curb-weight  engine-size  \\\n",
       "9          99.5   178.2   67.9    52.0         3053          131   \n",
       "44         94.5   155.9   63.6    52.0         1874           90   \n",
       "45         94.5   155.9   63.6    52.0         1909           90   \n",
       "129        98.4   175.7   72.3    50.5         3366          203   \n",
       "\n",
       "     compression-ratio  city-mpg  highway-mpg  num-of-doors  num-of-cylinders  \\\n",
       "9                  7.0        16           22           2.0                 5   \n",
       "44                 9.6        38           43           2.0                 4   \n",
       "45                 9.6        38           43           4.0                 4   \n",
       "129               10.0        17           28           2.0                 8   \n",
       "\n",
       "     bore  stroke  horsepower  peak-rpm  price  \n",
       "9    3.13    3.40       160.0    5500.0    NaN  \n",
       "44   3.03    3.11        70.0    5400.0    NaN  \n",
       "45   3.03    3.11        70.0    5400.0    NaN  \n",
       "129  3.94    3.11       288.0    5750.0    NaN  "
      ]
     },
     "execution_count": 18,
     "metadata": {},
     "output_type": "execute_result"
    }
   ],
   "source": [
    "cars[cars['price'].isnull()]"
   ]
  },
  {
   "cell_type": "code",
   "execution_count": 19,
   "metadata": {},
   "outputs": [
    {
     "data": {
      "text/plain": [
       "5.853658536585367"
      ]
     },
     "execution_count": 19,
     "metadata": {},
     "output_type": "execute_result"
    }
   ],
   "source": [
    "a=12/205*100\n",
    "a #Como as colunas com valores vazios representam apenas 5.85% do dataset, vamos excluí-las completamente"
   ]
  },
  {
   "cell_type": "code",
   "execution_count": 20,
   "metadata": {},
   "outputs": [],
   "source": [
    "cars = cars.dropna()"
   ]
  },
  {
   "cell_type": "code",
   "execution_count": 21,
   "metadata": {},
   "outputs": [
    {
     "name": "stdout",
     "output_type": "stream",
     "text": [
      "<class 'pandas.core.frame.DataFrame'>\n",
      "Int64Index: 193 entries, 0 to 204\n",
      "Data columns (total 16 columns):\n",
      " #   Column             Non-Null Count  Dtype  \n",
      "---  ------             --------------  -----  \n",
      " 0   wheel-base         193 non-null    float64\n",
      " 1   length             193 non-null    float64\n",
      " 2   width              193 non-null    float64\n",
      " 3   height             193 non-null    float64\n",
      " 4   curb-weight        193 non-null    int64  \n",
      " 5   engine-size        193 non-null    int64  \n",
      " 6   compression-ratio  193 non-null    float64\n",
      " 7   city-mpg           193 non-null    int64  \n",
      " 8   highway-mpg        193 non-null    int64  \n",
      " 9   num-of-doors       193 non-null    float64\n",
      " 10  num-of-cylinders   193 non-null    int64  \n",
      " 11  bore               193 non-null    float64\n",
      " 12  stroke             193 non-null    float64\n",
      " 13  horsepower         193 non-null    float64\n",
      " 14  peak-rpm           193 non-null    float64\n",
      " 15  price              193 non-null    float64\n",
      "dtypes: float64(11), int64(5)\n",
      "memory usage: 25.6 KB\n"
     ]
    }
   ],
   "source": [
    "cars.info()"
   ]
  },
  {
   "cell_type": "code",
   "execution_count": 22,
   "metadata": {},
   "outputs": [],
   "source": [
    "'''O modelo K-nearest neighbors calcula a distância euclidiana entre o ponto cujo valor queremos estimar,\n",
    "    e todos os outros pontos do dataset. Para isso é preciso que todas as colunas do dataset estejam normalizadas,\n",
    "    do contrário colunas com números maiores teriam um peso maior no cálculo da distância.\n",
    "    Para normalizar a coluna, basta subtrair cada valor pela média de sua coluna, e dividí-lo pelo desvio padrão\n",
    "    da coluna.'''\n",
    "normalized_cars = (cars - cars.mean())/cars.std()\n",
    "normalized_cars['price'] = cars['price'] #a nossa coluna alvo deve permacer a mesma, não faz senti normalizá-la"
   ]
  },
  {
   "cell_type": "code",
   "execution_count": 23,
   "metadata": {},
   "outputs": [
    {
     "data": {
      "text/html": [
       "<div>\n",
       "<style scoped>\n",
       "    .dataframe tbody tr th:only-of-type {\n",
       "        vertical-align: middle;\n",
       "    }\n",
       "\n",
       "    .dataframe tbody tr th {\n",
       "        vertical-align: top;\n",
       "    }\n",
       "\n",
       "    .dataframe thead th {\n",
       "        text-align: right;\n",
       "    }\n",
       "</style>\n",
       "<table border=\"1\" class=\"dataframe\">\n",
       "  <thead>\n",
       "    <tr style=\"text-align: right;\">\n",
       "      <th></th>\n",
       "      <th>wheel-base</th>\n",
       "      <th>length</th>\n",
       "      <th>width</th>\n",
       "      <th>height</th>\n",
       "      <th>curb-weight</th>\n",
       "      <th>engine-size</th>\n",
       "      <th>compression-ratio</th>\n",
       "      <th>city-mpg</th>\n",
       "      <th>highway-mpg</th>\n",
       "      <th>num-of-doors</th>\n",
       "      <th>num-of-cylinders</th>\n",
       "      <th>bore</th>\n",
       "      <th>stroke</th>\n",
       "      <th>horsepower</th>\n",
       "      <th>peak-rpm</th>\n",
       "      <th>price</th>\n",
       "    </tr>\n",
       "  </thead>\n",
       "  <tbody>\n",
       "    <tr>\n",
       "      <th>96</th>\n",
       "      <td>-0.719041</td>\n",
       "      <td>-0.723353</td>\n",
       "      <td>-0.979412</td>\n",
       "      <td>0.263095</td>\n",
       "      <td>-1.121146</td>\n",
       "      <td>-0.748353</td>\n",
       "      <td>-0.186959</td>\n",
       "      <td>0.888185</td>\n",
       "      <td>0.911327</td>\n",
       "      <td>0.848214</td>\n",
       "      <td>-0.410180</td>\n",
       "      <td>-0.663113</td>\n",
       "      <td>0.130429</td>\n",
       "      <td>-0.908371</td>\n",
       "      <td>0.213911</td>\n",
       "      <td>7499.0</td>\n",
       "    </tr>\n",
       "    <tr>\n",
       "      <th>111</th>\n",
       "      <td>1.458968</td>\n",
       "      <td>0.991584</td>\n",
       "      <td>1.172337</td>\n",
       "      <td>1.181763</td>\n",
       "      <td>0.974923</td>\n",
       "      <td>-0.195342</td>\n",
       "      <td>-0.438374</td>\n",
       "      <td>-0.990387</td>\n",
       "      <td>-0.995695</td>\n",
       "      <td>0.848214</td>\n",
       "      <td>-0.410180</td>\n",
       "      <td>0.474984</td>\n",
       "      <td>-3.356975</td>\n",
       "      <td>-0.223442</td>\n",
       "      <td>-0.212806</td>\n",
       "      <td>15580.0</td>\n",
       "    </tr>\n",
       "    <tr>\n",
       "      <th>92</th>\n",
       "      <td>-0.719041</td>\n",
       "      <td>-0.723353</td>\n",
       "      <td>-0.979412</td>\n",
       "      <td>0.263095</td>\n",
       "      <td>-1.183801</td>\n",
       "      <td>-0.748353</td>\n",
       "      <td>-0.186959</td>\n",
       "      <td>0.888185</td>\n",
       "      <td>0.911327</td>\n",
       "      <td>0.848214</td>\n",
       "      <td>-0.410180</td>\n",
       "      <td>-0.663113</td>\n",
       "      <td>0.130429</td>\n",
       "      <td>-0.908371</td>\n",
       "      <td>0.213911</td>\n",
       "      <td>6849.0</td>\n",
       "    </tr>\n",
       "    <tr>\n",
       "      <th>17</th>\n",
       "      <td>1.800297</td>\n",
       "      <td>1.816998</td>\n",
       "      <td>2.341766</td>\n",
       "      <td>1.014733</td>\n",
       "      <td>1.791327</td>\n",
       "      <td>1.944572</td>\n",
       "      <td>-0.538940</td>\n",
       "      <td>-1.616578</td>\n",
       "      <td>-1.582471</td>\n",
       "      <td>0.848214</td>\n",
       "      <td>1.544506</td>\n",
       "      <td>1.062388</td>\n",
       "      <td>0.447465</td>\n",
       "      <td>2.068438</td>\n",
       "      <td>0.640629</td>\n",
       "      <td>36880.0</td>\n",
       "    </tr>\n",
       "    <tr>\n",
       "      <th>143</th>\n",
       "      <td>-0.280188</td>\n",
       "      <td>-0.186433</td>\n",
       "      <td>-0.230977</td>\n",
       "      <td>-0.572058</td>\n",
       "      <td>-0.420558</td>\n",
       "      <td>-0.483870</td>\n",
       "      <td>-0.287525</td>\n",
       "      <td>0.105447</td>\n",
       "      <td>0.177857</td>\n",
       "      <td>0.848214</td>\n",
       "      <td>-0.410180</td>\n",
       "      <td>1.062388</td>\n",
       "      <td>-1.930310</td>\n",
       "      <td>-0.249785</td>\n",
       "      <td>0.213911</td>\n",
       "      <td>9960.0</td>\n",
       "    </tr>\n",
       "  </tbody>\n",
       "</table>\n",
       "</div>"
      ],
      "text/plain": [
       "     wheel-base    length     width    height  curb-weight  engine-size  \\\n",
       "96    -0.719041 -0.723353 -0.979412  0.263095    -1.121146    -0.748353   \n",
       "111    1.458968  0.991584  1.172337  1.181763     0.974923    -0.195342   \n",
       "92    -0.719041 -0.723353 -0.979412  0.263095    -1.183801    -0.748353   \n",
       "17     1.800297  1.816998  2.341766  1.014733     1.791327     1.944572   \n",
       "143   -0.280188 -0.186433 -0.230977 -0.572058    -0.420558    -0.483870   \n",
       "\n",
       "     compression-ratio  city-mpg  highway-mpg  num-of-doors  num-of-cylinders  \\\n",
       "96           -0.186959  0.888185     0.911327      0.848214         -0.410180   \n",
       "111          -0.438374 -0.990387    -0.995695      0.848214         -0.410180   \n",
       "92           -0.186959  0.888185     0.911327      0.848214         -0.410180   \n",
       "17           -0.538940 -1.616578    -1.582471      0.848214          1.544506   \n",
       "143          -0.287525  0.105447     0.177857      0.848214         -0.410180   \n",
       "\n",
       "         bore    stroke  horsepower  peak-rpm    price  \n",
       "96  -0.663113  0.130429   -0.908371  0.213911   7499.0  \n",
       "111  0.474984 -3.356975   -0.223442 -0.212806  15580.0  \n",
       "92  -0.663113  0.130429   -0.908371  0.213911   6849.0  \n",
       "17   1.062388  0.447465    2.068438  0.640629  36880.0  \n",
       "143  1.062388 -1.930310   -0.249785  0.213911   9960.0  "
      ]
     },
     "execution_count": 23,
     "metadata": {},
     "output_type": "execute_result"
    }
   ],
   "source": [
    "normalized_cars.sample(5)"
   ]
  },
  {
   "cell_type": "markdown",
   "metadata": {},
   "source": [
    "## 4. Escolha das features com modelo K-Nearest Neighbors de uma variável\n",
    "\n",
    "* Nosso dataset agora contem 15 features e precisamos escolher quais delas fazem mais sentido de serem usadas em nosso modelo. Para isso vamos primeiramente criar um modelo 'univariate', onde vamos testar cada feature individualmente.\n",
    "\n",
    "* Para treinar e testar os modelos vamos utilizar o método de cross validation, com 5 folds. Ou seja, o nosso código vai dividir o dataset em 5 partes iguais e rodar 5 modelos. Em cada \"rodada\", 4/5 das linhas serão usadas para treinar o modelo e 1/5 para teste. Isso ajuda a evitar que tenhamos um resultado melhor ou pior, porque treinamos o modelo com uma fração específica do dataset. Para fazer isso vamos usar o método cross_val_score, com o parâmetro de scoring 'neg_mean_squared_error', cuja saída são os 5 valores de mean squared error entre os valores previstos e os reais para cada uma das 5 rodadas. O valor final para o modelo será a raiz da média desses modelos."
   ]
  },
  {
   "cell_type": "code",
   "execution_count": 24,
   "metadata": {},
   "outputs": [],
   "source": [
    "def univariate_knn_cross_fold(feature,df = normalized_cars,target = 'price',k = 5):   \n",
    "    model = KNeighborsRegressor(n_neighbors = k)\n",
    "    k_fold = KFold(n_splits=5, shuffle=True, random_state= rs)\n",
    "    mses = cross_val_score(model,df[[feature]],df[[target]],scoring = 'neg_mean_squared_error', cv = k_fold)\n",
    "    rmses = (np.absolute(mses))**0.5\n",
    "    avg_rmse = np.mean(rmses)\n",
    "    return avg_rmse"
   ]
  },
  {
   "cell_type": "code",
   "execution_count": 25,
   "metadata": {},
   "outputs": [
    {
     "data": {
      "text/plain": [
       "engine-size          3179.500756\n",
       "horsepower           3965.815026\n",
       "curb-weight          4139.620194\n",
       "city-mpg             4172.737507\n",
       "highway-mpg          4416.539895\n",
       "width                4707.336966\n",
       "length               5207.326031\n",
       "wheel-base           5719.290972\n",
       "compression-ratio    6683.751566\n",
       "stroke               7302.688658\n",
       "bore                 7585.908002\n",
       "height               7608.255204\n",
       "peak-rpm             7640.543271\n",
       "num-of-cylinders     8334.652419\n",
       "num-of-doors         8639.692651\n",
       "dtype: float64"
      ]
     },
     "execution_count": 25,
     "metadata": {},
     "output_type": "execute_result"
    }
   ],
   "source": [
    "#Vamos fazer um for loop com cada feature e salvar em um dicionário cada feature e seu respectivo RMSE (root\n",
    "#mean squared error)\n",
    "#Inicialmente vamos usar um K de 5 \"vizinhos\"\n",
    "\n",
    "feature_rmse = {}\n",
    "\n",
    "for col in ['num-of-doors', 'wheel-base', 'length', 'width', 'height',\n",
    "       'curb-weight', 'num-of-cylinders', 'engine-size', 'bore', 'stroke',\n",
    "       'compression-ratio', 'horsepower', 'peak-rpm', 'city-mpg',\n",
    "       'highway-mpg']:\n",
    "    root_mean_squared_error = univariate_knn_cross_fold(df = normalized_cars,feature = col,target = 'price', k = 5)\n",
    "    feature_rmse[col] = root_mean_squared_error\n",
    "\n",
    "feature_rmse = pd.Series(feature_rmse)\n",
    "feature_rmse = feature_rmse.sort_values()\n",
    "feature_rmse"
   ]
  },
  {
   "cell_type": "code",
   "execution_count": 26,
   "metadata": {},
   "outputs": [
    {
     "data": {
      "text/plain": [
       "0    engine-size\n",
       "1     horsepower\n",
       "2    curb-weight\n",
       "3       city-mpg\n",
       "4    highway-mpg\n",
       "5          width\n",
       "dtype: object"
      ]
     },
     "execution_count": 26,
     "metadata": {},
     "output_type": "execute_result"
    }
   ],
   "source": [
    "six_best_features = pd.Series(feature_rmse.index.values[0:6])\n",
    "six_best_features"
   ]
  },
  {
   "cell_type": "markdown",
   "metadata": {},
   "source": [
    "* Chegamos à conclusão que as 6 melhores features são 'engine-size', 'horsepower', 'curb-weight', 'city-mpg',    'highway-mpg' e 'width'. No entanto chegamos a essa conclusão usando o valor de k = 5. Vamos agora plotar o RMSE para cada um dessas 6 features, variando o valor de K."
   ]
  },
  {
   "cell_type": "code",
   "execution_count": 27,
   "metadata": {},
   "outputs": [],
   "source": [
    "dict_feature_k_rmse= {}\n",
    "\n",
    "for f in six_best_features:\n",
    "    temp_feature_k_dict = {}\n",
    "    for n_neighbors in range(1,11,1): #loop para variar o valor de K\n",
    "        temp_feature_k_dict[n_neighbors] = univariate_knn_cross_fold(df = normalized_cars,feature = f,target = 'price', k = n_neighbors)\n",
    "    dict_feature_k_rmse[f] =  temp_feature_k_dict \n"
   ]
  },
  {
   "cell_type": "code",
   "execution_count": 28,
   "metadata": {},
   "outputs": [
    {
     "data": {
      "image/png": "[encoded data removed]",
      "text/plain": [
       "<Figure size 576x432 with 1 Axes>"
      ]
     },
     "metadata": {
      "needs_background": "light"
     },
     "output_type": "display_data"
    }
   ],
   "source": [
    "figure = plt.figure(figsize = [8,6])\n",
    "ax1 = figure.add_subplot(1,1,1)\n",
    "\n",
    "for key in dict_feature_k_rmse:\n",
    "    x = range(1,11,1)\n",
    "    y = list(dict_feature_k_rmse[key].values())\n",
    "    ax1.plot(x,y, label = key)\n",
    "\n",
    "ax1.legend()\n",
    "ax1.set_xticks(range(1,11,1))\n",
    "ax1.set_xlabel('k = number or neighbors')\n",
    "ax1.set_ylabel('RMSE')\n",
    "ax1.set_ylim(2000,8000)\n",
    "ax1.set_title(\"Univariate Model RMSE x k\")\n",
    "\n",
    "plt.show()"
   ]
  },
  {
   "cell_type": "markdown",
   "metadata": {},
   "source": [
    "* Agora vamos ordenar esses valores em função da média de desempenho do modelo para os valores de k que plotamos."
   ]
  },
  {
   "cell_type": "code",
   "execution_count": 31,
   "metadata": {},
   "outputs": [
    {
     "data": {
      "text/plain": [
       "engine-size    3350.252909\n",
       "horsepower     4111.076609\n",
       "curb-weight    4359.695675\n",
       "city-mpg       4375.203986\n",
       "highway-mpg    4590.531005\n",
       "width          4601.638003\n",
       "dtype: float64"
      ]
     },
     "execution_count": 31,
     "metadata": {},
     "output_type": "execute_result"
    }
   ],
   "source": [
    "avg_rmse_feature = {}\n",
    "\n",
    "for f in six_best_features:\n",
    "    avg_rmse = np.average(list(dict_feature_k_rmse[f].values()))\n",
    "    avg_rmse_feature[f] = avg_rmse\n",
    "\n",
    "six_best_features = pd.Series(avg_rmse_feature).sort_values()\n",
    "six_best_features #Notamos que ordenando as features pela média, a sequência mudou."
   ]
  },
  {
   "cell_type": "markdown",
   "metadata": {},
   "source": [
    "## 5. Modelo K Nearest Neighbors multivariável\n",
    "\n",
    "* Agora que já definimos as 6 possíveis features do modelo, vamos ver como o modelo se comporta, utilizando mais de uma feature, e determinar quais os melhores hyperparameters para o modelo (ou seja, quantos vizinhos k devemos usar, e quantas features devemos usar.\n"
   ]
  },
  {
   "cell_type": "code",
   "execution_count": 32,
   "metadata": {},
   "outputs": [],
   "source": [
    "def multivariate_knn_cross_fold(feature,df = normalized_cars,target = 'price',k = 5):   \n",
    "    model = KNeighborsRegressor(n_neighbors = k)\n",
    "    k_fold = KFold(n_splits=5, shuffle=True, random_state= rs)\n",
    "    mses = cross_val_score(model,df[feature],df[[target]],scoring = 'neg_mean_squared_error', cv = k_fold)\n",
    "    rmses = (np.absolute(mses))**0.5\n",
    "    avg_rmse = np.mean(rmses)\n",
    "    return avg_rmse"
   ]
  },
  {
   "cell_type": "code",
   "execution_count": 33,
   "metadata": {},
   "outputs": [
    {
     "data": {
      "text/plain": [
       "{\"['engine-size']\": {1: 3858.5869848939556,\n",
       "  2: 3253.0982338214644,\n",
       "  3: 3244.618559197672,\n",
       "  4: 3107.8055701172243,\n",
       "  5: 3179.5007556120813,\n",
       "  6: 3252.677890298296,\n",
       "  7: 3351.913411215262,\n",
       "  8: 3453.4707466024834,\n",
       "  9: 3389.5750130382403,\n",
       "  10: 3411.281924990897},\n",
       " \"['engine-size' 'horsepower']\": {1: 3297.1802217275485,\n",
       "  2: 2844.8506969034343,\n",
       "  3: 2930.005981681948,\n",
       "  4: 2964.0620957221763,\n",
       "  5: 3068.072893566577,\n",
       "  6: 3148.062653634363,\n",
       "  7: 3172.090674241893,\n",
       "  8: 3258.674023340924,\n",
       "  9: 3349.5290928795102,\n",
       "  10: 3473.4391585078033},\n",
       " \"['engine-size' 'horsepower' 'curb-weight']\": {1: 2803.888388557465,\n",
       "  2: 2650.0988908712648,\n",
       "  3: 2923.890674311194,\n",
       "  4: 3047.934223549778,\n",
       "  5: 3273.083408811743,\n",
       "  6: 3343.3920234399397,\n",
       "  7: 3371.930398934447,\n",
       "  8: 3520.656541024203,\n",
       "  9: 3644.2885759306637,\n",
       "  10: 3740.856114037519},\n",
       " \"['engine-size' 'horsepower' 'curb-weight' 'city-mpg']\": {1: 2679.1105281932637,\n",
       "  2: 2448.297214749308,\n",
       "  3: 2777.594988782325,\n",
       "  4: 2890.4949605219554,\n",
       "  5: 3051.1607452745693,\n",
       "  6: 3156.603629677561,\n",
       "  7: 3218.7276629215844,\n",
       "  8: 3462.4996128698576,\n",
       "  9: 3573.050965543994,\n",
       "  10: 3650.1529656224097},\n",
       " \"['engine-size' 'horsepower' 'curb-weight' 'city-mpg' 'highway-mpg']\": {1: 2676.50555614968,\n",
       "  2: 2397.3673031633175,\n",
       "  3: 2753.5556358051026,\n",
       "  4: 2997.5059077053425,\n",
       "  5: 3234.976261336127,\n",
       "  6: 3259.4076217481875,\n",
       "  7: 3346.1917460982236,\n",
       "  8: 3537.4451973425794,\n",
       "  9: 3562.1228432320977,\n",
       "  10: 3743.8525083199675}}"
      ]
     },
     "execution_count": 33,
     "metadata": {},
     "output_type": "execute_result"
    }
   ],
   "source": [
    "feature_rmse_cross_fold = {}\n",
    "\n",
    "for i in range(1,6):\n",
    "    features = six_best_features[0:i].keys().values\n",
    "    k_per_feature_temp = {}\n",
    "    for n_neighbors in range(1,11,1):\n",
    "        k_per_feature_temp[n_neighbors] = multivariate_knn_cross_fold(feature = features, k = n_neighbors)\n",
    "    feature_rmse_cross_fold[str(features)] = k_per_feature_temp\n",
    "    \n",
    "feature_rmse_cross_fold"
   ]
  },
  {
   "cell_type": "code",
   "execution_count": 34,
   "metadata": {},
   "outputs": [
    {
     "data": {
      "image/png": "[encoded data removed]",
      "text/plain": [
       "<Figure size 576x432 with 1 Axes>"
      ]
     },
     "metadata": {
      "needs_background": "light"
     },
     "output_type": "display_data"
    }
   ],
   "source": [
    "%matplotlib inline\n",
    "figure3 = plt.figure(figsize = [8,6])\n",
    "ax3 = figure3.add_subplot(1,1,1)\n",
    "\n",
    "for key in feature_rmse_cross_fold:\n",
    "    x = list(feature_rmse_cross_fold[key].keys())\n",
    "    y = list(feature_rmse_cross_fold[key].values())\n",
    "    ax3.plot(x,y, label = key)\n",
    "\n",
    "ax3.legend()\n",
    "ax3.set_xlabel('k = number or neighbors')\n",
    "ax3.set_ylabel('RMSE')\n",
    "ax3.set_ylim(2000,6000)\n",
    "ax3.set_title(\"Multivariate Model RMSE x k - Cross fold validation\")\n",
    "plt.xticks(np.arange(min(x), max(x)+1, 1.0))\n",
    "plt.show()"
   ]
  },
  {
   "cell_type": "code",
   "execution_count": 47,
   "metadata": {},
   "outputs": [
    {
     "name": "stdout",
     "output_type": "stream",
     "text": [
      "Features: ['engine-size' 'horsepower' 'curb-weight' 'city-mpg']\n",
      "number of neighbors k: 2\n",
      "root mean squared error: 2448.3\n"
     ]
    }
   ],
   "source": [
    "features = six_best_features.keys().values[:4]\n",
    "rmse = multivariate_knn_cross_fold(feature = features, k = 2)\n",
    "\n",
    "print(\"Features: {}\".format(features))\n",
    "print(\"number of neighbors k: {}\".format(2))\n",
    "print(\"root mean squared error: {}\".format(round(rmse,2)))"
   ]
  },
  {
   "cell_type": "markdown",
   "metadata": {},
   "source": [
    "## 6. Conclusões e considerações finais\n",
    "\n",
    "* **Melhores hyperparameters:** Pelo gráfico acima, podemos ver que o melhor modelo seria aquele com k = 2 e com as features engine-size, horsepower, curb-weight, city-mpg e highway-mpg. No entanto, como city-mpg e highway-mpg são muito parecidos (consumo de combustível na cidade e na estrada),o ideal seria utilizar apenas uma das features, sendo assim, **o modelo com 4 features (engine-size, horsepower, curb-weight, city-mpg) e k = 2 é o mais recomendado**.\n",
    "\n",
    "* **Bias vs Variance**: Em um modelo de k-nearest neightbors, a medida que aumentamos o valor de features aumentamos a variância (e diminuímos o bias) do modelo, aumentando a probabilidade de overfitting. Sendo assim, como a diferença entre o modelo de 4 e 5 features foi pequena, temos mais um motivo para usar 4 features. Em relação ao número de vizinhos, k, a medida que aumentamos k aumentamos o bias (e diminuímos a variância). O gráfico acima claramente indica que o erro é menor com k = 2.\n",
    "\n",
    "* **Utilização de K Nearest Neighbors (KNN)**: O uso de KNN faz sentido para esse dataset pois temos poucas linhas (193). Caso tivéssemos muitas linhas precisariamos de usar outro tipo de modelo (como regressão linear), pois o KNN treina o modelo cada vez que precisamos fazer uma estimativa (já que ele precisa de calcular e ordenar as distâncias entre o novo pontos e todo o dataset), o que leva tempo. Em um modelo de regressão linar por exemplo, uma vez treinado podemos facilmente fazer novas previsões (sem precisar rodar o fit novamente).\n"
   ]
  }
 ],
 "metadata": {
  "kernelspec": {
   "display_name": "Python 3",
   "language": "python",
   "name": "python3"
  },
  "language_info": {
   "codemirror_mode": {
    "name": "ipython",
    "version": 3
   },
   "file_extension": ".py",
   "mimetype": "text/x-python",
   "name": "python",
   "nbconvert_exporter": "python",
   "pygments_lexer": "ipython3",
   "version": "3.8.3"
  }
 },
 "nbformat": 4,
 "nbformat_minor": 4
}
