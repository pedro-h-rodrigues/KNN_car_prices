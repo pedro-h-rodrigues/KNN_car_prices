{
 "cells": [
  {
   "cell_type": "markdown",
   "metadata": {},
   "source": [
<<<<<<< HEAD
    "## 1. Introdução e objetivo do projeto\n",
    "\n",
    "* O objetivo desse projeto é criar um modelo de machine learning para estimar o preço de um veículo com base em suas características, utilizando o método K-nearest neighbors. A eficácia do modelo será medida com base na raiz do erro quadrado médio (root mean squared error). O Dataset utilizado pode ser baixado aqui https://archive.ics.uci.edu/ml/datasets/automobile\n",
    "\n",
    "\n",
    "* Esse projeto foi desenvolvido por mim como parte do curso de \"Machine Learning Introduction\" do Dataquest, um site americano que oferece cursos pagos de ciência de dados. O Dataquest oferece projetos guiados ao término de cada módulo, onde os alunos aplicam os conceitos aprendidos no módulo. Nos projetos guiados são utilizados datasets reais e os alunos recebem instruções gerais de como resolver o problema proposto. O site oferece a \"solução\" para cada projeto guiado, que pode ser encontrada no seguinte link https://github.com/dataquestio/solutions/blob/master/Mission155Solutions.ipynb Como estou iniciando em data-science, obviamente tive que recorrer à solução disponibilizada pelo site, no entanto, escrevi meu próprio código e em várias etapas melhorei o código em relação à solução apresentada.\n",
    "\n",
    "\n"
   ]
  },
  {
   "cell_type": "markdown",
   "metadata": {},
   "source": [
    "## 2. Importação das bibliotecas e leitura do dataset"
=======
    "## 1. Introduction to the dataset"
>>>>>>> b7d667e3219fec2c0c3f3da23e1555d476f416d9
   ]
  },
  {
   "cell_type": "code",
   "execution_count": 1,
   "metadata": {},
   "outputs": [],
   "source": [
    "import pandas as pd\n",
    "import numpy as np\n",
    "import matplotlib.pyplot as plt\n",
    "from sklearn.neighbors import KNeighborsRegressor\n",
    "from sklearn.model_selection import KFold\n",
    "from sklearn.model_selection import cross_val_score\n",
    "\n",
    "columns_names = ['symboling','normalized-losses','make','fuel-type','aspiration','num-of-doors','body-style','drive-wheels','engine-location','wheel-base','length','width','height','curb-weight','engine-type','num-of-cylinders','engine-size','fuel-system','bore','stroke','compression-ratio','horsepower','peak-rpm','city-mpg','highway-mpg','price']\n",
    "cars = pd.read_csv('imports-85.data',names = columns_names)\n",
<<<<<<< HEAD
    "rs = 1 #Random state que vamos usar ao longo da análise para manter a restrabilidade do código"
=======
    "rs = 1"
>>>>>>> b7d667e3219fec2c0c3f3da23e1555d476f416d9
   ]
  },
  {
   "cell_type": "code",
   "execution_count": 2,
   "metadata": {},
   "outputs": [
    {
     "data": {
      "text/plain": [
       "symboling              int64\n",
       "normalized-losses     object\n",
       "make                  object\n",
       "fuel-type             object\n",
       "aspiration            object\n",
       "num-of-doors          object\n",
       "body-style            object\n",
       "drive-wheels          object\n",
       "engine-location       object\n",
       "wheel-base           float64\n",
       "length               float64\n",
       "width                float64\n",
       "height               float64\n",
       "curb-weight            int64\n",
       "engine-type           object\n",
       "num-of-cylinders      object\n",
       "engine-size            int64\n",
       "fuel-system           object\n",
       "bore                  object\n",
       "stroke                object\n",
       "compression-ratio    float64\n",
       "horsepower            object\n",
       "peak-rpm              object\n",
       "city-mpg               int64\n",
       "highway-mpg            int64\n",
       "price                 object\n",
       "dtype: object"
      ]
     },
     "execution_count": 2,
     "metadata": {},
     "output_type": "execute_result"
    }
   ],
   "source": [
    "cars.dtypes"
   ]
  },
  {
   "cell_type": "code",
   "execution_count": 3,
   "metadata": {},
   "outputs": [],
   "source": [
    "#Identificação das colunas numéricas\n",
    "numeric_cols = cars.select_dtypes(include = ['int64','float64']).columns.values\n",
    "\n",
<<<<<<< HEAD
    "#Removendo a coluna symboling, que não tem informações relevantes para nossa análise\n",
    "#de acordo com o site onde foi disponibilizado o dataset, essa coluna traz informações sobre o risco\n",
    "#associado ao tipo de veículo (o dataset original foi elaborado por uma seguradora)\n",
=======
    "#Removendo a coluna symboling, que é uma espécie de index, e não uma feature\n",
>>>>>>> b7d667e3219fec2c0c3f3da23e1555d476f416d9
    "numeric_cols = numeric_cols[numeric_cols != 'symboling']"
   ]
  },
  {
   "cell_type": "code",
   "execution_count": 4,
   "metadata": {},
   "outputs": [
    {
     "data": {
      "text/html": [
       "<div>\n",
       "<style scoped>\n",
       "    .dataframe tbody tr th:only-of-type {\n",
       "        vertical-align: middle;\n",
       "    }\n",
       "\n",
       "    .dataframe tbody tr th {\n",
       "        vertical-align: top;\n",
       "    }\n",
       "\n",
       "    .dataframe thead th {\n",
       "        text-align: right;\n",
       "    }\n",
       "</style>\n",
       "<table border=\"1\" class=\"dataframe\">\n",
       "  <thead>\n",
       "    <tr style=\"text-align: right;\">\n",
       "      <th></th>\n",
       "      <th>normalized-losses</th>\n",
       "      <th>make</th>\n",
       "      <th>fuel-type</th>\n",
       "      <th>aspiration</th>\n",
       "      <th>num-of-doors</th>\n",
       "      <th>body-style</th>\n",
       "      <th>drive-wheels</th>\n",
       "      <th>engine-location</th>\n",
       "      <th>engine-type</th>\n",
       "      <th>num-of-cylinders</th>\n",
       "      <th>fuel-system</th>\n",
       "      <th>bore</th>\n",
       "      <th>stroke</th>\n",
       "      <th>horsepower</th>\n",
       "      <th>peak-rpm</th>\n",
       "      <th>price</th>\n",
       "    </tr>\n",
       "  </thead>\n",
       "  <tbody>\n",
       "    <tr>\n",
<<<<<<< HEAD
       "      <th>54</th>\n",
       "      <td>113</td>\n",
       "      <td>mazda</td>\n",
=======
       "      <th>29</th>\n",
       "      <td>145</td>\n",
       "      <td>dodge</td>\n",
       "      <td>gas</td>\n",
       "      <td>turbo</td>\n",
       "      <td>two</td>\n",
       "      <td>hatchback</td>\n",
       "      <td>fwd</td>\n",
       "      <td>front</td>\n",
       "      <td>ohc</td>\n",
       "      <td>four</td>\n",
       "      <td>mfi</td>\n",
       "      <td>3.60</td>\n",
       "      <td>3.90</td>\n",
       "      <td>145</td>\n",
       "      <td>5000</td>\n",
       "      <td>12964</td>\n",
       "    </tr>\n",
       "    <tr>\n",
       "      <th>96</th>\n",
       "      <td>122</td>\n",
       "      <td>nissan</td>\n",
>>>>>>> b7d667e3219fec2c0c3f3da23e1555d476f416d9
       "      <td>gas</td>\n",
       "      <td>std</td>\n",
       "      <td>four</td>\n",
       "      <td>sedan</td>\n",
       "      <td>fwd</td>\n",
       "      <td>front</td>\n",
       "      <td>ohc</td>\n",
       "      <td>four</td>\n",
       "      <td>2bbl</td>\n",
<<<<<<< HEAD
       "      <td>3.08</td>\n",
       "      <td>3.15</td>\n",
       "      <td>68</td>\n",
       "      <td>5000</td>\n",
       "      <td>7395</td>\n",
       "    </tr>\n",
       "    <tr>\n",
       "      <th>30</th>\n",
       "      <td>137</td>\n",
=======
       "      <td>3.15</td>\n",
       "      <td>3.29</td>\n",
       "      <td>69</td>\n",
       "      <td>5200</td>\n",
       "      <td>7499</td>\n",
       "    </tr>\n",
       "    <tr>\n",
       "      <th>34</th>\n",
       "      <td>101</td>\n",
>>>>>>> b7d667e3219fec2c0c3f3da23e1555d476f416d9
       "      <td>honda</td>\n",
       "      <td>gas</td>\n",
       "      <td>std</td>\n",
       "      <td>two</td>\n",
       "      <td>hatchback</td>\n",
       "      <td>fwd</td>\n",
       "      <td>front</td>\n",
       "      <td>ohc</td>\n",
       "      <td>four</td>\n",
       "      <td>1bbl</td>\n",
       "      <td>2.91</td>\n",
       "      <td>3.41</td>\n",
<<<<<<< HEAD
       "      <td>58</td>\n",
       "      <td>4800</td>\n",
       "      <td>6479</td>\n",
       "    </tr>\n",
       "    <tr>\n",
       "      <th>10</th>\n",
       "      <td>192</td>\n",
       "      <td>bmw</td>\n",
       "      <td>gas</td>\n",
       "      <td>std</td>\n",
       "      <td>two</td>\n",
       "      <td>sedan</td>\n",
       "      <td>rwd</td>\n",
       "      <td>front</td>\n",
       "      <td>ohc</td>\n",
       "      <td>four</td>\n",
       "      <td>mpfi</td>\n",
       "      <td>3.50</td>\n",
       "      <td>2.80</td>\n",
       "      <td>101</td>\n",
       "      <td>5800</td>\n",
       "      <td>16430</td>\n",
       "    </tr>\n",
       "    <tr>\n",
       "      <th>108</th>\n",
       "      <td>161</td>\n",
       "      <td>peugot</td>\n",
       "      <td>diesel</td>\n",
       "      <td>turbo</td>\n",
       "      <td>four</td>\n",
       "      <td>sedan</td>\n",
       "      <td>rwd</td>\n",
       "      <td>front</td>\n",
       "      <td>l</td>\n",
       "      <td>four</td>\n",
       "      <td>idi</td>\n",
       "      <td>3.70</td>\n",
       "      <td>3.52</td>\n",
       "      <td>95</td>\n",
       "      <td>4150</td>\n",
       "      <td>13200</td>\n",
       "    </tr>\n",
       "    <tr>\n",
       "      <th>87</th>\n",
       "      <td>125</td>\n",
       "      <td>mitsubishi</td>\n",
       "      <td>gas</td>\n",
       "      <td>turbo</td>\n",
       "      <td>four</td>\n",
       "      <td>sedan</td>\n",
       "      <td>fwd</td>\n",
       "      <td>front</td>\n",
       "      <td>ohc</td>\n",
       "      <td>four</td>\n",
       "      <td>spdi</td>\n",
       "      <td>3.17</td>\n",
       "      <td>3.46</td>\n",
       "      <td>116</td>\n",
       "      <td>5500</td>\n",
       "      <td>9279</td>\n",
=======
       "      <td>76</td>\n",
       "      <td>6000</td>\n",
       "      <td>7129</td>\n",
       "    </tr>\n",
       "    <tr>\n",
       "      <th>99</th>\n",
       "      <td>106</td>\n",
       "      <td>nissan</td>\n",
       "      <td>gas</td>\n",
       "      <td>std</td>\n",
       "      <td>four</td>\n",
       "      <td>hatchback</td>\n",
       "      <td>fwd</td>\n",
       "      <td>front</td>\n",
       "      <td>ohc</td>\n",
       "      <td>four</td>\n",
       "      <td>2bbl</td>\n",
       "      <td>3.33</td>\n",
       "      <td>3.47</td>\n",
       "      <td>97</td>\n",
       "      <td>5200</td>\n",
       "      <td>8949</td>\n",
       "    </tr>\n",
       "    <tr>\n",
       "      <th>168</th>\n",
       "      <td>134</td>\n",
       "      <td>toyota</td>\n",
       "      <td>gas</td>\n",
       "      <td>std</td>\n",
       "      <td>two</td>\n",
       "      <td>hardtop</td>\n",
       "      <td>rwd</td>\n",
       "      <td>front</td>\n",
       "      <td>ohc</td>\n",
       "      <td>four</td>\n",
       "      <td>mpfi</td>\n",
       "      <td>3.62</td>\n",
       "      <td>3.50</td>\n",
       "      <td>116</td>\n",
       "      <td>4800</td>\n",
       "      <td>9639</td>\n",
>>>>>>> b7d667e3219fec2c0c3f3da23e1555d476f416d9
       "    </tr>\n",
       "  </tbody>\n",
       "</table>\n",
       "</div>"
      ],
      "text/plain": [
<<<<<<< HEAD
       "    normalized-losses        make fuel-type aspiration num-of-doors  \\\n",
       "54                113       mazda       gas        std         four   \n",
       "30                137       honda       gas        std          two   \n",
       "10                192         bmw       gas        std          two   \n",
       "108               161      peugot    diesel      turbo         four   \n",
       "87                125  mitsubishi       gas      turbo         four   \n",
       "\n",
       "    body-style drive-wheels engine-location engine-type num-of-cylinders  \\\n",
       "54       sedan          fwd           front         ohc             four   \n",
       "30   hatchback          fwd           front         ohc             four   \n",
       "10       sedan          rwd           front         ohc             four   \n",
       "108      sedan          rwd           front           l             four   \n",
       "87       sedan          fwd           front         ohc             four   \n",
       "\n",
       "    fuel-system  bore stroke horsepower peak-rpm  price  \n",
       "54         2bbl  3.08   3.15         68     5000   7395  \n",
       "30         1bbl  2.91   3.41         58     4800   6479  \n",
       "10         mpfi  3.50   2.80        101     5800  16430  \n",
       "108         idi  3.70   3.52         95     4150  13200  \n",
       "87         spdi  3.17   3.46        116     5500   9279  "
=======
       "    normalized-losses    make fuel-type aspiration num-of-doors body-style  \\\n",
       "29                145   dodge       gas      turbo          two  hatchback   \n",
       "96                122  nissan       gas        std         four      sedan   \n",
       "34                101   honda       gas        std          two  hatchback   \n",
       "99                106  nissan       gas        std         four  hatchback   \n",
       "168               134  toyota       gas        std          two    hardtop   \n",
       "\n",
       "    drive-wheels engine-location engine-type num-of-cylinders fuel-system  \\\n",
       "29           fwd           front         ohc             four         mfi   \n",
       "96           fwd           front         ohc             four        2bbl   \n",
       "34           fwd           front         ohc             four        1bbl   \n",
       "99           fwd           front         ohc             four        2bbl   \n",
       "168          rwd           front         ohc             four        mpfi   \n",
       "\n",
       "     bore stroke horsepower peak-rpm  price  \n",
       "29   3.60   3.90        145     5000  12964  \n",
       "96   3.15   3.29         69     5200   7499  \n",
       "34   2.91   3.41         76     6000   7129  \n",
       "99   3.33   3.47         97     5200   8949  \n",
       "168  3.62   3.50        116     4800   9639  "
>>>>>>> b7d667e3219fec2c0c3f3da23e1555d476f416d9
      ]
     },
     "execution_count": 4,
     "metadata": {},
     "output_type": "execute_result"
    }
   ],
   "source": [
    "#Analisando colunas não numéricas para ver se alguma contém informação numérica salva como string\n",
    "cars.select_dtypes(include = 'object').sample(5)"
   ]
  },
  {
   "cell_type": "code",
   "execution_count": 5,
   "metadata": {},
   "outputs": [],
   "source": [
<<<<<<< HEAD
    "#Vemos que as colunas 'num-of-doors','num-of-cylinders','bore','stroke','horsepower','peak-rpm','price'\n",
    "#apesar de estarem salvas como object na verdade representam valores numéricos, vamos incluí-las nas\n",
    "\n",
=======
    "#Incluindo colunas 'object' que na verdade representam valores numéricos\n",
>>>>>>> b7d667e3219fec2c0c3f3da23e1555d476f416d9
    "numeric_cols = np.append(numeric_cols,['num-of-doors','num-of-cylinders','bore','stroke','horsepower','peak-rpm','price'])"
   ]
  },
  {
   "cell_type": "markdown",
   "metadata": {},
   "source": [
<<<<<<< HEAD
    "## 3. Limpeza dos dados"
=======
    "## 2. Data Cleaning"
>>>>>>> b7d667e3219fec2c0c3f3da23e1555d476f416d9
   ]
  },
  {
   "cell_type": "code",
   "execution_count": 6,
   "metadata": {},
   "outputs": [
    {
<<<<<<< HEAD
=======
     "name": "stderr",
     "output_type": "stream",
     "text": [
      "C:\\Users\\pedro\\Anaconda3\\lib\\site-packages\\pandas\\core\\ops\\array_ops.py:253: FutureWarning: elementwise comparison failed; returning scalar instead, but in the future will perform elementwise comparison\n",
      "  res_values = method(rvalues)\n"
     ]
    },
    {
>>>>>>> b7d667e3219fec2c0c3f3da23e1555d476f416d9
     "data": {
      "text/plain": [
       "wheel-base           0\n",
       "length               0\n",
       "width                0\n",
       "height               0\n",
       "curb-weight          0\n",
       "engine-size          0\n",
       "compression-ratio    0\n",
       "city-mpg             0\n",
       "highway-mpg          0\n",
       "num-of-doors         2\n",
       "num-of-cylinders     0\n",
       "bore                 4\n",
       "stroke               4\n",
       "horsepower           2\n",
       "peak-rpm             2\n",
       "price                4\n",
       "dtype: int64"
      ]
     },
     "execution_count": 6,
     "metadata": {},
     "output_type": "execute_result"
    }
   ],
   "source": [
<<<<<<< HEAD
    "#Alguns valores vazios estão como \"?\" no dataset, vamos substituílos por np.nan\n",
=======
>>>>>>> b7d667e3219fec2c0c3f3da23e1555d476f416d9
    "cars = cars[numeric_cols]\n",
    "test_missing = cars == \"?\"\n",
    "test_missing.sum()"
   ]
  },
  {
   "cell_type": "code",
   "execution_count": 7,
   "metadata": {},
   "outputs": [],
   "source": [
    "cars.replace(\"?\",np.nan, inplace = True)"
   ]
  },
  {
   "cell_type": "code",
   "execution_count": 8,
   "metadata": {},
   "outputs": [
    {
     "name": "stdout",
     "output_type": "stream",
     "text": [
      "<class 'pandas.core.frame.DataFrame'>\n",
      "RangeIndex: 205 entries, 0 to 204\n",
      "Data columns (total 16 columns):\n",
      " #   Column             Non-Null Count  Dtype  \n",
      "---  ------             --------------  -----  \n",
      " 0   wheel-base         205 non-null    float64\n",
      " 1   length             205 non-null    float64\n",
      " 2   width              205 non-null    float64\n",
      " 3   height             205 non-null    float64\n",
      " 4   curb-weight        205 non-null    int64  \n",
      " 5   engine-size        205 non-null    int64  \n",
      " 6   compression-ratio  205 non-null    float64\n",
      " 7   city-mpg           205 non-null    int64  \n",
      " 8   highway-mpg        205 non-null    int64  \n",
      " 9   num-of-doors       203 non-null    object \n",
      " 10  num-of-cylinders   205 non-null    object \n",
      " 11  bore               201 non-null    object \n",
      " 12  stroke             201 non-null    object \n",
      " 13  horsepower         203 non-null    object \n",
      " 14  peak-rpm           203 non-null    object \n",
      " 15  price              201 non-null    object \n",
      "dtypes: float64(5), int64(4), object(7)\n",
      "memory usage: 25.8+ KB\n"
     ]
    }
   ],
   "source": [
    "cars.info()"
   ]
  },
  {
   "cell_type": "code",
   "execution_count": 9,
   "metadata": {},
   "outputs": [
    {
     "name": "stdout",
     "output_type": "stream",
     "text": [
      "<class 'pandas.core.frame.DataFrame'>\n",
      "RangeIndex: 205 entries, 0 to 204\n",
      "Data columns (total 16 columns):\n",
      " #   Column             Non-Null Count  Dtype  \n",
      "---  ------             --------------  -----  \n",
      " 0   wheel-base         205 non-null    float64\n",
      " 1   length             205 non-null    float64\n",
      " 2   width              205 non-null    float64\n",
      " 3   height             205 non-null    float64\n",
      " 4   curb-weight        205 non-null    int64  \n",
      " 5   engine-size        205 non-null    int64  \n",
      " 6   compression-ratio  205 non-null    float64\n",
      " 7   city-mpg           205 non-null    int64  \n",
      " 8   highway-mpg        205 non-null    int64  \n",
      " 9   num-of-doors       203 non-null    object \n",
      " 10  num-of-cylinders   205 non-null    object \n",
      " 11  bore               201 non-null    float64\n",
      " 12  stroke             201 non-null    float64\n",
      " 13  horsepower         203 non-null    float64\n",
      " 14  peak-rpm           203 non-null    float64\n",
      " 15  price              201 non-null    float64\n",
      "dtypes: float64(10), int64(4), object(2)\n",
      "memory usage: 25.8+ KB\n"
     ]
    }
   ],
   "source": [
<<<<<<< HEAD
    "#As seguinte colunas já estão com números, e só precisam ser salvas como texto\n",
=======
>>>>>>> b7d667e3219fec2c0c3f3da23e1555d476f416d9
    "cars[['bore','stroke','horsepower','peak-rpm','price']] = cars[['bore','stroke','horsepower','peak-rpm','price']].astype(float)\n",
    "cars.info()"
   ]
  },
  {
   "cell_type": "code",
   "execution_count": 10,
   "metadata": {},
   "outputs": [
    {
     "data": {
      "text/plain": [
       "four      159\n",
       "six        24\n",
       "five       11\n",
       "eight       5\n",
       "two         4\n",
<<<<<<< HEAD
       "twelve      1\n",
       "three       1\n",
=======
       "three       1\n",
       "twelve      1\n",
>>>>>>> b7d667e3219fec2c0c3f3da23e1555d476f416d9
       "Name: num-of-cylinders, dtype: int64"
      ]
     },
     "execution_count": 10,
     "metadata": {},
     "output_type": "execute_result"
    }
   ],
   "source": [
<<<<<<< HEAD
    "#Vamos substituir os números que estão salvos por números\n",
=======
>>>>>>> b7d667e3219fec2c0c3f3da23e1555d476f416d9
    "cars['num-of-cylinders'].value_counts(dropna = False)"
   ]
  },
  {
   "cell_type": "code",
   "execution_count": 11,
   "metadata": {},
   "outputs": [
    {
     "data": {
      "text/plain": [
       "4     159\n",
       "6      24\n",
       "5      11\n",
       "8       5\n",
       "2       4\n",
       "12      1\n",
       "3       1\n",
       "Name: num-of-cylinders, dtype: int64"
      ]
     },
     "execution_count": 11,
     "metadata": {},
     "output_type": "execute_result"
    }
   ],
   "source": [
    "num_cyl = {'four':4,'six':6,'five':5,'eight':8,'two':2,'three':3,'twelve':12}\n",
    "cars['num-of-cylinders'].replace(to_replace = num_cyl, inplace = True)\n",
    "cars['num-of-cylinders'].value_counts(dropna = False) "
   ]
  },
  {
   "cell_type": "code",
   "execution_count": 12,
   "metadata": {},
   "outputs": [
    {
     "data": {
      "text/plain": [
       "four    114\n",
       "two      89\n",
       "NaN       2\n",
       "Name: num-of-doors, dtype: int64"
      ]
     },
     "execution_count": 12,
     "metadata": {},
     "output_type": "execute_result"
    }
   ],
   "source": [
    "cars['num-of-doors'].value_counts(dropna = False)"
   ]
  },
  {
   "cell_type": "code",
   "execution_count": 13,
   "metadata": {},
   "outputs": [
    {
     "data": {
      "text/plain": [
       "4.0    114\n",
       "2.0     89\n",
       "NaN      2\n",
       "Name: num-of-doors, dtype: int64"
      ]
     },
     "execution_count": 13,
     "metadata": {},
     "output_type": "execute_result"
    }
   ],
   "source": [
    "cars['num-of-doors'].replace(to_replace = {'four':4,'two':2}, inplace = True)\n",
    "cars['num-of-doors'].value_counts(dropna = False)"
   ]
  },
  {
   "cell_type": "code",
   "execution_count": 14,
   "metadata": {},
   "outputs": [
    {
     "name": "stdout",
     "output_type": "stream",
     "text": [
      "<class 'pandas.core.frame.DataFrame'>\n",
      "RangeIndex: 205 entries, 0 to 204\n",
      "Data columns (total 16 columns):\n",
      " #   Column             Non-Null Count  Dtype  \n",
      "---  ------             --------------  -----  \n",
      " 0   wheel-base         205 non-null    float64\n",
      " 1   length             205 non-null    float64\n",
      " 2   width              205 non-null    float64\n",
      " 3   height             205 non-null    float64\n",
      " 4   curb-weight        205 non-null    int64  \n",
      " 5   engine-size        205 non-null    int64  \n",
      " 6   compression-ratio  205 non-null    float64\n",
      " 7   city-mpg           205 non-null    int64  \n",
      " 8   highway-mpg        205 non-null    int64  \n",
      " 9   num-of-doors       203 non-null    float64\n",
      " 10  num-of-cylinders   205 non-null    int64  \n",
      " 11  bore               201 non-null    float64\n",
      " 12  stroke             201 non-null    float64\n",
      " 13  horsepower         203 non-null    float64\n",
      " 14  peak-rpm           203 non-null    float64\n",
      " 15  price              201 non-null    float64\n",
      "dtypes: float64(11), int64(5)\n",
      "memory usage: 25.8 KB\n"
     ]
    }
   ],
   "source": [
    "cars.info()"
   ]
  },
  {
   "cell_type": "code",
   "execution_count": 15,
   "metadata": {},
   "outputs": [
    {
     "data": {
      "text/html": [
       "<div>\n",
       "<style scoped>\n",
       "    .dataframe tbody tr th:only-of-type {\n",
       "        vertical-align: middle;\n",
       "    }\n",
       "\n",
       "    .dataframe tbody tr th {\n",
       "        vertical-align: top;\n",
       "    }\n",
       "\n",
       "    .dataframe thead th {\n",
       "        text-align: right;\n",
       "    }\n",
       "</style>\n",
       "<table border=\"1\" class=\"dataframe\">\n",
       "  <thead>\n",
       "    <tr style=\"text-align: right;\">\n",
       "      <th></th>\n",
       "      <th>wheel-base</th>\n",
       "      <th>length</th>\n",
       "      <th>width</th>\n",
       "      <th>height</th>\n",
       "      <th>curb-weight</th>\n",
       "      <th>engine-size</th>\n",
       "      <th>compression-ratio</th>\n",
       "      <th>city-mpg</th>\n",
       "      <th>highway-mpg</th>\n",
       "      <th>num-of-doors</th>\n",
       "      <th>num-of-cylinders</th>\n",
       "      <th>bore</th>\n",
       "      <th>stroke</th>\n",
       "      <th>horsepower</th>\n",
       "      <th>peak-rpm</th>\n",
       "      <th>price</th>\n",
       "    </tr>\n",
       "  </thead>\n",
       "  <tbody>\n",
       "    <tr>\n",
       "      <th>27</th>\n",
       "      <td>93.7</td>\n",
       "      <td>157.3</td>\n",
       "      <td>63.8</td>\n",
       "      <td>50.6</td>\n",
       "      <td>2191</td>\n",
       "      <td>98</td>\n",
       "      <td>7.6</td>\n",
       "      <td>24</td>\n",
       "      <td>30</td>\n",
       "      <td>NaN</td>\n",
       "      <td>4</td>\n",
       "      <td>3.03</td>\n",
       "      <td>3.39</td>\n",
       "      <td>102.0</td>\n",
       "      <td>5500.0</td>\n",
       "      <td>8558.0</td>\n",
       "    </tr>\n",
       "    <tr>\n",
       "      <th>63</th>\n",
       "      <td>98.8</td>\n",
       "      <td>177.8</td>\n",
       "      <td>66.5</td>\n",
       "      <td>55.5</td>\n",
       "      <td>2443</td>\n",
       "      <td>122</td>\n",
       "      <td>22.7</td>\n",
       "      <td>36</td>\n",
       "      <td>42</td>\n",
       "      <td>NaN</td>\n",
       "      <td>4</td>\n",
       "      <td>3.39</td>\n",
       "      <td>3.39</td>\n",
       "      <td>64.0</td>\n",
       "      <td>4650.0</td>\n",
       "      <td>10795.0</td>\n",
       "    </tr>\n",
       "  </tbody>\n",
       "</table>\n",
       "</div>"
      ],
      "text/plain": [
       "    wheel-base  length  width  height  curb-weight  engine-size  \\\n",
       "27        93.7   157.3   63.8    50.6         2191           98   \n",
       "63        98.8   177.8   66.5    55.5         2443          122   \n",
       "\n",
       "    compression-ratio  city-mpg  highway-mpg  num-of-doors  num-of-cylinders  \\\n",
       "27                7.6        24           30           NaN                 4   \n",
       "63               22.7        36           42           NaN                 4   \n",
       "\n",
       "    bore  stroke  horsepower  peak-rpm    price  \n",
       "27  3.03    3.39       102.0    5500.0   8558.0  \n",
       "63  3.39    3.39        64.0    4650.0  10795.0  "
      ]
     },
     "execution_count": 15,
     "metadata": {},
     "output_type": "execute_result"
    }
   ],
   "source": [
<<<<<<< HEAD
    "#Avaliando os valores vazios em cada uma das colunas que possuem valores vazios\n",
=======
>>>>>>> b7d667e3219fec2c0c3f3da23e1555d476f416d9
    "cars[cars['num-of-doors'].isnull()]"
   ]
  },
  {
   "cell_type": "code",
   "execution_count": 16,
   "metadata": {},
   "outputs": [
    {
     "data": {
      "text/html": [
       "<div>\n",
       "<style scoped>\n",
       "    .dataframe tbody tr th:only-of-type {\n",
       "        vertical-align: middle;\n",
       "    }\n",
       "\n",
       "    .dataframe tbody tr th {\n",
       "        vertical-align: top;\n",
       "    }\n",
       "\n",
       "    .dataframe thead th {\n",
       "        text-align: right;\n",
       "    }\n",
       "</style>\n",
       "<table border=\"1\" class=\"dataframe\">\n",
       "  <thead>\n",
       "    <tr style=\"text-align: right;\">\n",
       "      <th></th>\n",
       "      <th>wheel-base</th>\n",
       "      <th>length</th>\n",
       "      <th>width</th>\n",
       "      <th>height</th>\n",
       "      <th>curb-weight</th>\n",
       "      <th>engine-size</th>\n",
       "      <th>compression-ratio</th>\n",
       "      <th>city-mpg</th>\n",
       "      <th>highway-mpg</th>\n",
       "      <th>num-of-doors</th>\n",
       "      <th>num-of-cylinders</th>\n",
       "      <th>bore</th>\n",
       "      <th>stroke</th>\n",
       "      <th>horsepower</th>\n",
       "      <th>peak-rpm</th>\n",
       "      <th>price</th>\n",
       "    </tr>\n",
       "  </thead>\n",
       "  <tbody>\n",
       "    <tr>\n",
       "      <th>55</th>\n",
       "      <td>95.3</td>\n",
       "      <td>169.0</td>\n",
       "      <td>65.7</td>\n",
       "      <td>49.6</td>\n",
       "      <td>2380</td>\n",
       "      <td>70</td>\n",
       "      <td>9.4</td>\n",
       "      <td>17</td>\n",
       "      <td>23</td>\n",
       "      <td>2.0</td>\n",
       "      <td>2</td>\n",
       "      <td>NaN</td>\n",
       "      <td>NaN</td>\n",
       "      <td>101.0</td>\n",
       "      <td>6000.0</td>\n",
       "      <td>10945.0</td>\n",
       "    </tr>\n",
       "    <tr>\n",
       "      <th>56</th>\n",
       "      <td>95.3</td>\n",
       "      <td>169.0</td>\n",
       "      <td>65.7</td>\n",
       "      <td>49.6</td>\n",
       "      <td>2380</td>\n",
       "      <td>70</td>\n",
       "      <td>9.4</td>\n",
       "      <td>17</td>\n",
       "      <td>23</td>\n",
       "      <td>2.0</td>\n",
       "      <td>2</td>\n",
       "      <td>NaN</td>\n",
       "      <td>NaN</td>\n",
       "      <td>101.0</td>\n",
       "      <td>6000.0</td>\n",
       "      <td>11845.0</td>\n",
       "    </tr>\n",
       "    <tr>\n",
       "      <th>57</th>\n",
       "      <td>95.3</td>\n",
       "      <td>169.0</td>\n",
       "      <td>65.7</td>\n",
       "      <td>49.6</td>\n",
       "      <td>2385</td>\n",
       "      <td>70</td>\n",
       "      <td>9.4</td>\n",
       "      <td>17</td>\n",
       "      <td>23</td>\n",
       "      <td>2.0</td>\n",
       "      <td>2</td>\n",
       "      <td>NaN</td>\n",
       "      <td>NaN</td>\n",
       "      <td>101.0</td>\n",
       "      <td>6000.0</td>\n",
       "      <td>13645.0</td>\n",
       "    </tr>\n",
       "    <tr>\n",
       "      <th>58</th>\n",
       "      <td>95.3</td>\n",
       "      <td>169.0</td>\n",
       "      <td>65.7</td>\n",
       "      <td>49.6</td>\n",
       "      <td>2500</td>\n",
       "      <td>80</td>\n",
       "      <td>9.4</td>\n",
       "      <td>16</td>\n",
       "      <td>23</td>\n",
       "      <td>2.0</td>\n",
       "      <td>2</td>\n",
       "      <td>NaN</td>\n",
       "      <td>NaN</td>\n",
       "      <td>135.0</td>\n",
       "      <td>6000.0</td>\n",
       "      <td>15645.0</td>\n",
       "    </tr>\n",
       "  </tbody>\n",
       "</table>\n",
       "</div>"
      ],
      "text/plain": [
       "    wheel-base  length  width  height  curb-weight  engine-size  \\\n",
       "55        95.3   169.0   65.7    49.6         2380           70   \n",
       "56        95.3   169.0   65.7    49.6         2380           70   \n",
       "57        95.3   169.0   65.7    49.6         2385           70   \n",
       "58        95.3   169.0   65.7    49.6         2500           80   \n",
       "\n",
       "    compression-ratio  city-mpg  highway-mpg  num-of-doors  num-of-cylinders  \\\n",
       "55                9.4        17           23           2.0                 2   \n",
       "56                9.4        17           23           2.0                 2   \n",
       "57                9.4        17           23           2.0                 2   \n",
       "58                9.4        16           23           2.0                 2   \n",
       "\n",
       "    bore  stroke  horsepower  peak-rpm    price  \n",
       "55   NaN     NaN       101.0    6000.0  10945.0  \n",
       "56   NaN     NaN       101.0    6000.0  11845.0  \n",
       "57   NaN     NaN       101.0    6000.0  13645.0  \n",
       "58   NaN     NaN       135.0    6000.0  15645.0  "
      ]
     },
     "execution_count": 16,
     "metadata": {},
     "output_type": "execute_result"
    }
   ],
   "source": [
    "cars[cars['bore'].isnull()]"
   ]
  },
  {
   "cell_type": "code",
   "execution_count": 17,
   "metadata": {},
   "outputs": [
    {
     "data": {
      "text/html": [
       "<div>\n",
       "<style scoped>\n",
       "    .dataframe tbody tr th:only-of-type {\n",
       "        vertical-align: middle;\n",
       "    }\n",
       "\n",
       "    .dataframe tbody tr th {\n",
       "        vertical-align: top;\n",
       "    }\n",
       "\n",
       "    .dataframe thead th {\n",
       "        text-align: right;\n",
       "    }\n",
       "</style>\n",
       "<table border=\"1\" class=\"dataframe\">\n",
       "  <thead>\n",
       "    <tr style=\"text-align: right;\">\n",
       "      <th></th>\n",
       "      <th>wheel-base</th>\n",
       "      <th>length</th>\n",
       "      <th>width</th>\n",
       "      <th>height</th>\n",
       "      <th>curb-weight</th>\n",
       "      <th>engine-size</th>\n",
       "      <th>compression-ratio</th>\n",
       "      <th>city-mpg</th>\n",
       "      <th>highway-mpg</th>\n",
       "      <th>num-of-doors</th>\n",
       "      <th>num-of-cylinders</th>\n",
       "      <th>bore</th>\n",
       "      <th>stroke</th>\n",
       "      <th>horsepower</th>\n",
       "      <th>peak-rpm</th>\n",
       "      <th>price</th>\n",
       "    </tr>\n",
       "  </thead>\n",
       "  <tbody>\n",
       "    <tr>\n",
       "      <th>130</th>\n",
       "      <td>96.1</td>\n",
       "      <td>181.5</td>\n",
       "      <td>66.5</td>\n",
       "      <td>55.2</td>\n",
       "      <td>2579</td>\n",
       "      <td>132</td>\n",
       "      <td>8.7</td>\n",
       "      <td>23</td>\n",
       "      <td>31</td>\n",
       "      <td>4.0</td>\n",
       "      <td>4</td>\n",
       "      <td>3.46</td>\n",
       "      <td>3.9</td>\n",
       "      <td>NaN</td>\n",
       "      <td>NaN</td>\n",
       "      <td>9295.0</td>\n",
       "    </tr>\n",
       "    <tr>\n",
       "      <th>131</th>\n",
       "      <td>96.1</td>\n",
       "      <td>176.8</td>\n",
       "      <td>66.6</td>\n",
       "      <td>50.5</td>\n",
       "      <td>2460</td>\n",
       "      <td>132</td>\n",
       "      <td>8.7</td>\n",
       "      <td>23</td>\n",
       "      <td>31</td>\n",
       "      <td>2.0</td>\n",
       "      <td>4</td>\n",
       "      <td>3.46</td>\n",
       "      <td>3.9</td>\n",
       "      <td>NaN</td>\n",
       "      <td>NaN</td>\n",
       "      <td>9895.0</td>\n",
       "    </tr>\n",
       "  </tbody>\n",
       "</table>\n",
       "</div>"
      ],
      "text/plain": [
       "     wheel-base  length  width  height  curb-weight  engine-size  \\\n",
       "130        96.1   181.5   66.5    55.2         2579          132   \n",
       "131        96.1   176.8   66.6    50.5         2460          132   \n",
       "\n",
       "     compression-ratio  city-mpg  highway-mpg  num-of-doors  num-of-cylinders  \\\n",
       "130                8.7        23           31           4.0                 4   \n",
       "131                8.7        23           31           2.0                 4   \n",
       "\n",
       "     bore  stroke  horsepower  peak-rpm   price  \n",
       "130  3.46     3.9         NaN       NaN  9295.0  \n",
       "131  3.46     3.9         NaN       NaN  9895.0  "
      ]
     },
     "execution_count": 17,
     "metadata": {},
     "output_type": "execute_result"
    }
   ],
   "source": [
    "cars[cars['horsepower'].isnull()]"
   ]
  },
  {
   "cell_type": "code",
   "execution_count": 18,
   "metadata": {},
   "outputs": [
    {
     "data": {
      "text/html": [
       "<div>\n",
       "<style scoped>\n",
       "    .dataframe tbody tr th:only-of-type {\n",
       "        vertical-align: middle;\n",
       "    }\n",
       "\n",
       "    .dataframe tbody tr th {\n",
       "        vertical-align: top;\n",
       "    }\n",
       "\n",
       "    .dataframe thead th {\n",
       "        text-align: right;\n",
       "    }\n",
       "</style>\n",
       "<table border=\"1\" class=\"dataframe\">\n",
       "  <thead>\n",
       "    <tr style=\"text-align: right;\">\n",
       "      <th></th>\n",
       "      <th>wheel-base</th>\n",
       "      <th>length</th>\n",
       "      <th>width</th>\n",
       "      <th>height</th>\n",
       "      <th>curb-weight</th>\n",
       "      <th>engine-size</th>\n",
       "      <th>compression-ratio</th>\n",
       "      <th>city-mpg</th>\n",
       "      <th>highway-mpg</th>\n",
       "      <th>num-of-doors</th>\n",
       "      <th>num-of-cylinders</th>\n",
       "      <th>bore</th>\n",
       "      <th>stroke</th>\n",
       "      <th>horsepower</th>\n",
       "      <th>peak-rpm</th>\n",
       "      <th>price</th>\n",
       "    </tr>\n",
       "  </thead>\n",
       "  <tbody>\n",
       "    <tr>\n",
       "      <th>9</th>\n",
       "      <td>99.5</td>\n",
       "      <td>178.2</td>\n",
       "      <td>67.9</td>\n",
       "      <td>52.0</td>\n",
       "      <td>3053</td>\n",
       "      <td>131</td>\n",
       "      <td>7.0</td>\n",
       "      <td>16</td>\n",
       "      <td>22</td>\n",
       "      <td>2.0</td>\n",
       "      <td>5</td>\n",
       "      <td>3.13</td>\n",
       "      <td>3.40</td>\n",
       "      <td>160.0</td>\n",
       "      <td>5500.0</td>\n",
       "      <td>NaN</td>\n",
       "    </tr>\n",
       "    <tr>\n",
       "      <th>44</th>\n",
       "      <td>94.5</td>\n",
       "      <td>155.9</td>\n",
       "      <td>63.6</td>\n",
       "      <td>52.0</td>\n",
       "      <td>1874</td>\n",
       "      <td>90</td>\n",
       "      <td>9.6</td>\n",
       "      <td>38</td>\n",
       "      <td>43</td>\n",
       "      <td>2.0</td>\n",
       "      <td>4</td>\n",
       "      <td>3.03</td>\n",
       "      <td>3.11</td>\n",
       "      <td>70.0</td>\n",
       "      <td>5400.0</td>\n",
       "      <td>NaN</td>\n",
       "    </tr>\n",
       "    <tr>\n",
       "      <th>45</th>\n",
       "      <td>94.5</td>\n",
       "      <td>155.9</td>\n",
       "      <td>63.6</td>\n",
       "      <td>52.0</td>\n",
       "      <td>1909</td>\n",
       "      <td>90</td>\n",
       "      <td>9.6</td>\n",
       "      <td>38</td>\n",
       "      <td>43</td>\n",
       "      <td>4.0</td>\n",
       "      <td>4</td>\n",
       "      <td>3.03</td>\n",
       "      <td>3.11</td>\n",
       "      <td>70.0</td>\n",
       "      <td>5400.0</td>\n",
       "      <td>NaN</td>\n",
       "    </tr>\n",
       "    <tr>\n",
       "      <th>129</th>\n",
       "      <td>98.4</td>\n",
       "      <td>175.7</td>\n",
       "      <td>72.3</td>\n",
       "      <td>50.5</td>\n",
       "      <td>3366</td>\n",
       "      <td>203</td>\n",
       "      <td>10.0</td>\n",
       "      <td>17</td>\n",
       "      <td>28</td>\n",
       "      <td>2.0</td>\n",
       "      <td>8</td>\n",
       "      <td>3.94</td>\n",
       "      <td>3.11</td>\n",
       "      <td>288.0</td>\n",
       "      <td>5750.0</td>\n",
       "      <td>NaN</td>\n",
       "    </tr>\n",
       "  </tbody>\n",
       "</table>\n",
       "</div>"
      ],
      "text/plain": [
       "     wheel-base  length  width  height  curb-weight  engine-size  \\\n",
       "9          99.5   178.2   67.9    52.0         3053          131   \n",
       "44         94.5   155.9   63.6    52.0         1874           90   \n",
       "45         94.5   155.9   63.6    52.0         1909           90   \n",
       "129        98.4   175.7   72.3    50.5         3366          203   \n",
       "\n",
       "     compression-ratio  city-mpg  highway-mpg  num-of-doors  num-of-cylinders  \\\n",
       "9                  7.0        16           22           2.0                 5   \n",
       "44                 9.6        38           43           2.0                 4   \n",
       "45                 9.6        38           43           4.0                 4   \n",
       "129               10.0        17           28           2.0                 8   \n",
       "\n",
       "     bore  stroke  horsepower  peak-rpm  price  \n",
       "9    3.13    3.40       160.0    5500.0    NaN  \n",
       "44   3.03    3.11        70.0    5400.0    NaN  \n",
       "45   3.03    3.11        70.0    5400.0    NaN  \n",
       "129  3.94    3.11       288.0    5750.0    NaN  "
      ]
     },
     "execution_count": 18,
     "metadata": {},
     "output_type": "execute_result"
    }
   ],
   "source": [
    "cars[cars['price'].isnull()]"
   ]
  },
  {
   "cell_type": "code",
   "execution_count": 19,
   "metadata": {},
   "outputs": [
    {
     "data": {
      "text/plain": [
       "5.853658536585367"
      ]
     },
     "execution_count": 19,
     "metadata": {},
     "output_type": "execute_result"
    }
   ],
   "source": [
    "a=12/205*100\n",
<<<<<<< HEAD
    "a #Como as colunas com valores vazios representam apenas 5.85% do dataset, vamos excluí-las completamente"
=======
    "a #rows with one or more null values represent 5.85% of the dataset. Lets drop them entirely."
>>>>>>> b7d667e3219fec2c0c3f3da23e1555d476f416d9
   ]
  },
  {
   "cell_type": "code",
   "execution_count": 20,
   "metadata": {},
   "outputs": [],
   "source": [
    "cars = cars.dropna()"
   ]
  },
  {
   "cell_type": "code",
   "execution_count": 21,
   "metadata": {},
   "outputs": [
    {
     "name": "stdout",
     "output_type": "stream",
     "text": [
      "<class 'pandas.core.frame.DataFrame'>\n",
      "Int64Index: 193 entries, 0 to 204\n",
      "Data columns (total 16 columns):\n",
      " #   Column             Non-Null Count  Dtype  \n",
      "---  ------             --------------  -----  \n",
      " 0   wheel-base         193 non-null    float64\n",
      " 1   length             193 non-null    float64\n",
      " 2   width              193 non-null    float64\n",
      " 3   height             193 non-null    float64\n",
      " 4   curb-weight        193 non-null    int64  \n",
      " 5   engine-size        193 non-null    int64  \n",
      " 6   compression-ratio  193 non-null    float64\n",
      " 7   city-mpg           193 non-null    int64  \n",
      " 8   highway-mpg        193 non-null    int64  \n",
      " 9   num-of-doors       193 non-null    float64\n",
      " 10  num-of-cylinders   193 non-null    int64  \n",
      " 11  bore               193 non-null    float64\n",
      " 12  stroke             193 non-null    float64\n",
      " 13  horsepower         193 non-null    float64\n",
      " 14  peak-rpm           193 non-null    float64\n",
      " 15  price              193 non-null    float64\n",
      "dtypes: float64(11), int64(5)\n",
      "memory usage: 25.6 KB\n"
     ]
    }
   ],
   "source": [
    "cars.info()"
   ]
  },
  {
   "cell_type": "code",
   "execution_count": 22,
   "metadata": {},
   "outputs": [],
   "source": [
<<<<<<< HEAD
    "'''O modelo K-nearest neighbors calcula a distância euclidiana entre o ponto cujo valor queremos estimar,\n",
    "    e todos os outros pontos do dataset. Para isso é preciso que todas as colunas do dataset estejam normalizadas,\n",
    "    do contrário colunas com números maiores teriam um peso maior no cálculo da distância.\n",
    "    Para normalizar a coluna, basta subtrair cada valor pela média de sua coluna, e dividí-lo pelo desvio padrão\n",
    "    da coluna.'''\n",
    "normalized_cars = (cars - cars.mean())/cars.std()\n",
    "normalized_cars['price'] = cars['price'] #a nossa coluna alvo deve permacer a mesma, não faz senti normalizá-la"
=======
    "normalized_cars = (cars - cars.mean())/cars.std()\n",
    "normalized_cars['price'] = cars['price']"
>>>>>>> b7d667e3219fec2c0c3f3da23e1555d476f416d9
   ]
  },
  {
   "cell_type": "code",
   "execution_count": 23,
   "metadata": {},
   "outputs": [
    {
     "data": {
      "text/html": [
       "<div>\n",
       "<style scoped>\n",
       "    .dataframe tbody tr th:only-of-type {\n",
       "        vertical-align: middle;\n",
       "    }\n",
       "\n",
       "    .dataframe tbody tr th {\n",
       "        vertical-align: top;\n",
       "    }\n",
       "\n",
       "    .dataframe thead th {\n",
       "        text-align: right;\n",
       "    }\n",
       "</style>\n",
       "<table border=\"1\" class=\"dataframe\">\n",
       "  <thead>\n",
       "    <tr style=\"text-align: right;\">\n",
       "      <th></th>\n",
       "      <th>wheel-base</th>\n",
       "      <th>length</th>\n",
       "      <th>width</th>\n",
       "      <th>height</th>\n",
       "      <th>curb-weight</th>\n",
       "      <th>engine-size</th>\n",
       "      <th>compression-ratio</th>\n",
       "      <th>city-mpg</th>\n",
       "      <th>highway-mpg</th>\n",
       "      <th>num-of-doors</th>\n",
       "      <th>num-of-cylinders</th>\n",
       "      <th>bore</th>\n",
       "      <th>stroke</th>\n",
       "      <th>horsepower</th>\n",
       "      <th>peak-rpm</th>\n",
       "      <th>price</th>\n",
       "    </tr>\n",
       "  </thead>\n",
       "  <tbody>\n",
       "    <tr>\n",
<<<<<<< HEAD
       "      <th>96</th>\n",
       "      <td>-0.719041</td>\n",
       "      <td>-0.723353</td>\n",
       "      <td>-0.979412</td>\n",
       "      <td>0.263095</td>\n",
       "      <td>-1.121146</td>\n",
       "      <td>-0.748353</td>\n",
       "      <td>-0.186959</td>\n",
       "      <td>0.888185</td>\n",
       "      <td>0.911327</td>\n",
       "      <td>0.848214</td>\n",
       "      <td>-0.410180</td>\n",
       "      <td>-0.663113</td>\n",
       "      <td>0.130429</td>\n",
       "      <td>-0.908371</td>\n",
       "      <td>0.213911</td>\n",
       "      <td>7499.0</td>\n",
       "    </tr>\n",
       "    <tr>\n",
       "      <th>111</th>\n",
       "      <td>1.458968</td>\n",
       "      <td>0.991584</td>\n",
       "      <td>1.172337</td>\n",
       "      <td>1.181763</td>\n",
       "      <td>0.974923</td>\n",
       "      <td>-0.195342</td>\n",
       "      <td>-0.438374</td>\n",
       "      <td>-0.990387</td>\n",
       "      <td>-0.995695</td>\n",
       "      <td>0.848214</td>\n",
       "      <td>-0.410180</td>\n",
       "      <td>0.474984</td>\n",
       "      <td>-3.356975</td>\n",
       "      <td>-0.223442</td>\n",
       "      <td>-0.212806</td>\n",
       "      <td>15580.0</td>\n",
       "    </tr>\n",
       "    <tr>\n",
       "      <th>92</th>\n",
       "      <td>-0.719041</td>\n",
       "      <td>-0.723353</td>\n",
       "      <td>-0.979412</td>\n",
       "      <td>0.263095</td>\n",
       "      <td>-1.183801</td>\n",
       "      <td>-0.748353</td>\n",
       "      <td>-0.186959</td>\n",
       "      <td>0.888185</td>\n",
       "      <td>0.911327</td>\n",
       "      <td>0.848214</td>\n",
       "      <td>-0.410180</td>\n",
       "      <td>-0.663113</td>\n",
       "      <td>0.130429</td>\n",
       "      <td>-0.908371</td>\n",
       "      <td>0.213911</td>\n",
       "      <td>6849.0</td>\n",
       "    </tr>\n",
       "    <tr>\n",
       "      <th>17</th>\n",
       "      <td>1.800297</td>\n",
       "      <td>1.816998</td>\n",
       "      <td>2.341766</td>\n",
       "      <td>1.014733</td>\n",
       "      <td>1.791327</td>\n",
       "      <td>1.944572</td>\n",
       "      <td>-0.538940</td>\n",
       "      <td>-1.616578</td>\n",
       "      <td>-1.582471</td>\n",
       "      <td>0.848214</td>\n",
       "      <td>1.544506</td>\n",
       "      <td>1.062388</td>\n",
       "      <td>0.447465</td>\n",
       "      <td>2.068438</td>\n",
       "      <td>0.640629</td>\n",
       "      <td>36880.0</td>\n",
       "    </tr>\n",
       "    <tr>\n",
       "      <th>143</th>\n",
       "      <td>-0.280188</td>\n",
       "      <td>-0.186433</td>\n",
       "      <td>-0.230977</td>\n",
       "      <td>-0.572058</td>\n",
       "      <td>-0.420558</td>\n",
       "      <td>-0.483870</td>\n",
       "      <td>-0.287525</td>\n",
       "      <td>0.105447</td>\n",
       "      <td>0.177857</td>\n",
       "      <td>0.848214</td>\n",
       "      <td>-0.410180</td>\n",
       "      <td>1.062388</td>\n",
       "      <td>-1.930310</td>\n",
       "      <td>-0.249785</td>\n",
       "      <td>0.213911</td>\n",
       "      <td>9960.0</td>\n",
=======
       "      <th>5</th>\n",
       "      <td>0.142410</td>\n",
       "      <td>0.238294</td>\n",
       "      <td>0.190017</td>\n",
       "      <td>-0.321512</td>\n",
       "      <td>-0.103489</td>\n",
       "      <td>0.189362</td>\n",
       "      <td>-0.413232</td>\n",
       "      <td>-0.990387</td>\n",
       "      <td>-0.849001</td>\n",
       "      <td>-1.172839</td>\n",
       "      <td>0.567163</td>\n",
       "      <td>-0.516262</td>\n",
       "      <td>0.479169</td>\n",
       "      <td>0.171710</td>\n",
       "      <td>0.853987</td>\n",
       "      <td>15250.0</td>\n",
       "    </tr>\n",
       "    <tr>\n",
       "      <th>124</th>\n",
       "      <td>-0.491488</td>\n",
       "      <td>-0.090269</td>\n",
       "      <td>0.190017</td>\n",
       "      <td>-1.532484</td>\n",
       "      <td>0.486980</td>\n",
       "      <td>0.670242</td>\n",
       "      <td>-0.790354</td>\n",
       "      <td>-0.990387</td>\n",
       "      <td>-0.995695</td>\n",
       "      <td>-1.172839</td>\n",
       "      <td>-0.410180</td>\n",
       "      <td>0.952250</td>\n",
       "      <td>1.937538</td>\n",
       "      <td>1.093731</td>\n",
       "      <td>-0.212806</td>\n",
       "      <td>12764.0</td>\n",
       "    </tr>\n",
       "    <tr>\n",
       "      <th>123</th>\n",
       "      <td>0.711293</td>\n",
       "      <td>0.021924</td>\n",
       "      <td>-0.605195</td>\n",
       "      <td>2.476251</td>\n",
       "      <td>-0.050328</td>\n",
       "      <td>-0.147254</td>\n",
       "      <td>-0.413232</td>\n",
       "      <td>-0.207649</td>\n",
       "      <td>-0.115531</td>\n",
       "      <td>0.848214</td>\n",
       "      <td>-0.410180</td>\n",
       "      <td>0.071143</td>\n",
       "      <td>0.669391</td>\n",
       "      <td>-0.407846</td>\n",
       "      <td>-0.212806</td>\n",
       "      <td>8921.0</td>\n",
       "    </tr>\n",
       "    <tr>\n",
       "      <th>161</th>\n",
       "      <td>-0.523995</td>\n",
       "      <td>-0.643216</td>\n",
       "      <td>-0.698749</td>\n",
       "      <td>-0.446785</td>\n",
       "      <td>-0.834456</td>\n",
       "      <td>-0.724309</td>\n",
       "      <td>-0.287525</td>\n",
       "      <td>0.418542</td>\n",
       "      <td>0.471245</td>\n",
       "      <td>0.848214</td>\n",
       "      <td>-0.410180</td>\n",
       "      <td>-0.516262</td>\n",
       "      <td>-0.693867</td>\n",
       "      <td>-0.882028</td>\n",
       "      <td>-0.639523</td>\n",
       "      <td>8358.0</td>\n",
       "    </tr>\n",
       "    <tr>\n",
       "      <th>49</th>\n",
       "      <td>0.499994</td>\n",
       "      <td>1.392270</td>\n",
       "      <td>2.201435</td>\n",
       "      <td>-2.534668</td>\n",
       "      <td>2.636211</td>\n",
       "      <td>4.757718</td>\n",
       "      <td>0.341012</td>\n",
       "      <td>-1.929674</td>\n",
       "      <td>-2.022553</td>\n",
       "      <td>-1.172839</td>\n",
       "      <td>7.408563</td>\n",
       "      <td>0.768686</td>\n",
       "      <td>-1.549866</td>\n",
       "      <td>4.175914</td>\n",
       "      <td>-0.212806</td>\n",
       "      <td>36000.0</td>\n",
>>>>>>> b7d667e3219fec2c0c3f3da23e1555d476f416d9
       "    </tr>\n",
       "  </tbody>\n",
       "</table>\n",
       "</div>"
      ],
      "text/plain": [
       "     wheel-base    length     width    height  curb-weight  engine-size  \\\n",
<<<<<<< HEAD
       "96    -0.719041 -0.723353 -0.979412  0.263095    -1.121146    -0.748353   \n",
       "111    1.458968  0.991584  1.172337  1.181763     0.974923    -0.195342   \n",
       "92    -0.719041 -0.723353 -0.979412  0.263095    -1.183801    -0.748353   \n",
       "17     1.800297  1.816998  2.341766  1.014733     1.791327     1.944572   \n",
       "143   -0.280188 -0.186433 -0.230977 -0.572058    -0.420558    -0.483870   \n",
       "\n",
       "     compression-ratio  city-mpg  highway-mpg  num-of-doors  num-of-cylinders  \\\n",
       "96           -0.186959  0.888185     0.911327      0.848214         -0.410180   \n",
       "111          -0.438374 -0.990387    -0.995695      0.848214         -0.410180   \n",
       "92           -0.186959  0.888185     0.911327      0.848214         -0.410180   \n",
       "17           -0.538940 -1.616578    -1.582471      0.848214          1.544506   \n",
       "143          -0.287525  0.105447     0.177857      0.848214         -0.410180   \n",
       "\n",
       "         bore    stroke  horsepower  peak-rpm    price  \n",
       "96  -0.663113  0.130429   -0.908371  0.213911   7499.0  \n",
       "111  0.474984 -3.356975   -0.223442 -0.212806  15580.0  \n",
       "92  -0.663113  0.130429   -0.908371  0.213911   6849.0  \n",
       "17   1.062388  0.447465    2.068438  0.640629  36880.0  \n",
       "143  1.062388 -1.930310   -0.249785  0.213911   9960.0  "
=======
       "5      0.142410  0.238294  0.190017 -0.321512    -0.103489     0.189362   \n",
       "124   -0.491488 -0.090269  0.190017 -1.532484     0.486980     0.670242   \n",
       "123    0.711293  0.021924 -0.605195  2.476251    -0.050328    -0.147254   \n",
       "161   -0.523995 -0.643216 -0.698749 -0.446785    -0.834456    -0.724309   \n",
       "49     0.499994  1.392270  2.201435 -2.534668     2.636211     4.757718   \n",
       "\n",
       "     compression-ratio  city-mpg  highway-mpg  num-of-doors  num-of-cylinders  \\\n",
       "5            -0.413232 -0.990387    -0.849001     -1.172839          0.567163   \n",
       "124          -0.790354 -0.990387    -0.995695     -1.172839         -0.410180   \n",
       "123          -0.413232 -0.207649    -0.115531      0.848214         -0.410180   \n",
       "161          -0.287525  0.418542     0.471245      0.848214         -0.410180   \n",
       "49            0.341012 -1.929674    -2.022553     -1.172839          7.408563   \n",
       "\n",
       "         bore    stroke  horsepower  peak-rpm    price  \n",
       "5   -0.516262  0.479169    0.171710  0.853987  15250.0  \n",
       "124  0.952250  1.937538    1.093731 -0.212806  12764.0  \n",
       "123  0.071143  0.669391   -0.407846 -0.212806   8921.0  \n",
       "161 -0.516262 -0.693867   -0.882028 -0.639523   8358.0  \n",
       "49   0.768686 -1.549866    4.175914 -0.212806  36000.0  "
>>>>>>> b7d667e3219fec2c0c3f3da23e1555d476f416d9
      ]
     },
     "execution_count": 23,
     "metadata": {},
     "output_type": "execute_result"
    }
   ],
   "source": [
    "normalized_cars.sample(5)"
   ]
  },
  {
   "cell_type": "markdown",
   "metadata": {},
   "source": [
<<<<<<< HEAD
    "## 4. Escolha das features com modelo K-Nearest Neighbors de uma variável\n",
    "\n",
    "* Nosso dataset agora contem 15 features e precisamos escolher quais delas fazem mais sentido de serem usadas em nosso modelo. Para isso vamos primeiramente criar um modelo 'univariate', onde vamos testar cada feature individualmente.\n",
    "\n",
    "* Para treinar e testar os modelos vamos utilizar o método de cross validation, com 5 folds. Ou seja, o nosso código vai dividir o dataset em 5 partes iguais e rodar 5 modelos. Em cada \"rodada\", 4/5 das linhas serão usadas para treinar o modelo e 1/5 para teste. Isso ajuda a evitar que tenhamos um resultado melhor ou pior, porque treinamos o modelo com uma fração específica do dataset. Para fazer isso vamos usar o método cross_val_score, com o parâmetro de scoring 'neg_mean_squared_error', cuja saída são os 5 valores de mean squared error entre os valores previstos e os reais para cada uma das 5 rodadas. O valor final para o modelo será a raiz da média desses modelos."
=======
    "## 3. Univariate KNN Model using Cross Fold Validation"
>>>>>>> b7d667e3219fec2c0c3f3da23e1555d476f416d9
   ]
  },
  {
   "cell_type": "code",
   "execution_count": 24,
   "metadata": {},
   "outputs": [],
   "source": [
    "def univariate_knn_cross_fold(feature,df = normalized_cars,target = 'price',k = 5):   \n",
    "    model = KNeighborsRegressor(n_neighbors = k)\n",
    "    k_fold = KFold(n_splits=5, shuffle=True, random_state= rs)\n",
    "    mses = cross_val_score(model,df[[feature]],df[[target]],scoring = 'neg_mean_squared_error', cv = k_fold)\n",
    "    rmses = (np.absolute(mses))**0.5\n",
    "    avg_rmse = np.mean(rmses)\n",
    "    return avg_rmse"
   ]
  },
  {
   "cell_type": "code",
   "execution_count": 25,
   "metadata": {},
   "outputs": [
    {
     "data": {
      "text/plain": [
<<<<<<< HEAD
=======
       "3244.618559197672"
      ]
     },
     "execution_count": 25,
     "metadata": {},
     "output_type": "execute_result"
    }
   ],
   "source": [
    "univariate_knn_cross_fold(feature = 'engine-size', k = 3)"
   ]
  },
  {
   "cell_type": "code",
   "execution_count": 26,
   "metadata": {},
   "outputs": [
    {
     "data": {
      "text/plain": [
       "[<matplotlib.lines.Line2D at 0x17e5f537880>]"
      ]
     },
     "execution_count": 26,
     "metadata": {},
     "output_type": "execute_result"
    },
    {
     "data": {
      "image/png": "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\n",
      "text/plain": [
       "<Figure size 432x288 with 1 Axes>"
      ]
     },
     "metadata": {
      "needs_background": "light"
     },
     "output_type": "display_data"
    }
   ],
   "source": [
    "k_values = {}\n",
    "\n",
    "for i in range(1,11,2):\n",
    "    k_values[i] = univariate_knn_cross_fold(feature = 'engine-size',df = normalized_cars,target = 'price',k = i)\n",
    "        \n",
    "x = list(k_values.keys())\n",
    "y = list(k_values.values())\n",
    "\n",
    "plt.title(\"RMSE per number of neighbors, with 'engine-size' as the only feature\")\n",
    "plt.plot(x,y)"
   ]
  },
  {
   "cell_type": "code",
   "execution_count": 27,
   "metadata": {},
   "outputs": [
    {
     "data": {
      "text/plain": [
>>>>>>> b7d667e3219fec2c0c3f3da23e1555d476f416d9
       "engine-size          3179.500756\n",
       "horsepower           3965.815026\n",
       "curb-weight          4139.620194\n",
       "city-mpg             4172.737507\n",
       "highway-mpg          4416.539895\n",
       "width                4707.336966\n",
       "length               5207.326031\n",
       "wheel-base           5719.290972\n",
       "compression-ratio    6683.751566\n",
       "stroke               7302.688658\n",
       "bore                 7585.908002\n",
       "height               7608.255204\n",
       "peak-rpm             7640.543271\n",
       "num-of-cylinders     8334.652419\n",
       "num-of-doors         8639.692651\n",
       "dtype: float64"
      ]
     },
<<<<<<< HEAD
     "execution_count": 25,
=======
     "execution_count": 27,
>>>>>>> b7d667e3219fec2c0c3f3da23e1555d476f416d9
     "metadata": {},
     "output_type": "execute_result"
    }
   ],
   "source": [
<<<<<<< HEAD
    "#Vamos fazer um for loop com cada feature e salvar em um dicionário cada feature e seu respectivo RMSE (root\n",
    "#mean squared error)\n",
    "#Inicialmente vamos usar um K de 5 \"vizinhos\"\n",
    "\n",
=======
>>>>>>> b7d667e3219fec2c0c3f3da23e1555d476f416d9
    "feature_rmse = {}\n",
    "\n",
    "for col in ['num-of-doors', 'wheel-base', 'length', 'width', 'height',\n",
    "       'curb-weight', 'num-of-cylinders', 'engine-size', 'bore', 'stroke',\n",
    "       'compression-ratio', 'horsepower', 'peak-rpm', 'city-mpg',\n",
    "       'highway-mpg']:\n",
    "    root_mean_squared_error = univariate_knn_cross_fold(df = normalized_cars,feature = col,target = 'price', k = 5)\n",
    "    feature_rmse[col] = root_mean_squared_error\n",
    "\n",
    "feature_rmse = pd.Series(feature_rmse)\n",
    "feature_rmse = feature_rmse.sort_values()\n",
    "feature_rmse"
   ]
  },
  {
   "cell_type": "code",
<<<<<<< HEAD
   "execution_count": 26,
=======
   "execution_count": 28,
>>>>>>> b7d667e3219fec2c0c3f3da23e1555d476f416d9
   "metadata": {},
   "outputs": [
    {
     "data": {
      "text/plain": [
<<<<<<< HEAD
       "0    engine-size\n",
       "1     horsepower\n",
       "2    curb-weight\n",
       "3       city-mpg\n",
       "4    highway-mpg\n",
       "5          width\n",
       "dtype: object"
      ]
     },
     "execution_count": 26,
=======
       "array(['engine-size', 'horsepower', 'curb-weight', 'city-mpg',\n",
       "       'highway-mpg', 'width'], dtype=object)"
      ]
     },
     "execution_count": 28,
>>>>>>> b7d667e3219fec2c0c3f3da23e1555d476f416d9
     "metadata": {},
     "output_type": "execute_result"
    }
   ],
   "source": [
<<<<<<< HEAD
    "six_best_features = pd.Series(feature_rmse.index.values[0:6])\n",
    "six_best_features"
=======
    "six_best_features_cross_fold = feature_rmse.index.values[0:6]\n",
    "six_best_features_cross_fold"
>>>>>>> b7d667e3219fec2c0c3f3da23e1555d476f416d9
   ]
  },
  {
   "cell_type": "markdown",
   "metadata": {},
   "source": [
<<<<<<< HEAD
    "* Chegamos à conclusão que as 6 melhores features são 'engine-size', 'horsepower', 'curb-weight', 'city-mpg',    'highway-mpg' e 'width'. No entanto chegamos a essa conclusão usando o valor de k = 5. Vamos agora plotar o RMSE para cada um dessas 6 features, variando o valor de K."
=======
    "* Testando valores de k com 6 melhores features"
>>>>>>> b7d667e3219fec2c0c3f3da23e1555d476f416d9
   ]
  },
  {
   "cell_type": "code",
<<<<<<< HEAD
   "execution_count": 27,
   "metadata": {},
   "outputs": [],
   "source": [
    "dict_feature_k_rmse= {}\n",
    "\n",
    "for f in six_best_features:\n",
    "    temp_feature_k_dict = {}\n",
    "    for n_neighbors in range(1,11,1): #loop para variar o valor de K\n",
    "        temp_feature_k_dict[n_neighbors] = univariate_knn_cross_fold(df = normalized_cars,feature = f,target = 'price', k = n_neighbors)\n",
    "    dict_feature_k_rmse[f] =  temp_feature_k_dict \n"
=======
   "execution_count": 29,
   "metadata": {},
   "outputs": [
    {
     "data": {
      "text/plain": [
       "array(['engine-size', 'horsepower', 'curb-weight', 'city-mpg',\n",
       "       'highway-mpg', 'width'], dtype=object)"
      ]
     },
     "execution_count": 29,
     "metadata": {},
     "output_type": "execute_result"
    }
   ],
   "source": [
    "six_best_features_cross_fold"
   ]
  },
  {
   "cell_type": "code",
   "execution_count": 30,
   "metadata": {},
   "outputs": [],
   "source": [
    "dict_feature_k_rmse_cross_fold = {}\n",
    "\n",
    "for f in six_best_features_cross_fold:\n",
    "    temp_feature_k_dict = {}\n",
    "    for n_neighbors in range(1,11,2):\n",
    "        temp_feature_k_dict[n_neighbors] = univariate_knn_cross_fold(df = normalized_cars,feature = f,target = 'price', k = n_neighbors)\n",
    "    dict_feature_k_rmse_cross_fold[f] =  temp_feature_k_dict \n"
>>>>>>> b7d667e3219fec2c0c3f3da23e1555d476f416d9
   ]
  },
  {
   "cell_type": "code",
<<<<<<< HEAD
   "execution_count": 28,
=======
   "execution_count": 31,
>>>>>>> b7d667e3219fec2c0c3f3da23e1555d476f416d9
   "metadata": {},
   "outputs": [
    {
     "data": {
<<<<<<< HEAD
      "image/png": "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\n",
=======
      "image/png": "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\n",
>>>>>>> b7d667e3219fec2c0c3f3da23e1555d476f416d9
      "text/plain": [
       "<Figure size 576x432 with 1 Axes>"
      ]
     },
     "metadata": {
      "needs_background": "light"
     },
     "output_type": "display_data"
    }
   ],
   "source": [
    "figure = plt.figure(figsize = [8,6])\n",
    "ax1 = figure.add_subplot(1,1,1)\n",
    "\n",
<<<<<<< HEAD
    "for key in dict_feature_k_rmse:\n",
    "    x = range(1,11,1)\n",
    "    y = list(dict_feature_k_rmse[key].values())\n",
    "    ax1.plot(x,y, label = key)\n",
    "\n",
    "ax1.legend()\n",
    "ax1.set_xticks(range(1,11,1))\n",
    "ax1.set_xlabel('k = number or neighbors')\n",
    "ax1.set_ylabel('RMSE')\n",
    "ax1.set_ylim(2000,8000)\n",
    "ax1.set_title(\"Univariate Model RMSE x k\")\n",
=======
    "for key in dict_feature_k_rmse_cross_fold:\n",
    "    x = range(1,11,2)\n",
    "    y = list(dict_feature_k_rmse_cross_fold[key].values())\n",
    "    ax1.plot(x,y, label = key)\n",
    "\n",
    "ax1.legend()\n",
    "ax1.set_xlabel('k = number or neighbors')\n",
    "ax1.set_ylabel('RMSE')\n",
    "ax1.set_ylim(2000,8000)\n",
    "ax1.set_title(\"Univariate Model RMSE x k - Cross Fold Validation\")\n",
>>>>>>> b7d667e3219fec2c0c3f3da23e1555d476f416d9
    "\n",
    "plt.show()"
   ]
  },
  {
   "cell_type": "markdown",
   "metadata": {},
   "source": [
<<<<<<< HEAD
    "* Agora vamos ordenar esses valores em função da média de desempenho do modelo para os valores de k que plotamos."
=======
    "* Calculating the 6 best features, using the mean for n_neighbors between 1 and 9"
>>>>>>> b7d667e3219fec2c0c3f3da23e1555d476f416d9
   ]
  },
  {
   "cell_type": "code",
<<<<<<< HEAD
   "execution_count": 31,
=======
   "execution_count": 32,
>>>>>>> b7d667e3219fec2c0c3f3da23e1555d476f416d9
   "metadata": {},
   "outputs": [
    {
     "data": {
      "text/plain": [
<<<<<<< HEAD
       "engine-size    3350.252909\n",
       "horsepower     4111.076609\n",
       "curb-weight    4359.695675\n",
       "city-mpg       4375.203986\n",
       "highway-mpg    4590.531005\n",
       "width          4601.638003\n",
       "dtype: float64"
      ]
     },
     "execution_count": 31,
=======
       "engine-size    3404.838945\n",
       "horsepower     4108.193968\n",
       "city-mpg       4447.322503\n",
       "curb-weight    4452.357326\n",
       "width          4685.117193\n",
       "highway-mpg    4766.727000\n",
       "dtype: float64"
      ]
     },
     "execution_count": 32,
>>>>>>> b7d667e3219fec2c0c3f3da23e1555d476f416d9
     "metadata": {},
     "output_type": "execute_result"
    }
   ],
   "source": [
    "avg_rmse_feature = {}\n",
    "\n",
<<<<<<< HEAD
    "for f in six_best_features:\n",
    "    avg_rmse = np.average(list(dict_feature_k_rmse[f].values()))\n",
    "    avg_rmse_feature[f] = avg_rmse\n",
    "\n",
    "six_best_features = pd.Series(avg_rmse_feature).sort_values()\n",
    "six_best_features #Notamos que ordenando as features pela média, a sequência mudou."
=======
    "for key in dict_feature_k_rmse_cross_fold:\n",
    "    avg_rmse = np.average(list(dict_feature_k_rmse_cross_fold[key].values()))\n",
    "    avg_rmse_feature[key] = avg_rmse\n",
    "\n",
    "six_best_features_cross_fold = pd.Series(avg_rmse_feature).sort_values()\n",
    "six_best_features_cross_fold"
>>>>>>> b7d667e3219fec2c0c3f3da23e1555d476f416d9
   ]
  },
  {
   "cell_type": "markdown",
   "metadata": {},
   "source": [
<<<<<<< HEAD
    "## 5. Modelo K Nearest Neighbors multivariável\n",
    "\n",
    "* Agora que já definimos as 6 possíveis features do modelo, vamos ver como o modelo se comporta, utilizando mais de uma feature, e determinar quais os melhores hyperparameters para o modelo (ou seja, quantos vizinhos k devemos usar, e quantas features devemos usar.\n"
=======
    "## 4.2. Multivariate Model - Cross Fold Validation"
>>>>>>> b7d667e3219fec2c0c3f3da23e1555d476f416d9
   ]
  },
  {
   "cell_type": "code",
<<<<<<< HEAD
   "execution_count": 32,
=======
   "execution_count": 33,
>>>>>>> b7d667e3219fec2c0c3f3da23e1555d476f416d9
   "metadata": {},
   "outputs": [],
   "source": [
    "def multivariate_knn_cross_fold(feature,df = normalized_cars,target = 'price',k = 5):   \n",
    "    model = KNeighborsRegressor(n_neighbors = k)\n",
    "    k_fold = KFold(n_splits=5, shuffle=True, random_state= rs)\n",
    "    mses = cross_val_score(model,df[feature],df[[target]],scoring = 'neg_mean_squared_error', cv = k_fold)\n",
    "    rmses = (np.absolute(mses))**0.5\n",
    "    avg_rmse = np.mean(rmses)\n",
    "    return avg_rmse"
   ]
  },
  {
   "cell_type": "code",
<<<<<<< HEAD
   "execution_count": 33,
=======
   "execution_count": 34,
   "metadata": {},
   "outputs": [
    {
     "data": {
      "text/plain": [
       "1    3244.618559\n",
       "2    2930.005982\n",
       "3    2885.613267\n",
       "4    2777.594989\n",
       "5    2786.084591\n",
       "6    2956.321134\n",
       "dtype: float64"
      ]
     },
     "execution_count": 34,
     "metadata": {},
     "output_type": "execute_result"
    }
   ],
   "source": [
    "six_best_features_cross_fold = pd.Series(six_best_features_cross_fold)\n",
    "number_features_rmse_cross_fold = {}\n",
    "\n",
    "for i in range(1,7):\n",
    "    features = six_best_features_cross_fold[0:i].keys().values\n",
    "    number_features_rmse_cross_fold[i] = multivariate_knn_cross_fold(feature = features, k = 3)\n",
    "\n",
    "pd.Series(number_features_rmse_cross_fold)"
   ]
  },
  {
   "cell_type": "markdown",
   "metadata": {},
   "source": [
    "## 5.1. Hyperparameter Tuning - Cross fold validation"
   ]
  },
  {
   "cell_type": "code",
   "execution_count": 35,
>>>>>>> b7d667e3219fec2c0c3f3da23e1555d476f416d9
   "metadata": {},
   "outputs": [
    {
     "data": {
      "text/plain": [
       "{\"['engine-size']\": {1: 3858.5869848939556,\n",
       "  2: 3253.0982338214644,\n",
       "  3: 3244.618559197672,\n",
       "  4: 3107.8055701172243,\n",
       "  5: 3179.5007556120813,\n",
       "  6: 3252.677890298296,\n",
       "  7: 3351.913411215262,\n",
       "  8: 3453.4707466024834,\n",
       "  9: 3389.5750130382403,\n",
<<<<<<< HEAD
       "  10: 3411.281924990897},\n",
=======
       "  10: 3411.281924990897,\n",
       "  11: 3465.2722333600846,\n",
       "  12: 3565.5937260244928,\n",
       "  13: 3668.4114452219474,\n",
       "  14: 3788.965399236936,\n",
       "  15: 3869.3989253881527,\n",
       "  16: 3929.8693173609818,\n",
       "  17: 3987.7609971401957,\n",
       "  18: 4031.51787690573,\n",
       "  19: 4129.67503348199,\n",
       "  20: 4224.000311317905,\n",
       "  21: 4304.8930388027,\n",
       "  22: 4333.263432032515,\n",
       "  23: 4385.955334475281,\n",
       "  24: 4417.826252887882,\n",
       "  25: 4456.280336089015},\n",
>>>>>>> b7d667e3219fec2c0c3f3da23e1555d476f416d9
       " \"['engine-size' 'horsepower']\": {1: 3297.1802217275485,\n",
       "  2: 2844.8506969034343,\n",
       "  3: 2930.005981681948,\n",
       "  4: 2964.0620957221763,\n",
       "  5: 3068.072893566577,\n",
       "  6: 3148.062653634363,\n",
       "  7: 3172.090674241893,\n",
       "  8: 3258.674023340924,\n",
       "  9: 3349.5290928795102,\n",
<<<<<<< HEAD
       "  10: 3473.4391585078033},\n",
       " \"['engine-size' 'horsepower' 'curb-weight']\": {1: 2803.888388557465,\n",
       "  2: 2650.0988908712648,\n",
       "  3: 2923.890674311194,\n",
       "  4: 3047.934223549778,\n",
       "  5: 3273.083408811743,\n",
       "  6: 3343.3920234399397,\n",
       "  7: 3371.930398934447,\n",
       "  8: 3520.656541024203,\n",
       "  9: 3644.2885759306637,\n",
       "  10: 3740.856114037519},\n",
       " \"['engine-size' 'horsepower' 'curb-weight' 'city-mpg']\": {1: 2679.1105281932637,\n",
=======
       "  10: 3473.4391585078033,\n",
       "  11: 3655.933021919476,\n",
       "  12: 3836.3153486327283,\n",
       "  13: 3957.347535837478,\n",
       "  14: 4020.063735626635,\n",
       "  15: 4122.25519183581,\n",
       "  16: 4173.489841284689,\n",
       "  17: 4199.753122849313,\n",
       "  18: 4290.037010311831,\n",
       "  19: 4375.7978831011815,\n",
       "  20: 4475.074794023135,\n",
       "  21: 4524.395554960187,\n",
       "  22: 4582.395167654491,\n",
       "  23: 4619.6247940613375,\n",
       "  24: 4659.576956834857,\n",
       "  25: 4697.10011373047},\n",
       " \"['engine-size' 'horsepower' 'city-mpg']\": {1: 3149.4142654586312,\n",
       "  2: 2756.1914218970924,\n",
       "  3: 2885.6132666637554,\n",
       "  4: 2961.350244166325,\n",
       "  5: 2992.529963400594,\n",
       "  6: 3061.5996462327753,\n",
       "  7: 3081.6066898865784,\n",
       "  8: 3204.622107418904,\n",
       "  9: 3339.4015850654155,\n",
       "  10: 3495.2937935196874,\n",
       "  11: 3670.6546341321578,\n",
       "  12: 3806.402699509734,\n",
       "  13: 3953.266000732616,\n",
       "  14: 4045.413417726377,\n",
       "  15: 4136.977011568893,\n",
       "  16: 4210.141900178406,\n",
       "  17: 4264.2790793774575,\n",
       "  18: 4353.079447556151,\n",
       "  19: 4452.892710700289,\n",
       "  20: 4514.0534042860845,\n",
       "  21: 4561.014427999388,\n",
       "  22: 4621.392962851806,\n",
       "  23: 4671.72750121333,\n",
       "  24: 4708.578931164039,\n",
       "  25: 4749.552277257514},\n",
       " \"['engine-size' 'horsepower' 'city-mpg' 'curb-weight']\": {1: 2679.1105281932637,\n",
>>>>>>> b7d667e3219fec2c0c3f3da23e1555d476f416d9
       "  2: 2448.297214749308,\n",
       "  3: 2777.594988782325,\n",
       "  4: 2890.4949605219554,\n",
       "  5: 3051.1607452745693,\n",
       "  6: 3156.603629677561,\n",
       "  7: 3218.7276629215844,\n",
       "  8: 3462.4996128698576,\n",
       "  9: 3573.050965543994,\n",
<<<<<<< HEAD
       "  10: 3650.1529656224097},\n",
       " \"['engine-size' 'horsepower' 'curb-weight' 'city-mpg' 'highway-mpg']\": {1: 2676.50555614968,\n",
       "  2: 2397.3673031633175,\n",
       "  3: 2753.5556358051026,\n",
       "  4: 2997.5059077053425,\n",
       "  5: 3234.976261336127,\n",
       "  6: 3259.4076217481875,\n",
       "  7: 3346.1917460982236,\n",
       "  8: 3537.4451973425794,\n",
       "  9: 3562.1228432320977,\n",
       "  10: 3743.8525083199675}}"
      ]
     },
     "execution_count": 33,
=======
       "  10: 3650.1529656224097,\n",
       "  11: 3714.6146979440905,\n",
       "  12: 3863.638807093387,\n",
       "  13: 3942.222820860653,\n",
       "  14: 3949.6444784788278,\n",
       "  15: 3981.3266524939777,\n",
       "  16: 4040.9612951456793,\n",
       "  17: 4073.1229561098758,\n",
       "  18: 4139.956473845056,\n",
       "  19: 4176.795878996941,\n",
       "  20: 4199.408804246923,\n",
       "  21: 4267.072773289767,\n",
       "  22: 4317.57273234087,\n",
       "  23: 4355.872023320683,\n",
       "  24: 4385.487738579037,\n",
       "  25: 4411.525909203567}}"
      ]
     },
     "execution_count": 35,
>>>>>>> b7d667e3219fec2c0c3f3da23e1555d476f416d9
     "metadata": {},
     "output_type": "execute_result"
    }
   ],
   "source": [
    "feature_rmse_cross_fold = {}\n",
    "\n",
<<<<<<< HEAD
    "for i in range(1,6):\n",
    "    features = six_best_features[0:i].keys().values\n",
    "    k_per_feature_temp = {}\n",
    "    for n_neighbors in range(1,11,1):\n",
=======
    "for i in range(1,5):\n",
    "    features = six_best_features_cross_fold[0:i].keys().values\n",
    "    k_per_feature_temp = {}\n",
    "    for n_neighbors in range(1,26):\n",
>>>>>>> b7d667e3219fec2c0c3f3da23e1555d476f416d9
    "        k_per_feature_temp[n_neighbors] = multivariate_knn_cross_fold(feature = features, k = n_neighbors)\n",
    "    feature_rmse_cross_fold[str(features)] = k_per_feature_temp\n",
    "    \n",
    "feature_rmse_cross_fold"
   ]
  },
  {
   "cell_type": "code",
<<<<<<< HEAD
   "execution_count": 34,
=======
   "execution_count": 36,
>>>>>>> b7d667e3219fec2c0c3f3da23e1555d476f416d9
   "metadata": {},
   "outputs": [
    {
     "data": {
<<<<<<< HEAD
      "image/png": "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\n",
=======
      "image/png": "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\n",
>>>>>>> b7d667e3219fec2c0c3f3da23e1555d476f416d9
      "text/plain": [
       "<Figure size 576x432 with 1 Axes>"
      ]
     },
     "metadata": {
      "needs_background": "light"
     },
     "output_type": "display_data"
    }
   ],
   "source": [
    "%matplotlib inline\n",
    "figure3 = plt.figure(figsize = [8,6])\n",
    "ax3 = figure3.add_subplot(1,1,1)\n",
    "\n",
    "for key in feature_rmse_cross_fold:\n",
    "    x = list(feature_rmse_cross_fold[key].keys())\n",
    "    y = list(feature_rmse_cross_fold[key].values())\n",
    "    ax3.plot(x,y, label = key)\n",
    "\n",
    "ax3.legend()\n",
    "ax3.set_xlabel('k = number or neighbors')\n",
    "ax3.set_ylabel('RMSE')\n",
    "ax3.set_ylim(2000,6000)\n",
    "ax3.set_title(\"Multivariate Model RMSE x k - Cross fold validation\")\n",
    "plt.xticks(np.arange(min(x), max(x)+1, 1.0))\n",
    "plt.show()"
   ]
  },
  {
   "cell_type": "code",
   "execution_count": 47,
   "metadata": {},
   "outputs": [
    {
<<<<<<< HEAD
     "name": "stdout",
     "output_type": "stream",
     "text": [
      "Features: ['engine-size' 'horsepower' 'curb-weight' 'city-mpg']\n",
      "number of neighbors k: 2\n",
      "root mean squared error: 2448.3\n"
     ]
    }
   ],
   "source": [
    "features = six_best_features.keys().values[:4]\n",
    "rmse = multivariate_knn_cross_fold(feature = features, k = 2)\n",
    "\n",
    "print(\"Features: {}\".format(features))\n",
    "print(\"number of neighbors k: {}\".format(2))\n",
    "print(\"root mean squared error: {}\".format(round(rmse,2)))"
   ]
  },
  {
   "cell_type": "markdown",
   "metadata": {},
   "source": [
    "## 6. Conclusões e considerações finais\n",
    "\n",
    "* **Melhores hyperparameters:** Pelo gráfico acima, podemos ver que o melhor modelo seria aquele com k = 2 e com as features engine-size, horsepower, curb-weight, city-mpg e highway-mpg. No entanto, como city-mpg e highway-mpg são muito parecidos (consumo de combustível na cidade e na estrada),o ideal seria utilizar apenas uma das features, sendo assim, **o modelo com 4 features (engine-size, horsepower, curb-weight, city-mpg) e k = 2 é o mais recomendado**.\n",
    "\n",
    "* **Bias vs Variance**: Em um modelo de k-nearest neightbors, a medida que aumentamos o valor de features aumentamos a variância (e diminuímos o bias) do modelo, aumentando a probabilidade de overfitting. Sendo assim, como a diferença entre o modelo de 4 e 5 features foi pequena, temos mais um motivo para usar 4 features. Em relação ao número de vizinhos, k, a medida que aumentamos k aumentamos o bias (e diminuímos a variância). O gráfico acima claramente indica que o erro é menor com k = 2.\n",
    "\n",
    "* **Utilização de K Nearest Neighbors (KNN)**: O uso de KNN faz sentido para esse dataset pois temos poucas linhas (193). Caso tivéssemos muitas linhas precisariamos de usar outro tipo de modelo (como regressão linear), pois o KNN treina o modelo cada vez que precisamos fazer uma estimativa (já que ele precisa de calcular e ordenar as distâncias entre o novo pontos e todo o dataset), o que leva tempo. Em um modelo de regressão linar por exemplo, uma vez treinado podemos facilmente fazer novas previsões (sem precisar rodar o fit novamente).\n"
   ]
=======
     "data": {
      "text/plain": [
       "3051.1607452745693"
      ]
     },
     "execution_count": 47,
     "metadata": {},
     "output_type": "execute_result"
    }
   ],
   "source": [
    "features = six_best_features_cross_fold.keys().values[:4]\n",
    "\n",
    "multivariate_knn_cross_fold(feature = features, k = 5)"
   ]
  },
  {
   "cell_type": "code",
   "execution_count": null,
   "metadata": {},
   "outputs": [],
   "source": []
>>>>>>> b7d667e3219fec2c0c3f3da23e1555d476f416d9
  }
 ],
 "metadata": {
  "kernelspec": {
   "display_name": "Python 3",
   "language": "python",
   "name": "python3"
  },
  "language_info": {
   "codemirror_mode": {
    "name": "ipython",
    "version": 3
   },
   "file_extension": ".py",
   "mimetype": "text/x-python",
   "name": "python",
   "nbconvert_exporter": "python",
   "pygments_lexer": "ipython3",
   "version": "3.8.3"
  }
 },
 "nbformat": 4,
 "nbformat_minor": 4
}
